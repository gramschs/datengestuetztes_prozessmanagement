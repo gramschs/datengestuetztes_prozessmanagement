{
 "cells": [
  {
   "cell_type": "markdown",
   "id": "c61f6519-7437-4243-96e8-f4fb6194b992",
   "metadata": {},
   "source": [
    "# Woche 06 - Dictionary und Pandas \n",
    "\n",
    "Bisher haben wir zum Speichern der Daten die Datentypen Liste und NumPy-Array kennengelernt. Beide haben einen Index, der implizit definiert wird. Damit ist gemeint, dass dieser Index automatisch erzeugt wird und wir keinen Einfluss darauf haben. Der implizite Index ist eine Folge von Integern beginnend mit 0, also 0,1,2, usw. . In diesem Kapitel beschäftigen wir uns mit einem neuen Datentyp, dem sogenannten Dictionary, das einen expliziten Index hat. Für den Zugriff auf Tabellen wie beispielsweise in Excel mit statistischen Auswertungmöglichkeiten, gibt es das Modul Pandas. Dieses Modul wird uns den Rest der Vorlesung begleiten, in diesem Kapitel erfolgt die Einführung.\n",
    "\n",
    "Inhalt dieses Jupyter Notebooks:\n",
    "* Dictionary\n",
    "* Modul Pandas\n",
    "    * eindimensionale Datenreihen Series\n",
    "        * Erzeugung von Series-Objekten\n",
    "        * Zugriff auf Elemente von Series-Objekten\n",
    "        * statistische Kennzahlen \n",
    "    * zweidimensionale Datensammlungen (=Tabellen) DataFrame\n",
    "        * Erzeugung von DataFrame-Objekten\n",
    "        * Zugriff auf Elemente von DataFrame-Objekten\n",
    "        * statistische Kennzahlen\n"
   ]
  },
  {
   "cell_type": "markdown",
   "id": "f37ea82b-8d4c-4664-ae14-578693886abc",
   "metadata": {},
   "source": [
    "## Datentyp Dictionary\n",
    "\n",
    "Die Datentypen, die wir bisher kennengelernt haben, sind sogenannte sequentielle Container. Sie haben einen Index (hier implizit definiert von 0, 1, 2, ...), der geordnet ist. Die Werte, die an diesen Stellen in der Liste oder im NumPy-Array stehen, müssen dabei nicht geordnet sein. Sie müssen ja noch nicht einmal anordbar sein, wie das folgende Beispiel zeigt.\n"
   ]
  },
  {
   "cell_type": "code",
   "execution_count": null,
   "id": "9b8d7a3f-61d4-4bfc-a10e-62d2f9e63553",
   "metadata": {},
   "outputs": [],
   "source": [
    "# generation of list and display of its content\n",
    "example_list = [4.5, -2.1, 'text']\n",
    "for i in range(3):\n",
    "    print('Index {} enthält Wert {}'.format(i, liste[i]))"
   ]
  },
  {
   "cell_type": "code",
   "execution_count": null,
   "id": "c7ed4a9e-bda2-4c50-85a2-7315fab6905f",
   "metadata": {},
   "outputs": [],
   "source": [
    "# direct comparison between 1st and 2nd element is valid\n",
    "4.5 < -2.1"
   ]
  },
  {
   "cell_type": "code",
   "execution_count": null,
   "id": "36ab15b0-d082-4c23-bfa3-e0fa401fb5ea",
   "metadata": {},
   "outputs": [],
   "source": [
    "# direct comparison between 2nd and 3rd element is not valid\n",
    "-2.1 < 'text'"
   ]
  },
  {
   "cell_type": "markdown",
   "id": "80fe1b0e-a641-4576-96f0-b47939126f7d",
   "metadata": {},
   "source": [
    "Die Anordnung des Index ist nett, aber nicht immer notwendig. Stattdessen wäre es manchmal interessanter, einen expliziten Index zu haben, der auch nicht immer eine ganze Zahl sein muss. Beispielsweise könnten wir eine Farbtabelle aufbauen wollen, in der standardisierte Namen von Farben ihre Hex-Werte zugeordnet werden, siehe z.B. hier: https://www.farb-tabelle.de/de/farbtabelle.htm \n",
    "\n",
    "Farbname | Hex-Wert \n",
    "---------|----------\n",
    "DeepSkyBlue | #00BFFF\n",
    "LightBlue | #ADD8E6\n",
    "MediumBlue | #0000CD\n",
    "\n",
    "Mit den uns bisher bekannten Datentypen könnten wir zwei Listen erzeugen. Und wenn wir dann wissen wollen, wie die Farbe eines bestimmten Hex-Wertes, könnten wir den Index des Hex-Wertes ermitteln und diesen Index in die Liste mit den Farbennamen einsetzen, um so die beiden Listen miteinander zu verknüpfen."
   ]
  },
  {
   "cell_type": "code",
   "execution_count": null,
   "id": "d41d9a33-b175-4b98-9345-4cefd450b973",
   "metadata": {},
   "outputs": [],
   "source": [
    "hexwerte  = ['#00BFFF', '#ADD8E6', '#0000CD']\n",
    "farbnamen = ['DeepSkyBlue', 'LightBlue', 'MediumBlue']\n",
    "\n",
    "# Suche den Index der Farbe #0000CD\n",
    "anzahl_farben = len(farbnamen)\n",
    "for i in range(anzahl_farben):\n",
    "    if hexwerte[i] == '#0000CD':\n",
    "        gesuchter_index = i\n",
    "        break\n",
    "print('Der gesuchte Index ist : ', gesuchter_index)\n",
    "\n",
    "# Setze den gefundenen Index in die Liste der Farbnamen ein\n",
    "print('Der gesuchte Farbname ist: ', farbnamen[gesuchter_index])\n"
   ]
  },
  {
   "cell_type": "markdown",
   "id": "92130e72-5813-4bed-9b3a-0f3aef1ae1f6",
   "metadata": {},
   "source": [
    "Um solche Zuordnungen leichter umsetzen zu können, gibt es den Datentyp Dictionary, in Python gekennzeichnet als `dict`. Initialisiert werden Dictionaries durch geschweifte Klammern: { }. Danch wird der Index explizit aufgezählt und mit einem Dopelpunkt kommt der dazugehörige Wert dahinter. Der Zugriff erfolgt dann aber wieder mit den eckigen Klammern `[ ]`.\n",
    "\n",
    "Bemerkung: Bei einem expliziten Index spricht man meist von einem Schlüssel. Das Dictionary enthält also Schlüssel-Werte-Paare, auf Englisch key-value-items. \n",
    "\n",
    "Unsere Farbtabelle könnte folgendermaßen implementiert werden:"
   ]
  },
  {
   "cell_type": "code",
   "execution_count": null,
   "id": "211bafcf-e8f0-4386-8d0a-f298e28cceef",
   "metadata": {},
   "outputs": [],
   "source": [
    "farbtabelle = {'#00BFFF' : 'DeepSkyBlue', '#ADD8E6' : 'LightBlue', '#0000CD' : 'MediumBlue'}\n",
    "\n",
    "print(farbtabelle['#0000CD'])"
   ]
  },
  {
   "cell_type": "markdown",
   "id": "3b14998a-ecce-4d74-8a4a-28083ef2ff0e",
   "metadata": {},
   "source": [
    "**Mini-Übung**   \n",
    "Erzeugen Sie ein Dictionary, bei dem die deutschen Vokalbeln Hund, Katze und Maus der Index/Schlüssel sind und die englischen Begriffe dog, cat und mouse die Werte sind. Geben Sie anschließend den Wert für Katze aus."
   ]
  },
  {
   "cell_type": "code",
   "execution_count": null,
   "id": "b5db51fd-0425-432c-97df-5f40fcafd01e",
   "metadata": {},
   "outputs": [],
   "source": [
    "# Hier Ihr Code:\n",
    "\n"
   ]
  },
  {
   "cell_type": "markdown",
   "id": "1e25a84a",
   "metadata": {},
   "source": [
    "## Pandas\n",
    "\n",
    "Pandas ist eine Bibliothek zur Verarbeitung und Analyse von Daten in Form von Tabellen und Zeitreihen. Die beiden grundlegenden Datenstrukturen sind `Series` und `DataFrame` für Datenreihen und Tabellen.\n",
    "\n",
    "Um das Modul pandas benutzen zu können, müssen wir es zunächst importieren. Es ist üblich, dabei dem Modul eine Abkürzung zu geben, damit wir nicht immer pandas schreiben müssen, wenn wir eine Funktion aus dem pandas-Modul benutzen."
   ]
  },
  {
   "cell_type": "code",
   "execution_count": null,
   "id": "94c3c61a",
   "metadata": {},
   "outputs": [],
   "source": [
    "import pandas as pd # kürze das Modul pandas als pd ab, um Schreibarbeit zu sparen"
   ]
  },
  {
   "cell_type": "markdown",
   "id": "dbbb7dd4",
   "metadata": {},
   "source": [
    "## Series - Datenreihen\n",
    "\n",
    "Die Pandas-Datenstruktur **Series** speichert eine Datenreihe ab, in der Mathematik würde man von einem Vektor sprechen. Ein Series-Objekt kann auch als einzelne Spalte einer Tabelle betrachtet werden. Erzeugt werden kann eine Series beispielsweise direkt aus einer Liste.\n",
    "\n",
    "### Erzeugung von Pandas-Series-Objekten und Attribute"
   ]
  },
  {
   "cell_type": "code",
   "execution_count": null,
   "id": "34c54da8",
   "metadata": {},
   "outputs": [],
   "source": [
    "alter = pd.Series([25, 22, 43, 37])\n",
    "alter"
   ]
  },
  {
   "cell_type": "markdown",
   "id": "1dae7741",
   "metadata": {},
   "source": [
    "Im Gegensatz zum einem Numpy-Array ist der Index von Pandas-Objekten besonders wichtig. Hier ist der Index implizit definiert, weil wir bei der Initialisierung des Objektes ``alter`` keine weiteren Angaben gemacht haben. Daher hat der Python-Interpreter einfach ganze Zahlen von 0 bis 3 für den Index verwendet. \n",
    "\n",
    "Man kann aber auch explizit einen Index angegeben, d.h. wir haben die Vorteile des NumPy-Arrays mit den Vorteilen des Dictionaries kombiniert :-)"
   ]
  },
  {
   "cell_type": "code",
   "execution_count": null,
   "id": "dec42388",
   "metadata": {},
   "outputs": [],
   "source": [
    "alter = pd.Series([25, 22, 43, 30], index=[\"Alice\", \"Bob\", \"Charlie\", \"Dora\"])\n",
    "alter"
   ]
  },
  {
   "cell_type": "markdown",
   "id": "f307d758",
   "metadata": {},
   "source": [
    "Zusätzlich enthält die Datenstruktur noch ein Attribut, den Datentyp der gespeicherten Werte. Auf dieses Attribut kann mit dem Punktoperator zugegegriffen werden."
   ]
  },
  {
   "cell_type": "code",
   "execution_count": null,
   "id": "7bdb1e02",
   "metadata": {},
   "outputs": [],
   "source": [
    "alter.dtype"
   ]
  },
  {
   "cell_type": "markdown",
   "id": "121c6a16-0b9c-4e2b-8d3f-fb614972d877",
   "metadata": {},
   "source": [
    "**Mini-Übung**   \n",
    "Erzeugen Sie ein Series-Objekt mit den Wochentagen als Index und der Anzahl der Vorlesungs/Übungs-Stunden an diesem Wochentag."
   ]
  },
  {
   "cell_type": "code",
   "execution_count": null,
   "id": "e7ac7e58-254c-42d5-8089-9722f8caabd6",
   "metadata": {},
   "outputs": [],
   "source": [
    "# Hier Ihr Code:\n",
    "\n"
   ]
  },
  {
   "cell_type": "markdown",
   "id": "58bbdbdb",
   "metadata": {},
   "source": [
    "Für die Initialisierung des Series-Objektes werden üblicherweise diese drei Möglichkeiten genutzt:\n",
    "* Liste\n",
    "* Numpy-Array\n",
    "* Dictionary\n",
    "\n",
    "Die erste Art der Initialisierung haben wir schon kennengelernt, nämlich die Erzeugung mit einer Liste. Nun schauen wir uns noch die verbleibenden zwei Arten an. Wir erzeugen zunächst ein numpy-Array und konstruieren damit dann ein Series-Objekt."
   ]
  },
  {
   "cell_type": "code",
   "execution_count": null,
   "id": "43988ae7",
   "metadata": {},
   "outputs": [],
   "source": [
    "import numpy as np\n",
    "\n",
    "x_array = np.array([np.pi, 2*np.pi, 3*np.pi, 4*np.pi])\n",
    "x_series = pd.Series(x_array, index=['1mal', '2mal', '3mal', '4mal'])\n",
    "\n",
    "x_series"
   ]
  },
  {
   "cell_type": "markdown",
   "id": "017e07bd-6063-4c4f-93ca-1105320b4e89",
   "metadata": {},
   "source": [
    "**Mini-Übung**   \n",
    "Erzeugen Sie ein Series-Objekt mit den Wochentagen als Index und der Anzahl der Vorlesungs-/Übungsstunden an diesem Wochentag. Verwenden Sie diesmal ein NumPy-Array."
   ]
  },
  {
   "cell_type": "code",
   "execution_count": null,
   "id": "693fd6c3-84c9-4a8a-83d7-8861577374a5",
   "metadata": {},
   "outputs": [],
   "source": [
    "# Hier Ihr Code:\n",
    "\n"
   ]
  },
  {
   "cell_type": "markdown",
   "id": "04af5054",
   "metadata": {},
   "source": [
    "Nun verwenden wir ein Dictionary. Die Verwendung des Dictionaries hat den Vorteil, dass die Schlüssel direkt als Index wiederverwertet und somit ein expliziter Index vorliegt."
   ]
  },
  {
   "cell_type": "code",
   "execution_count": null,
   "id": "e98ae96b",
   "metadata": {},
   "outputs": [],
   "source": [
    "d_dictionary = {'1mal': np.pi, '2mal': 2*np.pi, '3mal': 3*np.pi, '4mal': 4*np.pi}\n",
    "d_series = pd.Series(d_dictionary)\n",
    "\n",
    "d_series"
   ]
  },
  {
   "cell_type": "markdown",
   "id": "f361ce25-71b6-47fc-8390-cd5a2623b780",
   "metadata": {},
   "source": [
    "**Mini-Übung**   \n",
    "Erzeugen Sie ein Series-Objekt mit den Wochentagen als Index und der Anzahl der Vorlesungs-/Übungsstunden an diesem Wochentag. Verwenden Sie diesmal ein Dictionary.\n"
   ]
  },
  {
   "cell_type": "code",
   "execution_count": null,
   "id": "7a996737-089e-46eb-8bb4-76c6791e4e68",
   "metadata": {},
   "outputs": [],
   "source": [
    "# Hier Ihr Code:\n",
    "\n"
   ]
  },
  {
   "cell_type": "markdown",
   "id": "5d4db0e1",
   "metadata": {},
   "source": [
    "Neben dem Attribut ``.dtype`` hat ein Series-Objekt noch weitere Attribute, um die Eigenschaften zu beschreiben. Am wichtigsten sind der Index ``.index`` und die rohen Daten, also Werte der Datenreihe ``.value``."
   ]
  },
  {
   "cell_type": "code",
   "execution_count": null,
   "id": "cf1fb8d1",
   "metadata": {},
   "outputs": [],
   "source": [
    "d_series.index"
   ]
  },
  {
   "cell_type": "code",
   "execution_count": null,
   "id": "fd551556",
   "metadata": {},
   "outputs": [],
   "source": [
    "d_series.values"
   ]
  },
  {
   "cell_type": "code",
   "execution_count": null,
   "id": "6fa1080a",
   "metadata": {},
   "outputs": [],
   "source": [
    "d_series"
   ]
  },
  {
   "cell_type": "markdown",
   "id": "1049c6a5-034f-4860-9f66-9b6245d65110",
   "metadata": {},
   "source": [
    "**Mini-Übung**   \n",
    "Erzeugen Sie ein Pandas-Series-Objekt mit den Monaten als Index und der Anzahl der Tage in diesem Monat als Daten."
   ]
  },
  {
   "cell_type": "code",
   "execution_count": null,
   "id": "a7241e6e-3f32-45ff-8901-36d863ee92f6",
   "metadata": {},
   "outputs": [],
   "source": [
    "# Hier Ihr Code:\n",
    "\n"
   ]
  },
  {
   "cell_type": "markdown",
   "id": "59320e00",
   "metadata": {},
   "source": [
    "### Zugriff auf Zellen mit loc\n",
    "\n",
    "Im Folgenden betrachten wir verschiedene Möglichkeiten, um auf die Werte in einer Zelle zuzugreifen. Wir werden uns vier Möglichkeiten ansehen:\n",
    "* Zugriff auf eine einzelne Zeile, indem ein Index spezifiziert wird\n",
    "* Zugriff auf mehrere Zeilen, indem eine Liste von Indizes übergeben wird\n",
    "* Zugriff auf mehrere zusammenhängende Zeilen, indem ein Slice von Indizes übergeben wird\n",
    "* Zugriff auf mehrere Zeilen, indem eine Liste mit True/False übergeben wird."
   ]
  },
  {
   "cell_type": "code",
   "execution_count": null,
   "id": "3229415b",
   "metadata": {},
   "outputs": [],
   "source": [
    "alter = pd.Series([25, 22, 43, 30], index=[\"Alice\", \"Bob\", \"Charlie\", \"Dora\"])\n",
    "alter"
   ]
  },
  {
   "cell_type": "markdown",
   "id": "85d371e8",
   "metadata": {},
   "source": [
    "Zunächst greifen wir eine einzelne Zeile heraus. Dazu benutzen wir das Attribut ``.loc`` und spezifizieren mit eckigen Klammern den Index der Zeile, also ``.loc[index]``. Anders als bei den folgenden drei Zugriffsmöglichkeiten, wird nur der Wert der Daten in der Zeile zurückgeliefert, nicht aber der dazugehörige Index."
   ]
  },
  {
   "cell_type": "code",
   "execution_count": null,
   "id": "ebd21e16",
   "metadata": {},
   "outputs": [],
   "source": [
    "alter.loc['Alice']"
   ]
  },
  {
   "cell_type": "code",
   "execution_count": null,
   "id": "2d05da30",
   "metadata": {},
   "outputs": [],
   "source": [
    "alter.loc['Dora']"
   ]
  },
  {
   "cell_type": "markdown",
   "id": "baa0fa88",
   "metadata": {},
   "source": [
    "Nun erzeugen wir eine Liste von Indizes. Danach können wir aus dem Pandas-Series-Objekt per ``.loc[liste]`` auf mehrere Zeilen zugreifen. "
   ]
  },
  {
   "cell_type": "code",
   "execution_count": null,
   "id": "2e43e0ba",
   "metadata": {},
   "outputs": [],
   "source": [
    "frauen  = ['Alice', 'Dora']\n",
    "alter.loc[frauen]\n"
   ]
  },
  {
   "cell_type": "markdown",
   "id": "bc8797d2-9887-4b67-bb5a-6b6b6bf57651",
   "metadata": {},
   "source": [
    "**Mini-Übung:**   \n",
    "Erzeugen Sie analog zu dem obigen Beispiel eine Liste der Männer und geben Sie das Alter der Männer aus."
   ]
  },
  {
   "cell_type": "code",
   "execution_count": null,
   "id": "893fdefb-583c-4d24-9ee5-5b11e09e15ac",
   "metadata": {},
   "outputs": [],
   "source": [
    "# Hier Ihr Code\n",
    "\n"
   ]
  },
  {
   "cell_type": "markdown",
   "id": "949ce27c",
   "metadata": {},
   "source": [
    "Als dritte Möglichkeit betrachten wir einen Slice, also das Herausschneiden eines zusammenhängenden Stückes aus dem Pandas-Series-Objekt. Dazu spezifizieren wir den Start- und den stoppindex mit einem Doppelpunkt dazwischen, also ``.loc[startindex : stoppindex]``. Das Herausschneiden von zusammenhängenden Teilobjekten wird auch als **Slicing** bezeichnet."
   ]
  },
  {
   "cell_type": "code",
   "execution_count": null,
   "id": "3398f743",
   "metadata": {},
   "outputs": [],
   "source": [
    "alter.loc['Bob': 'Dora']"
   ]
  },
  {
   "cell_type": "markdown",
   "id": "0a71c634",
   "metadata": {},
   "source": [
    "Als letzte Möglichkeit, um auf Zeilen in dem Pandas-Series-Objekt zuzugreifen, betrachten wir die Übergabe eine Liste mit True/False-Werten."
   ]
  },
  {
   "cell_type": "code",
   "execution_count": null,
   "id": "7d43ffbc",
   "metadata": {},
   "outputs": [],
   "source": [
    "filter = [True, False, False, True]\n",
    "alter.loc[filter]"
   ]
  },
  {
   "cell_type": "markdown",
   "id": "b446b3ab",
   "metadata": {},
   "source": [
    "Letztere Möglichkeit wird vor allem dazu genutzt, Daten nach Eigenschaften zu filtern. Ein simpler Vergleich des Pandas-Series-Objektes beispielsweie erzeugt solche True/False-Objekte, die dann in einem zweiten Schritt genutzt werden können, um das Pandas-Series-Objekt zu filtern. "
   ]
  },
  {
   "cell_type": "code",
   "execution_count": null,
   "id": "22e883ac",
   "metadata": {},
   "outputs": [],
   "source": [
    "filter = alter < 28\n",
    "alter.loc[filter]"
   ]
  },
  {
   "cell_type": "markdown",
   "id": "5f9be32b",
   "metadata": {},
   "source": [
    "Nachdem wir nun gelernt haben, wie auf einzelne Element des Pandas-Series-Objektes zugegriffen wird, können wir Daten auch manipulieren. Beispielsweise ist Charlie gar nicht 43 Jahre alt, sondern nur 42. Wir weisen dem Objekt ``alter`` für den Index ``'Charlie'``einen neuen Wert zu:"
   ]
  },
  {
   "cell_type": "code",
   "execution_count": null,
   "id": "bd5e0925",
   "metadata": {},
   "outputs": [],
   "source": [
    "alter.loc['Charlie'] = 42\n",
    "alter"
   ]
  },
  {
   "cell_type": "markdown",
   "id": "2e64e16c",
   "metadata": {},
   "source": [
    "Oder wir wählen alle Frauen aus und machen sie drei Jahre jünger ;-)"
   ]
  },
  {
   "cell_type": "code",
   "execution_count": null,
   "id": "bd5e5773",
   "metadata": {},
   "outputs": [],
   "source": [
    "print(alter)\n",
    "alter.loc[ ['Alice', 'Dora']] = alter.loc[ ['Alice', 'Dora']] - 3\n",
    "alter"
   ]
  },
  {
   "cell_type": "markdown",
   "id": "fd029918",
   "metadata": {},
   "source": [
    "### Einfache statistische Informationen zu Pandas-Series-Objekten bestimmen\n",
    "\n",
    "Pandas ist ein Modul zur statistischen Auswertung von Daten. Daher ermöglicht es in einfacher Weise, die wichtigsten statistischen Informationen auszuwerten. Im Folgenden schauen wir uns\n",
    "\n",
    "* Summe ``.sum()``\n",
    "* Mittelwert ``.mean()``\n",
    "* Standardabweichung ``.std()``\n",
    "* Zusammenfassung ``.describe()``\n",
    "* Plots (diskrete und kontinuierliche Daten) ``.plot(kind='line')`` und ``.plot(kind='bar')`` \n",
    "\n",
    "an.\n",
    "\n",
    "Wie Sie sicherlich vermuten, berechnet die Methode ``.sum()`` die Summe aller Einträge im Pandas-Series-Objekt. Gehen wir davon aus, dass die Einträge in dem Objekt ``alter`` nun\n",
    "\n",
    "```\n",
    "Alice   28\n",
    "Bob     22\n",
    "Charlie 42\n",
    "Dora    33\n",
    "````\n",
    "\n",
    "lauten. Dann ist die Summe $28 + 22 + 42 + 33 = 125$. Der Mittelwert ``.mean()`` ist die Summe geteilt durch die Anzahl der Einträge, also $m = 125/4 = 31.25$. Die Standardabweichung gibt an, wie stark die einzelnen Werte vom Mittelwert abweichen. Die mathematische Formel zur Berechnung der Standardabweichung lautet:\n",
    "\n",
    "$$\\sigma = \\frac{1}{N-1} \\sqrt{\\sum_{i=0}^{N} (x_i - m)^2}.$$\n",
    "\n",
    "Somit ist die Standardabweichung in unserem Beispiel $\\sigma = \\sqrt{\\frac{1}{3} \\left( (28-31.25)^2 + (22-31.25)^2 + (42-31.25)^2 + (33-31.25)^2 \\right)} = 8.4606...$ .\n",
    "\n",
    "Durch den Aufruf der Methode ``.describe()`` erhalten Sie eine Übersicht über die wichtigsten statistischen Kennwerte des Pandas-Series-Objektes.\n",
    "\n",
    "Kommen wir noch zu den Plots. Mit einem Plots ist die Visualisierung einer Datenreihe gemeint. Wenn die Daten kontinuierlich sind, werden die Datenpunkte üblicherweise mit einer Linie verbunden. Mit kontinuierlich ist gemeint, dass man beispielsweise jede Sekunde eine Messung der Temperatur durchführt, aber zwischen den Sekunden ist die Temperatur ja nicht verschwunden. Zwischen $t = 2 s$ und $t = 3 s$ liegt eigentlich $t = 2.5 s$. Wir nehmen an, dass zwischen dem Zeitpunkt $t = 2 s$ und $t = 3 s$ die Temperatur linear verläuft und dürfen deshlab im Plot die Datenpunkt mit einer Linie verbinden. Anders ist es bei diskreten Daten. Zwischen dem Alter von Alice und dem Alter von Bob liegt nichts dazwischen. Daher können diese Datenpunkte auch nicht mit einer Linie verbunden werden. Daher werden diskrete Daten als Balkendiagramme visualisiert. Die Plots werden mit der Methode ``.plot()`` erzeugt. Standardmäßig ist der Linienplot voreingestellt, also eigentlich die Option ``.plot(kind='line')``. Diskrete Daten mit Balkendiagrammen werden mit der Methode ``.plot(kind='bar')`` erzeugt.  \n",
    "\n"
   ]
  },
  {
   "cell_type": "code",
   "execution_count": null,
   "id": "5bf38a4e",
   "metadata": {},
   "outputs": [],
   "source": [
    "summe = alter.sum()\n",
    "mittelwert = alter.mean()\n",
    "stndardabweichung = alter.std()\n",
    "\n",
    "print('Die Summe ist ', summe)\n",
    "print('Der Mittelwert ist ', mittelwert)\n",
    "print('Die Standardabweichung ist ', stndardabweichung)\n",
    "print('Zusammenfassung: ', alter.describe())\n",
    "\n",
    "alter.plot(kind='bar')\n"
   ]
  },
  {
   "cell_type": "markdown",
   "id": "7d5e22c8",
   "metadata": {},
   "source": [
    "**Mini-Übung (10 min):** \n",
    "\n",
    "Die folgende Tabelle zeigt die Einwohnerzahlen der deutschen Bundesländer in Millionen Einwohner. \n",
    "\n",
    "```\n",
    "Baden-Württemberg       11.07\n",
    "Bayern                  13.077\n",
    "Berlin                  3.645\n",
    "Brandenburg             2.512\n",
    "Bremen                  0.683\n",
    "Hamburg                 1.841\n",
    "Hessen                  6.266\n",
    "Mecklenburg-Vorpommern  1.61\n",
    "Niedersachsen           7.982\n",
    "Nordrhein-Westfalen     17.933\n",
    "Rheinland-Pfalz         4.085\n",
    "Saarland                0.991\n",
    "Sachsen                 4.078\n",
    "Sachsen-Anhalt          2.208\n",
    "Schleswig-Holstein      2.897\n",
    "Thüringen               2.143\n",
    "```\n",
    "\n",
    "1. Erzeugen Sie ein passendes Pandas-Series-Objekt.\n",
    "2. Berechnen Sie die wichtigsten statistischen Informationen wie Summe, Mittelwert, Standardabweichung und plotten Sie die Daten.\n",
    "3. Wie viele Bundesländer liegen über dem Mittelwert? Filtern Sie dazu die Tabelle und lassen Sie die gefilterte Tabelle ausgeben.\n",
    "4. Recherchieren Sie im Internet, wie man das Pandas-Series-Objekt nach der Einwohnerzahl sortiert -- vom kleinsten zum größten Bundesland."
   ]
  },
  {
   "cell_type": "code",
   "execution_count": null,
   "id": "435ddee2-c04f-4c86-a7ff-d54856ccd802",
   "metadata": {},
   "outputs": [],
   "source": [
    "# Hier Ihr Code\n",
    "\n"
   ]
  },
  {
   "cell_type": "code",
   "execution_count": null,
   "id": "cb74e978-8a2a-4649-814d-e30eb4622ec1",
   "metadata": {},
   "outputs": [],
   "source": []
  },
  {
   "cell_type": "markdown",
   "id": "07490235",
   "metadata": {},
   "source": [
    "## DataFrames\n",
    "\n",
    "Ein DataFrame-Objekt entspricht einer Tabelle, wie man sie beispielsweise von Excel, LibreOffice oder Numbers kennt. Sowohl Zeile als auch Spalten sind normalerweise indiziert. Typischerweise werden die Daten in der Tabelle zeilenweise angeordnet. Damit ist gemeint, dass jede Zeile einen Datensatz darstellt und in den Spalten die Daten zu den Parametern sind.\n",
    "\n",
    "Ein DataFrame kann direkt über mehrere Pandas-Series-Objekte oder verschachtelte Listen/Dictionaries erzeugt werden. Im Folgenden betrachten wir die beiden Möglichkeiten\n",
    "\n",
    "* Erzeugung eines DataFrame-Objektes aus einem Numpy-Array\n",
    "* Erzeugung eines DataFrame-Objektes aus einem Dictionary von Series-Objekten\n",
    "\n",
    "In der Praxis am häufigsten ist jedoch der Fall, dass das Pandas-DataFrame-Objekt aus einer Datei importiert wird.\n",
    "\n",
    "Fangen  wir also mit der ersten Möglichkeit an. Wir nutzen ein zweidimensionales Numpy-Array und fügen einen Index für die Zeilen und einen Index für die Spalten hinzu. Damit es nicht zu Verwechslungen bei den Bezeichnungen kommt, wird der Index für die Spalten als **columns** bezeichnet."
   ]
  },
  {
   "cell_type": "code",
   "execution_count": null,
   "id": "14179450",
   "metadata": {},
   "outputs": [],
   "source": [
    "daten_array = np.random.randn(5,3)\n",
    "daten = pd.DataFrame(daten_array, index= ['Montag', 'Dienstag', 'Mittwoch', 'Donnerstag', 'Freitag'], columns=['x', 'y', 'z'])\n",
    "\n",
    "daten\n"
   ]
  },
  {
   "cell_type": "markdown",
   "id": "d41bce83",
   "metadata": {},
   "source": [
    "Nun betrachten wir die zweite Art, ein Pandas-DataFrame-Objekt zu erzeugen. Dazu brauchen wir aber erst einmal zwei Pandas-Series-Objekte."
   ]
  },
  {
   "cell_type": "code",
   "execution_count": null,
   "id": "e29dadb1",
   "metadata": {},
   "outputs": [],
   "source": [
    "alter = pd.Series({\"Alice\" : 25, \"Bob\" : 22, \"Charlie\" : 43, \"Dora\" : 30})\n",
    "stadt = pd.Series({\"Alice\" : \"Mannheim\", \"Bob\" : \"Frankfurt\", \"Charlie\" : \"Ludwigshafen\", \"Dora\" : \"Kaiserslautern\"})\n",
    "\n",
    "print(alter)\n",
    "print(stadt)"
   ]
  },
  {
   "cell_type": "markdown",
   "id": "1fdc007c",
   "metadata": {},
   "source": [
    "Wir möchten jetzt eine Tabelle erzeugen, bei der die Namen Alice, Bob, Charlie und Dora die Indizes sind. In der ersten Spalte soll das Alter dieser Personen stehen, in der zweiten Spalte ihre Wohnorte. Wir generieren als erstes ein Dictionary und initialisieren das Pandas-DataFrame-Objekt dann mit diesem Dictionary."
   ]
  },
  {
   "cell_type": "code",
   "execution_count": null,
   "id": "c667eb6b",
   "metadata": {},
   "outputs": [],
   "source": [
    "personen_dictionary = {'Alter': alter, 'Wohnort': stadt}\n",
    "personen = pd.DataFrame(personen_dictionary)\n",
    "\n",
    "personen"
   ]
  },
  {
   "cell_type": "markdown",
   "id": "68eb6d3b",
   "metadata": {},
   "source": [
    "Was passiert eigentlich, wenn die Indizes vom ersten Series-Objekt nicht mit den Indizes des zweiten Series-Objektes zusammenpassen? "
   ]
  },
  {
   "cell_type": "code",
   "execution_count": null,
   "id": "68a72949",
   "metadata": {},
   "outputs": [],
   "source": [
    "alter = pd.Series({\"Alice\" : 25, \"Bob\" : 22, \"Dora\" : 30, \"Emil\": 43})\n",
    "stadt = pd.Series({\"Alice\" : \"Mannheim\", \"Bob\" : \"Frankfurt\", \"Charlie\" : \"Ludwigshafen\", \"Dora\" : \"Kaiserslautern\"})\n",
    "\n",
    "print(alter)\n",
    "print(stadt)"
   ]
  },
  {
   "cell_type": "code",
   "execution_count": null,
   "id": "47d9db38",
   "metadata": {},
   "outputs": [],
   "source": [
    "personen = pd.DataFrame({'Alter': alter, 'Wohnort': stadt})\n",
    "personen"
   ]
  },
  {
   "cell_type": "markdown",
   "id": "8727eab1",
   "metadata": {},
   "source": [
    "``NaN`` ist in der Informatik die Abkürzung für **Not a Number** und wird immer dann verwendet, wenn ein Wert nicht definiert ist. NaNs werden uns noch sehr häufig beschäftigen, da es regelmäßig vorkommt, dass Daten fehlen und das Fehlen der Daten durch ``NaN`` angezeigt wird.\n",
    "\n",
    "Wie können wir nun die fehlenden Werte berichtigen? Wie bei den Pandas-Serien-Objekten können wir über das Attribut ``.loc[]`` auf Zellen des Pandas-DataFrame-Objektes zugreifen."
   ]
  },
  {
   "cell_type": "code",
   "execution_count": null,
   "id": "8c8313c6",
   "metadata": {},
   "outputs": [],
   "source": [
    "personen.loc['Charlie', 'Alter'] = 43\n",
    "personen"
   ]
  },
  {
   "cell_type": "code",
   "execution_count": null,
   "id": "52187537",
   "metadata": {},
   "outputs": [],
   "source": [
    "personen.loc['Emil', 'Wohnort'] = 'Darmstadt'\n",
    "personen"
   ]
  },
  {
   "cell_type": "markdown",
   "id": "68d200f6",
   "metadata": {},
   "source": [
    "Auch der lesende Zugriff erfolgt analog zu den Zugriffsmöglichkeiten bei Pandas-Series-Objekten."
   ]
  },
  {
   "cell_type": "code",
   "execution_count": null,
   "id": "a5d802e0",
   "metadata": {},
   "outputs": [],
   "source": [
    "tmp = personen.loc['Charlie', 'Wohnort']\n",
    "print(tmp)"
   ]
  },
  {
   "cell_type": "markdown",
   "id": "e9722297",
   "metadata": {},
   "source": [
    "Auf einen zusammenhängenden Bereich wird durch Slicing zugegriffen. Dabei kann das Slicing für die Zeilen (index), die Spalten (columns) oder beides benutzt werden."
   ]
  },
  {
   "cell_type": "code",
   "execution_count": null,
   "id": "c3bd8798",
   "metadata": {},
   "outputs": [],
   "source": [
    "tmp = personen.loc['Bob' : 'Dora', 'Alter']\n",
    "print(tmp)"
   ]
  },
  {
   "cell_type": "code",
   "execution_count": null,
   "id": "0ebaaf59",
   "metadata": {},
   "outputs": [],
   "source": [
    "tmp = personen.loc['Bob', 'Alter':'Wohnort']\n",
    "print(tmp)"
   ]
  },
  {
   "cell_type": "markdown",
   "id": "f0255556",
   "metadata": {},
   "source": [
    "Beim Slicing können wir den Startwert oder den Stoppwerrt oder beides weglassen. Wenn wir den  Startwert weglassen, fängt der Slice von vorne an. Lassen wir den Stoppert weg, geht der Slice bis zum Ende. Das nutzen wir, um auf eine ganze Spalte zuzugreifen:\n"
   ]
  },
  {
   "cell_type": "code",
   "execution_count": null,
   "id": "d2f0ad57",
   "metadata": {},
   "outputs": [],
   "source": [
    "tmp = personen.loc[ 'Bob' , :]\n",
    "print(tmp)"
   ]
  },
  {
   "cell_type": "markdown",
   "id": "da0de5ec",
   "metadata": {},
   "source": [
    "Sollen dahingegen mehrere Zellen gleichzeitig ausgewählt werden, die nicht zusammenhängen, benutzt man Listen. Wiederum können die Listen für den index oder die columns oder beides gemischt spezifiziert werden."
   ]
  },
  {
   "cell_type": "code",
   "execution_count": null,
   "id": "81417844",
   "metadata": {},
   "outputs": [],
   "source": [
    "tmp = personen.loc[ ['Bob', 'Dora','Emil'] , 'Alter']\n",
    "print(tmp)"
   ]
  },
  {
   "cell_type": "markdown",
   "id": "66ddc06e",
   "metadata": {},
   "source": [
    "Als nächstes fügen wir unserer Personen-Tabelle eine neue Spalte hinzu. In der neuen Spalte soll die Note der letzten Klausur stehen. Dazu erzeugen wir zunächst wieder einmal ein Pandas-Series-Objekt. Danach weisen wir das Series-Objekt dem DataFrame-Objekt spalten weise zu, indem wir den neuen Namen dem ``.loc``-Attribut mitgeben.\n"
   ]
  },
  {
   "cell_type": "code",
   "execution_count": null,
   "id": "1317a14f",
   "metadata": {},
   "outputs": [],
   "source": [
    "note = pd.Series({'Alice': 1.3, 'Bob': 3.7, 'Charlie': 2.0, 'Dora': 1.7, 'Emil': 5.0})\n",
    "note\n"
   ]
  },
  {
   "cell_type": "code",
   "execution_count": null,
   "id": "97f84139",
   "metadata": {},
   "outputs": [],
   "source": [
    "personen.loc[:, 'Note'] = note\n",
    "personen"
   ]
  },
  {
   "cell_type": "markdown",
   "id": "3314a0c3-0539-499e-8ce1-4e5edb1a5e9f",
   "metadata": {},
   "source": [
    "**Mini-Übung**   \n",
    "\n",
    "Der folgende Datensatz stammt von Kaggle, siehe https://www.kaggle.com/rajatrc1705/bundesliga-top-7-teams-offensive-stats?select=bundesliga_top7_offensive.csv . Er enthält die Spielerdaten zu den Top7-Fußballvereinen der Bundesligasaison 2020/21. Laden Sie ihn mit dem Befehl\n",
    "\n",
    "> data = pd.read_csv('part06_data/bundesliga_top7_offensive.csv', index_col=0)\n",
    "\n",
    "Zur Information, die Spaltennamen sind : Name, Club, Nationality, Position, Age, Matches, Starts, Mins, Goals, Assists, Penalty_Goals, Penalty_Attempted, xG, xA, Yellow_Cards, Red_Cards.\n",
    "\n",
    "* Zeigen Sie zunächst den Inhalt der eingelesenen Daten an. Benutzten Sie dazu den Befehl\n",
    "> data.head(10)\n",
    "um die ersten 10 Zeilen anzuzeigen.\n",
    "\n",
    "* Anschließend zeigen Sie das Alter aller Eintracht Frankfurt Spieler an. Der Index beginnt bei Kevin Trapp und endet Ragnar Ache, die Spalte heißt 'Age'.\n",
    "\n",
    "* Zuletzt zeigen Sie die roten und gelben Karten von Maximilian Arnold an."
   ]
  },
  {
   "cell_type": "code",
   "execution_count": null,
   "id": "18a4181c-45e3-46a7-928b-c3f67f918613",
   "metadata": {},
   "outputs": [],
   "source": [
    "# Hier Ihr Code\n",
    "\n"
   ]
  },
  {
   "cell_type": "markdown",
   "id": "bdc9d2b9",
   "metadata": {},
   "source": [
    "### Statistische Kennzahlen eines Pandas-DataFrame-Objektes\n",
    "\n",
    "Analog zu den statistischen Kennzahlen bei Series-Objekten gibt auch hier einige Methoden zur Beschreibung des Datensatzes. Wir beschäftigen uns im Folgenden mit\n",
    "\n",
    "* ``.info()``\n",
    "* ``.describe()``\n",
    "* ``.sum()``\n",
    "* ``.mean()``\n",
    "* ``.std()``\n",
    "* ``.min()``\n",
    "* ``.max()``\n",
    "* ``.plot(kind='line')``\n",
    "* ``.plot(kind='bar)``"
   ]
  },
  {
   "cell_type": "code",
   "execution_count": null,
   "id": "a42e24ce",
   "metadata": {},
   "outputs": [],
   "source": [
    "alter = pd.Series({\"Alice\" : 25, \"Bob\" : 22, \"Charlie\": 19, \"Dora\" : 30, \"Emil\": 43})\n",
    "stadt = pd.Series({\"Alice\" : \"Mannheim\", \"Bob\" : \"Frankfurt\", \"Charlie\" : \"Ludwigshafen\", \"Dora\" : \"Kaiserslautern\", \"Emil\": \"Darmstadt\"})\n",
    "note  = pd.Series({'Alice': 1.3, 'Bob': 3.7, 'Charlie': 2.0, 'Dora': 1.7, 'Emil': 5.0})\n",
    "\n",
    "personen = pd.DataFrame({'Alter': alter, 'Wohnort': stadt, 'Note': note})\n",
    "personen"
   ]
  },
  {
   "cell_type": "code",
   "execution_count": null,
   "id": "092bd88f",
   "metadata": {},
   "outputs": [],
   "source": [
    "personen.info()"
   ]
  },
  {
   "cell_type": "code",
   "execution_count": null,
   "id": "bff34812",
   "metadata": {},
   "outputs": [],
   "source": [
    "personen.describe()"
   ]
  },
  {
   "cell_type": "code",
   "execution_count": null,
   "id": "17f57e3b",
   "metadata": {},
   "outputs": [],
   "source": [
    "personen.sum()"
   ]
  },
  {
   "cell_type": "code",
   "execution_count": null,
   "id": "8b9de285",
   "metadata": {},
   "outputs": [],
   "source": [
    "personen.mean()"
   ]
  },
  {
   "cell_type": "code",
   "execution_count": null,
   "id": "bf22c2a3",
   "metadata": {},
   "outputs": [],
   "source": [
    "personen.std()"
   ]
  },
  {
   "cell_type": "code",
   "execution_count": null,
   "id": "f2ded68b",
   "metadata": {},
   "outputs": [],
   "source": [
    "personen.min()"
   ]
  },
  {
   "cell_type": "code",
   "execution_count": null,
   "id": "542877b4",
   "metadata": {},
   "outputs": [],
   "source": [
    "personen.max()"
   ]
  },
  {
   "cell_type": "code",
   "execution_count": null,
   "id": "baec8be0",
   "metadata": {},
   "outputs": [],
   "source": [
    "personen.plot(kind='bar')"
   ]
  },
  {
   "cell_type": "code",
   "execution_count": null,
   "id": "c6f7afbf",
   "metadata": {},
   "outputs": [],
   "source": [
    "personen.plot(kind='line')"
   ]
  },
  {
   "cell_type": "markdown",
   "id": "c566faf7-a5bf-4553-ab4f-a89eacdd2960",
   "metadata": {},
   "source": [
    "**Mini-Übung:**   \n",
    "\n",
    "Laden Sie - falls nicht schon geschehen - den Datensatz zu den Top7 der Fußball-Bundesliga 2020/21. Beantworten Sie folgende Fragen:\n",
    "\n",
    "* Welcher Spieler war in dieser Saison der jüngste und wie heißt er?\n",
    "* Bei welchem Verein spielt der älteste Spieler?\n",
    "* Filtern Sie den Datensatz nach einem der Vereine ('Bayern Munich', 'Borussia Dortmund', 'RB Leipzig', 'Wolfsburg', 'Eintracht Frankfurt', 'Bayer Leverkusen', 'Union Berlin').\n",
    "* Lassen Sie sich die Infos dieses Vereines ausgeben. Wie viele Spieler spielten in diesem Verein?\n",
    "* Wer hat die meisten Minuten gespielt? Sortieren Sie das DataFrame-Objekt nach der Anzahl der Minuten und visualisieren Sie die Minuten pro Spieler sortiert.\n",
    "* Visualisieren Sie die Anzahl der Tore? Linienplot oder Barplot?\n",
    "* Was ist das mittlere Alter der Spieler?"
   ]
  },
  {
   "cell_type": "code",
   "execution_count": null,
   "id": "032a7f23-f721-4770-ac56-73516a2122c5",
   "metadata": {},
   "outputs": [],
   "source": [
    "# Hier Ihr Code\n",
    "\n"
   ]
  },
  {
   "cell_type": "markdown",
   "id": "63219d0d",
   "metadata": {},
   "source": [
    "# Aufgaben\n"
   ]
  },
  {
   "cell_type": "markdown",
   "id": "e98017be-629f-4a40-9dff-b131b204d1d6",
   "metadata": {},
   "source": [
    "<div class=\"alert alert-block alert-success\">\n",
    "<b>Aufgabe 6.1: Quadratzahlen </b> \n",
    "\n",
    "Erzeugen Sie ein Pandas-Series-Objekt mit den Zahlen von 1 bis 100 als Index und den Quadratzahlen von 1 bis 100 als Daten. Würden Sie als Initialisierungsmethode ein Dictionary verwenden?\n",
    "</div>"
   ]
  },
  {
   "cell_type": "markdown",
   "id": "03ca9d94-db43-4c7f-8541-c42c0bf99464",
   "metadata": {},
   "source": [
    "<div class=\"alert alert-block alert-success\">\n",
    "<b>Aufgabe 6.2: Ergebnisse Bundesliga 2020/21 </b> \n",
    "\n",
    "Recherchieren Sie im Internet nach den Ergebnissen der Fußball-Bundesliga (Männer) der Spielsaison 2020/21. Erzeugen Sie ein Pandas-Series-Objekt mit den Vereinsnamen als Index und den Punkten als Daten. Welche Initialisierungsmethode Liste, Numpy-Array oder Dictionary bietet sich hier an?\n",
    "    \n",
    "1. Berechnen Sie den Mittelwert und die Standardabweichung der Punkte.\n",
    "2. Plotten Sie die Punkte -- Linienplot oder Balkendiagramm?\n",
    "3. Filtern Sie alle Vereine heraus, die echt weniger (<) als 40 Punkte erzielt haben .\n",
    "    * Welch Vereine sind dies?\n",
    "    * Wie findet man heraus, wie viele Vereine es sind?\n",
    "    * Berechnen Sie die Summe der Punkte dieser Vereine.\n",
    "    * Berechnen Sie die Summe der Punkte der Top3-Vereine, wer hat mehr Punkte erzielt?\n",
    "</div>"
   ]
  },
  {
   "cell_type": "markdown",
   "id": "14cc33ea-2017-426b-bafb-dcf6e0616b31",
   "metadata": {},
   "source": [
    "<div class=\"alert alert-block alert-success\">\n",
    "<b>Aufgabe 6.3: Bundestagswahlen Hessen </b> \n",
    "\n",
    "Auf der Internetseite https://statistik.hessen.de/zahlen-fakten/wahlen/tabellen finden Sie eine Tabelle mit den Ergebnissen der \"Bundestagswahlen in Hessen 1949 — 2017\". Laden Sie die Excel-Tabelle herunter und erzeugen Sie ein Pandas-Series-Objekt mit dem Index Datum und den Werten Wahlbeteiligung.\n",
    "\n",
    "Beantworten Sie folgende Fragen:\n",
    "* Wie viele Bundestagswahlen haben stattgefunden?\n",
    "* Wie hoch war bisher die durchschnittliche Wahlbeteiligung?\n",
    "* In welchem Jahr war die Wahlbeteiligung am niedrigsten? Tipp: Recherchieren Sie im Internet nach der Methode ``.min()`` und filtern Sie das Datenobjekt.\n",
    "* Visualisieren Sie die Wahlbeteiligung. Gibt es einen Trend?\n",
    "</div>"
   ]
  },
  {
   "cell_type": "markdown",
   "id": "4361f1fe-b1cc-4a13-b43d-b7d71b6f78a2",
   "metadata": {},
   "source": [
    "<div class=\"alert alert-block alert-success\">\n",
    "<b>Aufgabe 6.4: Beschäftigung im Maschinenbau </b> \n",
    "\n",
    "Und hier die nächste Statistik (Quelle: https://de.statista.com/statistik/daten/studie/30821/umfrage/beschaeftigte-im-maschinenbau-in-deutschland-seit-1991/#professional). Die Tabelle zeigt die Anzahl der Beschäftigten pro 1000 Personen im Maschinenbau (Deutschland) für die Jahre 1991 bis 2020. \n",
    "    \n",
    "```\n",
    "1991\t1386\n",
    "1992\t1219\n",
    "1993\t1065\n",
    "1994\t946\n",
    "1995\t934\n",
    "1996\t897\n",
    "1997\t891\n",
    "1998\t899\n",
    "1999\t889\n",
    "2000\t899\n",
    "2001\t901\n",
    "2002\t899\n",
    "2003\t874\n",
    "2004\t866\n",
    "2005\t864\n",
    "2006\t885\n",
    "2007\t935\n",
    "2008\t945\n",
    "2009\t939\n",
    "2010\t908\n",
    "2011\t948\n",
    "2012\t971\n",
    "2013\t986\n",
    "2014\t1004\n",
    "2015\t1009\n",
    "2016\t1008\n",
    "2017\t1032\n",
    "2018\t1065\n",
    "2019\t1063\n",
    "2020\t1019\n",
    "```\n",
    "\n",
    "1. Erzeugen Sie ein Pandas-Series-Objekt mit dem Jahr als Index und der Anzahl der Beschäftigten als Daten.\n",
    "2. Korrigieren Sie die Anzahl der Beschäftigten, indem sie diese mit 1000 multiplizieren. \n",
    "3. Ermitteln Sie die wichtigsten statsitischen Eigenschaften (Mittelwert, Standardabweichung, Minimum, Maximum).\n",
    "4. Plotten Sie die Daten. Gibt es einen Trend?\n",
    "5. Der Plot zeigt einen Knick, ein Jahr mit einem kurzen Einbruch der Beschäftigtenzahlen. Suchen Sie den Knick in der Grafik. Was könnte diesen kurzen Einbruch bei den Beschäftigtenzahlen erklären?\n",
    "6. Hätten Sie Maschinenbau studiert, wenn Sie in dem Jahr ihrer Geburt oder Anfang der 1990er das erste Semester gehabt hätten?\n",
    "\n",
    "Weitere Details finden sich in der Broschüre \"Maschinenbau in Zahl und Bild 2021\" vom VDMA:\n",
    "https://www.vdma.org/documents/34570/6128644/Maschinenbau%20in%20Zahl%20und%20Bild%202021.pdf/43a31467-dc91-1bd9-41ee-97413c4e769d\n",
    "\n",
    "   \n",
    "</div>"
   ]
  }
 ],
 "metadata": {
  "interpreter": {
   "hash": "8e9c262316df7bce4515c1e5a75e950c02ea8cf58732b4de0c4de521774b2c62"
  },
  "kernelspec": {
   "display_name": "Python 3",
   "language": "python",
   "name": "python3"
  },
  "language_info": {
   "codemirror_mode": {
    "name": "ipython",
    "version": 3
   },
   "file_extension": ".py",
   "mimetype": "text/x-python",
   "name": "python",
   "nbconvert_exporter": "python",
   "pygments_lexer": "ipython3",
   "version": "3.8.3"
  }
 },
 "nbformat": 4,
 "nbformat_minor": 5
}
