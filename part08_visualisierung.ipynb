{
 "cells": [
  {
   "cell_type": "markdown",
   "id": "dd6eeab0-df9b-4455-aa95-68f705cedbca",
   "metadata": {},
   "source": [
    "# Woche 08 - Visualisierung (Teil 2)\n",
    "\n",
    "Im letzten Kapitel haben wir uns bereits mit der Visualisierung von Funktionen und Messwerten beschäftigt. Wir haben die wichtigsten Plots kennengelernt, nämlich Liniendiagramme (Lineplots), Balkendiagramme (Barplots) und Streudiagramme (Scatterplots).\n",
    "\n",
    "In diesem Jupyter-Notebook erarbeiten wir die Visualisierung von Funktionen und Messwerten. Wir beschäftigen uns mit\n",
    "* Visualisierung von Fehlerbalken\n",
    "* Histogrammen\n",
    "* Dichtediagrammen\n",
    "* Styling von Grafiken"
   ]
  },
  {
   "cell_type": "markdown",
   "id": "3258a833-2f54-4bcd-9749-78cabace896a",
   "metadata": {},
   "source": [
    "## Visualisierung von Fehlerbalken\n",
    "\n",
    "Bei allen Messungen treten Messfehler auf. Manchmal weiß man von Anfang an, welchen Messfehler das Messgerät hat. Ein anderes Mal hat man beispielsweise eine Messung zehnmal wiederholt und möchte nun den Mittelwert als Datenpunkt und die Standardabweichung der Messergebnisse als Fehlerbalken visualisieren. Durch die Angabe eines Fehlerbalkens kann man dem Betrachter eine Zusatzinformation mitteilen. Für die Darstellung von Fehlerbalken stellt das Matplotlib-Modul die Methode ``errorbar()`` zur Verfügung. Mehr Informationen gibt es auf der Hilfeseite\n",
    "\n",
    "> https://matplotlib.org/stable/api/_as_gen/matplotlib.pyplot.errorbar.html\n",
    "\n",
    "Als erstes importieren wir das Numpy-Modul und das Matplotlib-Modul. Direkt nach dem Import des Matplotlib-Moduls lernen wir einen neuen Befehl lennen, nämlich ``plt.style.use('seaborn-whitegrid')``. Dieser Befehl hat nichts mit Fehlerbalken zu tun, sondern mit Styling. Darauf kommen wir später zurück."
   ]
  },
  {
   "cell_type": "code",
   "execution_count": null,
   "id": "56733346-9a50-441b-b923-af02336c0e2f",
   "metadata": {},
   "outputs": [],
   "source": [
    "%matplotlib inline\n",
    "import matplotlib.pyplot as plt\n",
    "plt.style.use('seaborn-darkgrid')\n",
    "import numpy as np"
   ]
  },
  {
   "cell_type": "markdown",
   "id": "47055f43-ba91-4078-bd2d-bdd4ec3413c5",
   "metadata": {},
   "source": [
    "Als erstes erzeugen wir uns ein x-Array mit 50 Einträgen von 0 bis 10. Im y-Array speichern wir nun den Sinus, also y = sin(x). Aber zu jedem x-Wert addieren wir noch eine kleine Störung, die normalverteilt mit einen Mittelwert 0 und einer Standardabweichung von $\\sigma = 0.5$ ist. Dadurch erzeugen wir nicht einen glatten Sinus, sondern einen verrauschten Sinus. \n",
    "\n",
    "Danach visualisieren wir die Datenpunkte $(x,y)$. An jedem Punkt stellen wir zusätzlich die für alle Punkte gleiche, konstante Standardweichung $\\sigma$ über die Option ``yerr`` dar. Der Befehl lautet\n",
    "\n",
    "```\n",
    "ax.errorbar(x, y, yerr=sigma, fmt='.k');\n",
    "```\n",
    "\n",
    "Dabei steht die zweite Option ``fmt = '.k'``für die Formatierung Datenpunkt und Fehlerbalken. \n",
    "\n",
    "Führen Sie die nachfolgende Zelle mehrmals aus. \n",
    "* Wie verändert sich der verrauschte Sinus bei mehrfacher Ausführung? \n",
    "* Ändern Sie auch den Wert von ``scale``. Was passiert bei keinen Werten wie 0.01 und 0.1, was bei großen Werten wie 10?\n",
    "* Probieren Sie andere Formatierungen aus."
   ]
  },
  {
   "cell_type": "code",
   "execution_count": null,
   "id": "60a1f9b2-cbe1-43f1-ae02-c24d49c6c9e9",
   "metadata": {},
   "outputs": [],
   "source": [
    "# generate data y = sin(x) + normal distribution with mean 0 and standard deviation sigma \n",
    "sigma = 0.5\n",
    "x = np.linspace(0, 10, 50)\n",
    "y = np.sin(x) + sigma * np.random.randn(50)\n",
    "\n",
    "# plot data\n",
    "fig, ax = plt.subplots()\n",
    "ax.errorbar(x, y, yerr=sigma, fmt='.k');"
   ]
  },
  {
   "cell_type": "markdown",
   "id": "36406a3d-849e-4bde-bb7a-73824f7f13cb",
   "metadata": {},
   "source": [
    "Die obige Darstellung ist schnell erzeugt, aber ästhetischer und besser interpretierbar wird die Grafik, wenn wir noch ein wenig an den Optionen herumschrauben. Van der Plas empfiehlt beispielsweise die folgenden Optionen in seinem Buch \"Data Science mit Python\", S. "
   ]
  },
  {
   "cell_type": "code",
   "execution_count": null,
   "id": "2ee72b90-f930-4cd0-9541-2d30e6121f1a",
   "metadata": {},
   "outputs": [],
   "source": [
    "# generate data y = sin(x) + normal distribution with mean 0 and standard deviation sigma \n",
    "sigma = 0.5\n",
    "x = np.linspace(0, 10, 50)\n",
    "y = np.sin(x) + sigma * np.random.randn(50)\n",
    "\n",
    "# plot data\n",
    "fig, ax = plt.subplots()\n",
    "ax.errorbar(x, y, yerr=sigma, fmt='o', color='black', ecolor='lightgray', elinewidth=3, capsize=0);"
   ]
  },
  {
   "cell_type": "markdown",
   "id": "1e4d18e5-1e39-4807-a6aa-56edeb2a8057",
   "metadata": {},
   "source": [
    "Durch die Option ``ecolor`` wird die Farbe des Fehlerbalkens spezifiziert. Standardmäßig verwendet Matplotlib die gleiche Farbe für den Datenpunkt wie für den Fehlerbalken. Die Linienstärke der Feherbalken wird durch die Option ``elinewidth`` gesteuert und wird in der Einheit Points angegeben. Mit der Option ``capsize`` wird die Länge der Kanten oben und unten von den Fehlerbalken spezifiziert, ebenfalls in der Einheit Points.  "
   ]
  },
  {
   "cell_type": "markdown",
   "id": "8c839f3b-bde3-494e-8338-76f56640232a",
   "metadata": {},
   "source": [
    "## Visualisierung von Pandas-Datenobjekten (Series oder DataFrames)\n",
    "\n",
    "Aber wie kombinieren wir jetzt die Funktionalitäten des Pandas-Moduls mit denen des Matplotlib-Moduls? Der grundlegende Datentyp für Matplotlib ist das NumPy-Array und auch in den Pandas-Datenobjekten stecken im Kern NumPy-Arrays. Wenn wir also Pandas-Objekte visualisieren wollen, extrahieren wir die Datn als NumPy-Arrays und plotten dann diese mit Matploblib.\n",
    "\n",
    "* ``.index`` liefert den Zeilenindex\n",
    "* ``.columns`` liefert die Spaltennamen \n",
    "* ``.values`` liefert die Werten in der Tabelle als NumPy-Array\n",
    "\n",
    "Hier ein Beispiel:"
   ]
  },
  {
   "cell_type": "code",
   "execution_count": null,
   "id": "e88457ee-bd9d-4ec4-8f1b-b95449db1dcf",
   "metadata": {},
   "outputs": [],
   "source": [
    "import pandas as pd\n",
    "\n",
    "alter = pd.Series({\"Alice\" : 25, \"Bob\" : 22, \"Charlie\" : 30, \"Dora\": 43})\n",
    "stadt = pd.Series({\"Alice\" : \"Mannheim\", \"Bob\" : \"Frankfurt\", \"Charlie\" : \"Ludwigshafen\", \"Dora\" : \"Kaiserslautern\"})\n",
    "personen = pd.DataFrame({'Alter': alter, 'Wohnort': stadt})\n",
    "\n",
    "print('Datentyp personen: ', type(personen) )\n",
    "print('Inhalt personen: ', personen)\n",
    "print('\\n')\n",
    "\n",
    "print('Datentyp personen.index: ', type(personen.index))\n",
    "print('Inhalt personen.index', personen.index)\n",
    "print('\\n')\n",
    "\n",
    "print('Datentyp personen.columns: ', type(personen.columns))\n",
    "print('Inhalt personen.columns', personen.columns)\n",
    "print('\\n')\n",
    "\n",
    "print('Datentyp personen.values: ', type(personen.values))\n",
    "print('Inhalt personen.values', personen.values)\n",
    "print('\\n')"
   ]
  },
  {
   "cell_type": "markdown",
   "id": "18475fb0-b07e-48e9-adf8-0eba4908846b",
   "metadata": {},
   "source": [
    "So kann man direkt die Daten aus einem Pandas-Dataframe extrahieren und visualisieren."
   ]
  },
  {
   "cell_type": "code",
   "execution_count": null,
   "id": "eec6bcca-c700-40ec-b78d-c8962307fe6d",
   "metadata": {},
   "outputs": [],
   "source": [
    "x = personen.index\n",
    "y = personen.loc[:, 'Alter'].values\n",
    "\n",
    "fig, ax = plt.subplots()\n",
    "ax.bar(x,y)\n",
    "ax.set_ylabel('Alter')\n",
    "ax.set_title('Personen aus meinem Adressbuch');\n"
   ]
  },
  {
   "cell_type": "markdown",
   "id": "aa5fe28f-6394-42c7-a4b1-07ca5e5e00cc",
   "metadata": {},
   "source": [
    "**Mini_Übung**   \n",
    "\n",
    "Importieren Sie die Datei `data_sterbefaelle_2020.csv` mit \n",
    "> pd.read_csv('part08_data/data_sterbefaelle_2020.csv', index_col=0)\n",
    "\n",
    "(Quelle: <a href=https://www.destatis.de/DE/Themen/Gesellschaft-Umwelt/Bevoelkerung/Sterbefaelle-Lebenserwartung/Tabellen/sonderauswertung-sterbefaelle.xlsx?__blob=publicationFile>destatista.de</a>).\n",
    "\n",
    "* Der Datensatz enthält Sterbefälle des Jahres 2020. Welcher Zeilenindex (index) und welche Spaltennamen (columns) sind in dem Datensatz enthalten?\n",
    "* Verschaffen Sie sich einen groben Überblick über die Daten (min, max, mean, std).\n",
    "* Bilden Sie für jeden Monat die Summe aller Gestorbenen.\n",
    "* Visualisieren Sie mit einem Plot (welcher Diagrammtyp?) die Anzahl der Verstorbenen für die Monate Januar bis Dezember.\n",
    "* In welchem Monat sind am wenigten Menschen gestorben, wann die meisten?\n",
    "* Bilden Sie nun für jede Altersklasse den Mittelwert und die Standardabweichung.\n",
    "* Stellen Sie nun in einem Diagramm den Mittelwert für die Altersklassen mit der Standardabweichung als Fehlerbalken dar."
   ]
  },
  {
   "cell_type": "code",
   "execution_count": null,
   "id": "7c4fe021-41b3-4c01-a732-bfc3b524e7dd",
   "metadata": {},
   "outputs": [],
   "source": [
    "# Hier Ihr Code\n",
    "\n"
   ]
  },
  {
   "cell_type": "markdown",
   "id": "187e9333-4830-4146-8633-537fa442d326",
   "metadata": {},
   "source": [
    "## Histogramme\n",
    "\n",
    "Das erste Histogramm, das Ihnen wahrscheinlich begegnet ist, ist der Notenspiegel in der Schule gewesen. Für jedes Merkmal (hier = Note) des Datensatzes (hier = Klasse) wird die Anzahl der Schülerinnen und Schüler angegeben, die diese Note erreicht haben. Eine typische Klassenarbeit könnte beispielsweise so aussehen:\n",
    "\n",
    "|1 | 2 | 3 | 4 | 5 | 6 |\n",
    "|---|---|---|---|---| --- |\n",
    "| 2 | 4  | 8  | 6  | 3  | 1 |\n",
    "\n",
    "Ein Histogramm ist eine Visualisierung einer solchen Tabelle. Dabei werden in der Regel Balken benutzt. Auf der x-Achse sind also die Merkmale aufgetragen und auf der y-Achse finden wir die Anzahl der Merkmale in dem Datensatz. Die Anzahl kann dabei in absoluten Zahlen angegeben werden oder in relativen (Prozent).  \n",
    "\n",
    "So sieht das Histogramm des Notenspiegels aus:\n"
   ]
  },
  {
   "cell_type": "code",
   "execution_count": null,
   "id": "b9be0b7d-6355-4fac-a328-0df1ec44512d",
   "metadata": {},
   "outputs": [],
   "source": [
    "# data\n",
    "x = np.arange(1,7)\n",
    "y = np.array([2,4,8,6,3,1])\n",
    "\n",
    "# plot\n",
    "fig, ax = plt.subplots()\n",
    "ax.bar(x,y)\n",
    "ax.set_xlabel('Note')\n",
    "ax.set_ylabel('Anzahl')\n",
    "ax.set_title('Erdkunde-Test, Klasse 7b');"
   ]
  },
  {
   "cell_type": "markdown",
   "id": "d350fed5-6d4e-4f85-bb18-3c190a31621e",
   "metadata": {},
   "source": [
    "Diese Analysemethode wird sehr häufig eingesetzt. Daher stellen alle drei Module Matplotlib, Numpy und Pandas Methoden für Histogramme zur Verfügung:\n",
    "\n",
    "* Matplotlib-Histogramm: https://matplotlib.org/stable/api/_as_gen/matplotlib.pyplot.hist.html\n",
    "* Numpy-Histogramm: https://numpy.org/doc/stable/reference/generated/numpy.histogram.html\n",
    "* Pandas-Histogramm: https://pandas.pydata.org/pandas-docs/stable/reference/api/pandas.DataFrame.hist.html\n",
    "\n",
    "Da wir ohnehin das Histogramm visualisieren wollen, überspringen wir das Numpy-Histogramm und wenden uns gleich dem Matplotlib-Histogramm zu, das auch die Basis für das Pandas-Histogramm bildet.\n",
    "\n",
    "Um die Optionen des Histogramms kennenzulernen, erzeugen wir zunächst eine sehr kleine Klasse mit 10 Schülerinnen und Schülern und würfeln ihre Noten zufällig aus. Und nein, in der Klausur werde ich nicht würfeln ;-)"
   ]
  },
  {
   "cell_type": "code",
   "execution_count": null,
   "id": "0500b165-89b9-4718-a9b5-cd0fcb1d82ec",
   "metadata": {},
   "outputs": [],
   "source": [
    "# draw randomly grades\n",
    "from random import randint, seed\n",
    "seed(3)\n",
    "grades = [randint(1, 6) for _ in range(10)]\n",
    "\n",
    "print('gewürfelte Noten: ', grades)"
   ]
  },
  {
   "cell_type": "markdown",
   "id": "ff0ba9a2-973c-4243-bb0d-994ecd445822",
   "metadata": {},
   "source": [
    "Danach verwenden wir die Methode ``.hist()``, um ein Histogramm zu zeichnen."
   ]
  },
  {
   "cell_type": "code",
   "execution_count": null,
   "id": "65753496-fcae-41ca-83cd-ab8726306699",
   "metadata": {},
   "outputs": [],
   "source": [
    "# plot histogram\n",
    "fig, ax = plt.subplots()\n",
    "ax.hist(grades)\n",
    "ax.set_xlabel('Note')\n",
    "ax.set_ylabel('Anzahl Schüler:innen')\n",
    "ax.set_title('Klassenarbeit');"
   ]
  },
  {
   "cell_type": "markdown",
   "id": "90944003-0a1a-4feb-81c6-abad0971cfdd",
   "metadata": {},
   "source": [
    "Die Darstellung sieht etwas ungewohnt aus. Mit den Optionen ``bins=``, ``align=`` und ``rwidth=`` wirkt das Histogramm gleich ein wenig vertrauter. "
   ]
  },
  {
   "cell_type": "code",
   "execution_count": null,
   "id": "24e57d6b-6e90-4ffb-9ca9-8c9682c14a8b",
   "metadata": {},
   "outputs": [],
   "source": [
    "# generate custom bins\n",
    "my_bins = [1,2,3,4,5,6,7]\n",
    "\n",
    "# plot improved histogram\n",
    "fig, ax = plt.subplots()\n",
    "ax.hist(grades, bins=my_bins, align='left', rwidth=0.8)\n",
    "ax.set_xlabel('Note')\n",
    "ax.set_ylabel('Anzahl Schüler:innen')\n",
    "ax.set_title('Klassenarbeit');"
   ]
  },
  {
   "cell_type": "markdown",
   "id": "c9f2d677-4c34-4452-9880-0372809073b6",
   "metadata": {},
   "source": [
    "**Mini-Übung**   \n",
    "Lesen Sie die Dokumentation der <a href=\"https://matplotlib.org/stable/api/_as_gen/matplotlib.pyplot.hist.html\">Matplotlib-hist-Funktion</a>. Beantworten Sie anschließend folgende Fragen:\n",
    "<ul>\n",
    "    <li>Was sind Bins?</li>\n",
    "    <li>Welche Bins werden von Matplotlib gewählt, wenn die Option bins auf eine Zahl gesetzt wird, also z.B. <kbd>bins=10</kbd>?</li>\n",
    "    <li>Welche Bins werden von Matplotlib benutzt, wenn die Option bins auf ein Array gesetzt wird, z.B. <kbd>bins=[1,2,3,4,5,6,7]</kbd>?</li>\n",
    "    <li>Welche drei Einstellmöglichkeiten gibt es für die Option <kbd>align</kbd>? Probieren Sie alle drei in der vorhergehenden Zelle aus. Welche gefällt Ihnen anm besten?</li>\n",
    "    <li>Welche Werte dürfen für die Option <kbd>rwidth</kbd> eingesetzt werden? Welcher Wert gefällt Ihnen persönlich am besten? Probieren Sie aus.</li> \n",
    "</ul>\n"
   ]
  },
  {
   "cell_type": "code",
   "execution_count": null,
   "id": "fa454125-4fdf-4f9a-aa1a-92dc29e6a5eb",
   "metadata": {},
   "outputs": [],
   "source": [
    "# Hier Ihr Code\n",
    "\n"
   ]
  },
  {
   "cell_type": "markdown",
   "id": "3b69b999-e256-41c9-9f20-39737af2cf80",
   "metadata": {},
   "source": [
    "Nicht immer ist die Klasseneinteilung, also die Bins, vorher schon klar. Beispielsweise könnten wir die Körpergröße der teilnehmenden Studierenden dieser Vorlesung analysieren wollen. Und dabei sind wir bei der Einteilung in Bins frei. Beispielsweise könnten wir zwei Bins, nämlich $< 120~cm$ und $\\geq 120~cm$ wählen. So richtig viel verrät uns diese Aufteilung über die Verteilung der Körpergröße jedoch nicht, denn wahrscheinlich sind alle in der letzten Bin. Aber stattdessen Millimeterschrittezu wählen, wäre zuviel des Guten. Daher beschäftigen wir uns als Nächstes mit der Wahl der Bin-Größe im Verhältnis zu den gegebenen Daten.\n",
    "\n",
    "Im Folgenden erzeugen wir zunächst einmal 1000 normalverteilte Zufallszahlen mit Mittelwert 0 und Standardabweichung 1. Bei (0,1)-normalverteilten Zufallszahlen wissen wir, dass\n",
    "* 68.27 % aller Zahlen zwischen -1 und 1 liegen,\n",
    "* 95.45 % aller Zahlen zwischen -2 und 2 liegen und\n",
    "* 99.73 % aller Zahlen zwischen -3 und 3 liegen.\n",
    "Wenn wir jetzt 100 Bins wählen, wird eine Bin ca. 0.06 breit sein. Wir tragen jetzt die Anzahl der x, die in eine Bin fällt, im Histogram auf:"
   ]
  },
  {
   "cell_type": "code",
   "execution_count": null,
   "id": "d73f45bb-de1f-43b5-9806-c350149cf865",
   "metadata": {},
   "outputs": [],
   "source": [
    "# fix random seed and draw N = 10000 normally distributed random numbers\n",
    "N = 10000\n",
    "rand = np.random.RandomState(0)\n",
    "x = rand.randn(N)\n",
    "\n",
    "# plot histogram with 100 bins\n",
    "fig, ax = plt.subplots()\n",
    "ax.hist(x, bins=100);"
   ]
  },
  {
   "cell_type": "markdown",
   "id": "dbc884c1-bf75-44cc-ae54-307662483480",
   "metadata": {},
   "source": [
    "Ändern Sie bitte in der folgenden Code-Zelle die Anzahl der Zufallszahlen. Probieren Sie z.B. N = 10, 100, 1000 oder 100000000 aus. Ab wann erkennen Sie die Gauß-Kurve? Gibt es eine Anzahl N von Punkten, ab der sich die Kurve nicht mehr ändert?"
   ]
  },
  {
   "cell_type": "code",
   "execution_count": null,
   "id": "28eb028c-527c-471b-9730-a90043ec1543",
   "metadata": {},
   "outputs": [],
   "source": [
    "# variation of N\n",
    "N = 10\n",
    "rand = np.random.RandomState(0)\n",
    "x = rand.randn(N)\n",
    "\n",
    "# plot histogram with 100 bins\n",
    "fig, ax = plt.subplots()\n",
    "ax.hist(x, bins=100);"
   ]
  },
  {
   "cell_type": "markdown",
   "id": "e6ea8d97-1023-45b2-b394-dd704d8262a1",
   "metadata": {},
   "source": [
    "In der Praxis ist es nicht so einfach, die Anzahl der Daten zu vergrößern. Daher probieren wir als nächstes das Umgekehrte. Wir bleiben bei $N=1000$ Zufallszahlen, aber spielen mit der Anzahl der Bins und der Bingröße herum. Verändern Sie die Anzahl der Bins von 6, 10, 50, 100, 250, 1000, 10000. Was beobachten Sie?"
   ]
  },
  {
   "cell_type": "code",
   "execution_count": null,
   "id": "293b8705-713e-419f-a900-952d712c247b",
   "metadata": {},
   "outputs": [],
   "source": [
    "# fixed N = 1000\n",
    "N = 1000\n",
    "rand = np.random.RandomState(0)\n",
    "x = rand.randn(N)\n",
    "\n",
    "# variation of bins \n",
    "number_bins = 6\n",
    "fig, ax = plt.subplots()\n",
    "ax.hist(x, bins=number_bins);"
   ]
  },
  {
   "cell_type": "markdown",
   "id": "18caef95-4bb9-4951-acfb-7b780b710225",
   "metadata": {},
   "source": [
    "**Mini-Übung**   \n",
    "Lesen Sie die mit ausgelieferte Datei <kbd>data_airbnb_berlin.csv</kbd> ein, die ursprünglich aus dem Kaggle-Datensatz <a href=\"https://www.kaggle.com/brittabettendorf/berlin-airbnb-data\">https://www.kaggle.com/brittabettendorf/berlin-airbnb-data</a> stammt.\n",
    "<ul>\n",
    "    <li>Verschaffen Sie sich einen ersten Überblick. Was enthält die Datei für Daten?</li>\n",
    "    <li>In welcher Spalte stehen die Preise?</li>\n",
    "    <li>Welches ist der minimale Preis, was muss maximal bezahlt werden?</li>\n",
    "    <li>Erzeugen Sie ein Histogramm der Preise mit der Standardeinstellung <kbd>bins=10</kbd>. Was fällt Ihnen auf?</li>\n",
    "    <li>Was könnten sinnvolle Intervalle sein? Teilen Sie den Datensatz in zwei Datensätzen bei einer plausiblem Preisgrenze. Visualisieren Sie beide Datensätze getrennt mit einer passenden Bin-Einteilung. Versehen Sie beide Histogramme mit Achsen- und Titelbeschriftungen.</li>\n",
    "</ul>\n",
    "</div>"
   ]
  },
  {
   "cell_type": "code",
   "execution_count": null,
   "id": "fef5320a-1ad2-4d0c-8155-afc47577d7e1",
   "metadata": {},
   "outputs": [],
   "source": [
    "# Hier Ihr Code\n"
   ]
  },
  {
   "cell_type": "markdown",
   "id": "c4c3b5fa-7545-4069-961a-b49ec920356f",
   "metadata": {},
   "source": [
    "# Aufgaben zur Vertiefung\n",
    "\n"
   ]
  },
  {
   "cell_type": "markdown",
   "id": "95580a95-40ed-4711-b01a-860a782e641e",
   "metadata": {},
   "source": [
    "<div class=\"alert alert-block alert-success\"><b>Aufgabe 8.1</b></br>\n",
    "Laden Sie die Datei spotify.csv aus dem part08_data. Die Datei enthält die Anzahl von Streams ausgewählter Songs. Beantworten Sie anhand dieses Datensatzes folgende Fragen:\n",
    "<li>Was enthält die Tabelle an Daten genau? Wie lautet der Zeilenindex (index) und wie die Spaltennamen (columns)?</li>\n",
    "<li>Welcher Zeitraum wird abgedeckt?</li>\n",
    "<li>Filtern Sie Daten eines Monats heraus, den Monat dürfen Sie sich aussuchen.</li>\n",
    "<li>Bilden Sie von den Streams die Mittelwerte der Songs. Welcher Song wurde im Mittel in diesem Monat am häufigsten gestreamt?</li>     \n",
    "<li>Visualisieren Sie die Streams pro Tag in diesem Monat. Was fällt Ihnen auf?</li>\n",
    "</div>\n",
    "\n"
   ]
  },
  {
   "cell_type": "markdown",
   "id": "7f43a6ad-fe03-4a19-896e-7ebb48dcb591",
   "metadata": {},
   "source": [
    "<div class=\"alert alert-block alert-success\"><b>Aufgabe 8.2</b></br>\n",
    "Laden Sie die Datei drinks.csv aus dem part08_data (Quelle: https://www.kaggle.com/mysarahmadbhat/alcohol-consumption). Die Datei enthält die Anzahl von Streams ausgewählter Songs. Beantworten Sie anhand dieses Datensatzes folgende Fragen:\n",
    "<li>Was enthält die Tabelle an Daten genau? Wie lautet der Zeilenindex (index) und wie die Spaltennamen (columns)? Wie viele Einträge gibt es?</li>\n",
    "<li>Wie oft wird durchschnittlich pro Jahr Bier, Spirituosen oder Wein serviert?</li>\n",
    "<li>Wie viele Liter puren Alkohol wird durchschnittlich getrunken?</li>\n",
    "<li>In welchem Land wird am wenigsten Alkohol getrunken, in welchem am meisten?</li>    \n",
    "<li>In welchem Land wird am wenigsten Bier getrunken, in welchem am meisten? Wie sieht es mit Wein und Spirituosen aus?</li>\n",
    "<li>Listen Sie die Ländern auf, in denen weniger als 25 % der durchschnittlichen Alkoholmenge getrunken? </li>\n",
    "<li>Suchen Sie sich 10 Länder aus und filtern Sie den Datensatz nach diesen Ländern. Visualisieren Sie anschließend Bier-, Spirituosen-, Wein in einem Plot und Gesamtmenge an Alkohol rechts daneben. Führen Sie passende Beschriftungen ein.</li>\n",
    "</div>\n",
    "\n"
   ]
  }
 ],
 "metadata": {
  "kernelspec": {
   "display_name": "Python 3",
   "language": "python",
   "name": "python3"
  },
  "language_info": {
   "codemirror_mode": {
    "name": "ipython",
    "version": 3
   },
   "file_extension": ".py",
   "mimetype": "text/x-python",
   "name": "python",
   "nbconvert_exporter": "python",
   "pygments_lexer": "ipython3",
   "version": "3.8.3"
  }
 },
 "nbformat": 4,
 "nbformat_minor": 5
}
