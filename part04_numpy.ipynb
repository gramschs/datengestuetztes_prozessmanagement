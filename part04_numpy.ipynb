{
 "cells": [
  {
   "cell_type": "markdown",
   "id": "7ef63ab6-4228-4254-bbe0-b7cbcf8f339b",
   "metadata": {},
   "source": [
    "# Woche 04 - Objektorientierte Programmierung und das Modul Numpy\n",
    "\n",
    "In dieser Woche werden wir den Crashkurs in Python mit einem Ausflug in die objektorientierte Programmierung abschließen. Danach widmen wir uns dem Modul Numpy, das Klassen und Funktionen für numerisches Python enthält. Die Themen sind also:\n",
    "\n",
    "* Objektorientierte Programmierung\n",
    "    * Was ist Objektorientierung?\n",
    "    * Klassen definieren: Attribute und Methoden\n",
    "* Modul Numpy\n",
    "    * Modulmechanismus in Python\n",
    "    * Einführung in Numpy\n"
   ]
  },
  {
   "cell_type": "markdown",
   "id": "be8d4f97-05ce-48c4-ad0f-10fb4e6fb7e9",
   "metadata": {},
   "source": [
    "## Objektorientierte Programmierung\n",
    "\n",
    "In den ersten beiden Teilen unseres Crashkurses Python haben wir uns die Grundlagen der Programmierung erarbeitet:\n",
    "* Datentypen (Integer, Float, String, Bool, List)\n",
    "* Ein- und Ausgabe (input, print)\n",
    "* Kontrollstrukturen \n",
    "    * Programmverzweigungen (if - elif - else)\n",
    "    * Schleifen (while oder for)\n",
    "* Funktionen.\n",
    "\n",
    "In einigen Programmiersprachen wie beispielsweise C hätten wir damit auch alle Sprachelement kennengelernt. Diese Programmierung nennt man **prozedurale Programmierung**. Python gehört jedoch zu den objektorientierten Programmiersprachen, so dass wir uns diese Woche dem Thema Objektorientierung widmen.\n"
   ]
  },
  {
   "cell_type": "markdown",
   "id": "fa56e3fe-9c3e-4291-b248-f49713c6f170",
   "metadata": {},
   "source": [
    "### Was ist Objektorientierung?\n",
    "\n",
    "Bei der bisherigen prozeduralen Programmierweise haben wir Funktionen und Daten getrennt. Die Daten werden in Variablen gespeichert. Funktionen funktionieren nach dem EVA-Prinzip. In der Regel erwartet eine Funktion eine Eingabe von Daten, verarbeitet diese Daten und gibt Daten zurück. \n",
    "\n",
    "Angenommen, wir wollten ein Programm zur Verwaltung von Lottoscheinen schreiben. Zu einem Lottoschein wollen wir Name, Adresse und die angekreuzten Zahlen speichern. Dann müssten wir mit unserem bisherigen Wissen folgende Variablen pro Lottoschein einführen:\n",
    "\n",
    "* vorname\n",
    "* nachname\n",
    "* strasse\n",
    "* postleitzahl\n",
    "* stadt\n",
    "* liste_mit_sechs_zahlen\n",
    "\n",
    "Wenn jetzt viele Spielerinnen und Spieler Lotto spielen wollen, wie gehen wir jetzt mit den Daten um? Legen wir eine Liste für die Vornamen und eine Liste für die Nachnamen usw. an? Und wenn jetzt der 17. Eintrag in der Liste mit den sechs angekreuzten Lottozahlen sechs Richtige hat, suchen wir dann den 17. Eintrag in der Liste mit den Vornamen und den 17. Eintrag in der Liste mit den Nachnamen usw.? Umständlich...\n",
    "\n",
    "Die Idee der objektorientierten Programmierung ist, für solche Szenarien **Objekte** einzuführen. Ein Objekt fasst verschiedene Eigenschaften wie hier Vorname, Nachname, Straße, usw. zu einem Objekt Lottoschein zusammen. In der Informatik wird eine Eigenschaft eines Objekts **Attribut** genannt. \n",
    "\n",
    "Damit hätten wir erst einmal nur einen neuen Datentyp. Ein Objekt macht noch mehr aus, denn zu dem neuen Datentyp kommen noch Funktionen dazu, die die Verwaltung des Objektes erleichtern. Funktionen, die zu einem Objekt gehören, nennt man **Methoden**.\n",
    "\n"
   ]
  },
  {
   "cell_type": "markdown",
   "id": "e4007874-b386-4274-93e7-78f5cd7cad07",
   "metadata": {},
   "source": [
    "<div class=\"alert alert-block alert-info\">\n",
    "\n",
    "Hier finden Sie ein YouTube-Video \"Objektorientierung (Konzept)\" aus dem Python-Tutorial Crashkurs:\n",
    "> https://www.youtube.com/watch?v=46yolPy-2VQ&list=PL_pqkvxZ6ho3u8PJAsUU-rOAQ74D0TqZB&index=21    \n",
    "\n",
    "</div>"
   ]
  },
  {
   "cell_type": "markdown",
   "id": "c3304303-ef5e-4272-9216-1f28a4062a2c",
   "metadata": {},
   "source": [
    "### Klassen benutzen\n",
    "\n",
    "Im Folgenden sehen Sie, wie ein Objekt in Python definiert wird. Die Implementierung erfolgt als sogenannte **Klasse**. "
   ]
  },
  {
   "cell_type": "code",
   "execution_count": null,
   "id": "3c882208-ae9f-4f7a-ae84-78e1ee2c6695",
   "metadata": {},
   "outputs": [],
   "source": [
    "class Beispiel:\n",
    "    def __init__(self, vorname, nachname):\n",
    "        self.vorname = vorname\n",
    "        self.nachname = nachname\n",
    "        \n",
    "    def schreibe_vorname_nachname(self):\n",
    "        print(self.vorname + ' ' + self.nachname)\n",
    "        \n",
    "    def schreibe_nachname_vorname(self):\n",
    "        print(self.nachname + ', ' + self.vorname)\n",
    "   "
   ]
  },
  {
   "cell_type": "markdown",
   "id": "a7cb7e59-d41e-4009-b758-941abb64cfd1",
   "metadata": {},
   "source": [
    "Jetzt erzeugen wir ein Objekt vom Typ `Beispiel` und speichern es in der Variable `person`. Mit der Funnktion `type()` checken wir kurz, welcher Datentyp in der Variablen `person`steckt:"
   ]
  },
  {
   "cell_type": "code",
   "execution_count": null,
   "id": "a9c3d12c-f3d0-4954-a6a6-60e2a8fb8e76",
   "metadata": {},
   "outputs": [],
   "source": [
    "person = Beispiel('Alice', 'Wunderland')\n",
    "type(person)"
   ]
  },
  {
   "cell_type": "markdown",
   "id": "74a2de32-634e-4b21-9641-0a3ad19cb2df",
   "metadata": {},
   "source": [
    "Nun können wir auch die beiden Methoden ausprobieren, die zu dem Objekt gehören. Der Aufruf einer Methode funktioniert anders als eine Funktion. Man hängt an die Variable, in der das Objekt gespeichert wurde, einen Punkt und dann die Methode mit runden Klammern. Den Punkt nennt man in der Informatik **Punktoperator**. \n",
    "\n",
    "Hier ein Beispiel zu der Methode `schreibe_vorname_nachname()`: "
   ]
  },
  {
   "cell_type": "code",
   "execution_count": null,
   "id": "2da9952c-cab5-4be6-9c06-cef221358d9b",
   "metadata": {},
   "outputs": [],
   "source": [
    "person.schreibe_vorname_nachname()"
   ]
  },
  {
   "cell_type": "markdown",
   "id": "3e0baf03-1600-4937-979d-a8c12687a8e9",
   "metadata": {},
   "source": [
    "Dann die zweite Methode, also `schreibe_nachname_vorname()`:"
   ]
  },
  {
   "cell_type": "code",
   "execution_count": null,
   "id": "a0a198cc-b108-4ced-adca-071cf1e4d919",
   "metadata": {},
   "outputs": [],
   "source": [
    "person.schreibe_nachname_vorname()"
   ]
  },
  {
   "cell_type": "markdown",
   "id": "d46ec352-6cb1-4de4-9fce-4b6eab0723e1",
   "metadata": {},
   "source": [
    "<div class=\"alert alert-block alert-info\">\n",
    "\n",
    "Hier finden Sie das YouTube-Video \"Klassen und Objekte\" aus dem Python-Tutorial Crashkurs:\n",
    "> https://www.youtube.com/watch?v=XxCZrT7Z3G4&list=PL_pqkvxZ6ho3u8PJAsUU-rOAQ74D0TqZB&index=22\n",
    "\n",
    "</div>"
   ]
  },
  {
   "cell_type": "markdown",
   "id": "23c702bf-2619-4aab-a8c0-1e1266c313ef",
   "metadata": {},
   "source": [
    "### Klassen definieren - Attribute\n",
    "\n",
    "Jetzt definieren wir eine eigene Klasse, die eine Adresse verwalten soll. Ein erstes Beispiel haben Sie ja oben schon gesehen.\n",
    "\n",
    "Eingeleitet wird eine Klasse mit dem Schlüsselwort `class` und dann dem Namen der Klasse. Da Klassen Objekte sind, ist es Standard, den ersten Buchstaben des Klassennamens groß zu schreiben. \n",
    "\n",
    "```python\n",
    "class Klassenname:\n",
    "```\n",
    "\n",
    "Bemerkung: Um Variablen von Objekten leichter zu unterscheiden, werden Variablennamen klein geschrieben.\n",
    "\n",
    "Danach folgt ein Abschnitt namens `def __init__(self):`, in dem die Eigenschaften der Klasse aufgelistet werden. `init` steht dabei für initialisieren, also den ersten Zustand, den das Objekt später haben wird. \n",
    "\n",
    "```python\n",
    "class Klassenname:\n",
    "    def __init__(self, eigenschaft1, eigenschaft2):\n",
    "        self.attribut1 = eigenschaft1\n",
    "        self.attribut2 = eigenschaft2\n",
    "```\n",
    "\n",
    "Probieren wir es mit der Adresse aus:"
   ]
  },
  {
   "cell_type": "code",
   "execution_count": null,
   "id": "84c5bb61-e273-4b45-96b2-51a897002109",
   "metadata": {},
   "outputs": [],
   "source": [
    "class Adresse:\n",
    "    def __init__(self, strasse, hausnummer, plz, stadt):\n",
    "        self.strasse = strasse\n",
    "        self.hausnummer = hausnummer\n",
    "        self.postleitzahl = plz\n",
    "        self.stadt = stadt"
   ]
  },
  {
   "cell_type": "markdown",
   "id": "6bc429c3-97f8-4126-80a6-0f8619e57ac2",
   "metadata": {},
   "source": [
    "Wie Sie sehen, können die Eingabe-Parameter der `init()`-Methode die gleichen Namen tragen wie die Attribute der Klasse, also `self.strasse = strasse`, müssen sie aber nicht. Das Beispiel `self.postleitzahl = plz` zeigt, dass das Attribut `self.postleitzahl` einfach den Wert des 4. Parameters bekommt, egal wie der heißt.\n",
    "\n",
    "Definieren wir jetzt unsere erste Adresse, der Eingabe-Parameter `self` wird dabei weggelassen (warum kommt später)."
   ]
  },
  {
   "cell_type": "code",
   "execution_count": null,
   "id": "11751285-f651-47df-9605-a17b35505bbe",
   "metadata": {},
   "outputs": [],
   "source": [
    "adresse_fra_uas = Adresse('Nibelungenplatz', 1, 60318, 'Frankfurt am Main')"
   ]
  },
  {
   "cell_type": "markdown",
   "id": "72d650e9-abe3-4e96-bee1-526676c0893c",
   "metadata": {},
   "source": [
    "Geben wir als nächstes aus, was in der Variable `adresse_fra_uas` gespeichert ist. Probieren wir es mit der `print()`-Funktion:"
   ]
  },
  {
   "cell_type": "code",
   "execution_count": null,
   "id": "d79f3c12-206c-43e6-82d4-69476eaf469b",
   "metadata": {},
   "outputs": [],
   "source": [
    "print(adresse_fra_uas)"
   ]
  },
  {
   "cell_type": "markdown",
   "id": "1d670e82-4b24-4823-8130-ac51626edd2f",
   "metadata": {},
   "source": [
    "Wie Sie sehen, wird der Name der Klasse und der Speicherort im RAM angegeben, aber nicht der Inhalt. Die Funktion `print()` ist nicht für den Datentyp `Adresse` entwickelt worden. Schließlich können die Python-Entwickler nicht wissen, welche Klassen Sie entwickeln... \n",
    "\n",
    "Aber wir kommen wir jetzt an den Inhalt des Objektes `adresse_fra_uas`? Mit dem Punktoperator."
   ]
  },
  {
   "cell_type": "code",
   "execution_count": null,
   "id": "76b31d2d-8f6a-402c-848c-953d9a75c664",
   "metadata": {},
   "outputs": [],
   "source": [
    "print(adresse_fra_uas.strasse)"
   ]
  },
  {
   "cell_type": "code",
   "execution_count": null,
   "id": "707155b6-41b6-418e-beaf-f0628c4a08dd",
   "metadata": {},
   "outputs": [],
   "source": [
    "print(adresse_fra_uas.postleitzahl)"
   ]
  },
  {
   "cell_type": "markdown",
   "id": "fe47a70a-dfbe-4813-883b-cdfe850eb855",
   "metadata": {},
   "source": [
    "Damit können wir auch ganz normal rechnen, wenn das Attribut eine Zahl ist:"
   ]
  },
  {
   "cell_type": "code",
   "execution_count": null,
   "id": "88df976e-b044-4cd1-aec8-32f8c03c57aa",
   "metadata": {},
   "outputs": [],
   "source": [
    "adresse_fra_uas.postleitzahl + 11111"
   ]
  },
  {
   "cell_type": "markdown",
   "id": "77e43d6f-0b50-4f1d-b652-6daa7f1b1e28",
   "metadata": {},
   "source": [
    "Mit dem Punktoperator können wir Attribute eines Objektes auch verändern. Schauen wir uns zunächst an, welchen Inhalt `adress_fra_uas.postleitzahl` hat, dann setzen wir eine neue Postleitzahl und schauen erneut, welchen Inhalt `adress_fra_uas.postleitzahl` jetzt hat:"
   ]
  },
  {
   "cell_type": "code",
   "execution_count": null,
   "id": "d638147c-64ca-4949-ae24-78373414291b",
   "metadata": {},
   "outputs": [],
   "source": [
    "print('davor: ')\n",
    "print(adresse_fra_uas.postleitzahl)\n",
    "\n",
    "adresse_fra_uas.postleitzahl = 77777\n",
    "\n",
    "print('danach: ')\n",
    "print(adresse_fra_uas.postleitzahl)"
   ]
  },
  {
   "cell_type": "code",
   "execution_count": null,
   "id": "d36540c9-d1c8-459d-be0f-a6fd960164e4",
   "metadata": {},
   "outputs": [],
   "source": []
  },
  {
   "cell_type": "markdown",
   "id": "a2ee8ad7-f27b-40f4-ab9f-54444d2e5d29",
   "metadata": {},
   "source": [
    "**Mini-Übung**   \n",
    "\n",
    "Schreiben Sie eine Klasse, die Studierende mit den Eigenschaften\n",
    "* Vorname\n",
    "* Nachname\n",
    "* Matrikel-Nummer\n",
    "verwalten kann.\n",
    "\n",
    "Testen Sie anschließend Ihre Klasse, indem Sie ein Beispiel ausprobieren."
   ]
  },
  {
   "cell_type": "code",
   "execution_count": null,
   "id": "12b0b8ca-51df-4c6c-b7ef-198070124d0f",
   "metadata": {},
   "outputs": [],
   "source": []
  },
  {
   "cell_type": "markdown",
   "id": "e611239a-ab22-4a95-b9d7-0d2c91d113ed",
   "metadata": {},
   "source": [
    "<div class=\"alert alert-block alert-info\">\n",
    "\n",
    "Hier finden Sie das YouTube-Video \"Der self Parameter\" aus dem Python-Tutorial Crashkurs:\n",
    "> https://www.youtube.com/watch?v=CLoK-_qNTnU&list=PL_pqkvxZ6ho3u8PJAsUU-rOAQ74D0TqZB&index=23\n",
    "\n",
    "</div>"
   ]
  },
  {
   "cell_type": "markdown",
   "id": "18b0b8d3-a771-4529-953d-684cfc1eb01a",
   "metadata": {},
   "source": [
    "### Klassen definieren - Methoden\n",
    "\n",
    "Es ist bedauerlich, dass wir nicht eine `print()`-Funktion für unsere Adressen-Klasse zur Verfügung haben. Definieren wir uns einfach eine ...\n",
    "\n",
    "Da diese Funktion nicht allgemeingültig sein kann, sondern nur für die Objekte `Adresse` funktionieren kann, gehört sie auch folgerichtig zur Klasse selbst. Sie ist also keine Funktion, sondern eine Methode. \n",
    "\n",
    "Eine Methode wird definiert, indem innerhalb des Anweisungsblocks der Klasse eine Funktion mit dem Schlüsselwort `def` definiert wird. Der erste Eingabewert muss zwingend der `self`-Parameter sein. Hier ein Beispiel für eine Print-Methode: "
   ]
  },
  {
   "cell_type": "code",
   "execution_count": null,
   "id": "0b8e2dc6-55d8-4e95-8989-69f8ca669698",
   "metadata": {},
   "outputs": [],
   "source": [
    "class Adresse:\n",
    "    def __init__(self, strasse, hausnummer, plz, stadt):\n",
    "        self.strasse = strasse\n",
    "        self.hausnummer = hausnummer\n",
    "        self.postleitzahl = plz\n",
    "        self.stadt = stadt\n",
    "    \n",
    "    def print(self):\n",
    "        print('Straße: ', self.strasse)\n",
    "        print('Hausnummer: ', self.hausnummer)\n",
    "        print('Postleitzahl: ', self.postleitzahl)\n",
    "        print('Stadt: ', self.stadt)"
   ]
  },
  {
   "cell_type": "code",
   "execution_count": null,
   "id": "e74ee9ba-4aad-44f0-8be2-91899679331b",
   "metadata": {},
   "outputs": [],
   "source": [
    "adresse_fra_uas = Adresse('Nibelungenplatz', 1, 60318, 'Frankfurt am Main')\n",
    "adresse_fra_uas.print()"
   ]
  },
  {
   "cell_type": "markdown",
   "id": "3ebe307b-71d7-4c74-b66d-6605b8999eb8",
   "metadata": {},
   "source": [
    "Vielleicht möchten wir die Print-Ausgabe unterschiedlich haben, z.B. alles in einer Zeile. Wir erweitern unsere Klasse mit einer neuen Methode namens `print_einzeilig()`:"
   ]
  },
  {
   "cell_type": "code",
   "execution_count": null,
   "id": "5a77aadf-7595-4feb-8a47-6b8b0ee3393d",
   "metadata": {},
   "outputs": [],
   "source": [
    "class Adresse:\n",
    "    def __init__(self, strasse, hausnummer, plz, stadt):\n",
    "        self.strasse = strasse\n",
    "        self.hausnummer = hausnummer\n",
    "        self.postleitzahl = plz\n",
    "        self.stadt = stadt\n",
    "    \n",
    "    def print(self):\n",
    "        print('Straße: ', self.strasse)\n",
    "        print('Hausnummer: ', self.hausnummer)\n",
    "        print('Postleitzahl: ', self.postleitzahl)\n",
    "        print('Stadt: ', self.stadt)\n",
    "        \n",
    "    def print_einzeilig(self):\n",
    "        print('{} {}, {} {}'.format(self.strasse, self.hausnummer, self.postleitzahl, self.stadt ))"
   ]
  },
  {
   "cell_type": "code",
   "execution_count": null,
   "id": "e263bf89-fd24-4aa8-adc1-6b1ac428e4be",
   "metadata": {},
   "outputs": [],
   "source": [
    "adresse_fra_uas = Adresse('Nibelungenplatz', 1, 60318, 'Frankfurt am Main')\n",
    "\n",
    "print('zuerst so:')\n",
    "adresse_fra_uas.print()\n",
    "\n",
    "print('\\n und \\ndann einzeilig:')\n",
    "adresse_fra_uas.print_einzeilig()"
   ]
  },
  {
   "cell_type": "markdown",
   "id": "51bc2efe-aefc-4335-9e94-7fde17011810",
   "metadata": {},
   "source": [
    "**Mini-Übung**\n",
    "\n",
    "Fügen Sie Ihrer Klasse zum Verwalten von Studierenden zwei Print-Funktionen hinzu. Die erste Print-Funktion soll in einer Zeile `Vorname Nachname (xxxxxx)` ausgeben, wobei das xxxxxx für die Matrikel-Nummer steht, also z.B.\n",
    "\n",
    "```\n",
    "Alice Wunderland (123456)\n",
    "```\n",
    "\n",
    "ausgeben. Die zweite soll `Nachname, Vorname (Matrikel-Nummer: xxxxxx)` ausgeben, also z.B.\n",
    "\n",
    "```\n",
    "Wunderland, Alice (Matrikel-Nummer: 123456)\n",
    "```"
   ]
  },
  {
   "cell_type": "code",
   "execution_count": null,
   "id": "860adb6c-766c-4863-a16d-4606c5ddbef4",
   "metadata": {},
   "outputs": [],
   "source": [
    "# Ihr Code:\n"
   ]
  },
  {
   "cell_type": "markdown",
   "id": "6b6139ed-82c0-4787-96ba-e88d23714c53",
   "metadata": {},
   "source": [
    "Bisher hatten wir nur Methoden ohne weitere Eingabe-Parameter (natürlich mit dem self-Parameter, der gehört zu allen Methoden dazu). Methoden können aber auch weitere Parameter haben. Beispielsweise könnte man eine Print-Funktion schreiben, bei der durch einen Parameter gesteuert wird, ob die Adresse in vier oder in einer Zeile angezeigt wird:"
   ]
  },
  {
   "cell_type": "code",
   "execution_count": null,
   "id": "d0e435cb-da04-451c-ba27-f90b3dfe23b5",
   "metadata": {},
   "outputs": [],
   "source": [
    "class Adresse:\n",
    "    def __init__(self, strasse, hausnummer, plz, stadt):\n",
    "        self.strasse = strasse\n",
    "        self.hausnummer = hausnummer\n",
    "        self.postleitzahl = plz\n",
    "        self.stadt = stadt\n",
    "    \n",
    "    def print(self, einzeilig):\n",
    "        if einzeilig == True:\n",
    "            print('{} {}, {} {}'.format(self.strasse, self.hausnummer, self.postleitzahl, self.stadt ))\n",
    "        else:    \n",
    "            print('Straße: ', self.strasse)\n",
    "            print('Hausnummer: ', self.hausnummer)\n",
    "            print('Postleitzahl: ', self.postleitzahl)\n",
    "            print('Stadt: ', self.stadt)\n",
    "    "
   ]
  },
  {
   "cell_type": "markdown",
   "id": "38bf4259-8267-4888-996d-c6c865f6c3d5",
   "metadata": {},
   "source": [
    "Probieren wir es aus:"
   ]
  },
  {
   "cell_type": "code",
   "execution_count": null,
   "id": "17b5ad3a-14df-46ed-8e3f-2cf1225f52a0",
   "metadata": {},
   "outputs": [],
   "source": [
    "adresse_fra_uas = Adresse('Nibelungenplatz', 1, 60318, 'Frankfurt am Main')\n",
    "\n",
    "print('zuerst einzeilig:')\n",
    "adresse_fra_uas.print(True)\n",
    "\n",
    "print('\\nund dann vierzeilig:')\n",
    "adresse_fra_uas.print(False)"
   ]
  },
  {
   "cell_type": "markdown",
   "id": "3ef3b6e0-c03d-40e8-b6d4-6d44fea8851a",
   "metadata": {},
   "source": [
    "Zuletzt betrachten wir noch Methoden mit Rückgabewert. Wie bei Funktionen auch genügt es mit dem Schlüsselwort `return` den Rückgabewert zu definieren. Sehr häufig ist dabei der Fall, dass eine Eigenschaft des Objektes zurückgegeben wird. Dann wird in der Regel der Methodenname\n",
    "\n",
    "```\n",
    "get_attribut()\n",
    "```\n",
    "\n",
    "gewählt.\n",
    "\n",
    "Aber prinzipiell kann der Rückgabewert auch eine Berechnung oder ähnliches enthalten."
   ]
  },
  {
   "cell_type": "code",
   "execution_count": null,
   "id": "bb81714a-482f-4832-8848-eb154c63e412",
   "metadata": {},
   "outputs": [],
   "source": [
    "class Adresse:\n",
    "    def __init__(self, strasse, hausnummer, plz, stadt):\n",
    "        self.strasse = strasse\n",
    "        self.hausnummer = hausnummer\n",
    "        self.postleitzahl = plz\n",
    "        self.stadt = stadt\n",
    "    \n",
    "    def print(self, einzeilig):\n",
    "        if einzeilig == True:\n",
    "            print('{} {}, {} {}'.format(self.strasse, self.hausnummer, self.postleitzahl, self.stadt ))\n",
    "        else:    \n",
    "            print('Straße: ', self.strasse)\n",
    "            print('Hausnummer: ', self.hausnummer)\n",
    "            print('Postleitzahl: ', self.postleitzahl)\n",
    "            print('Stadt: ', self.stadt)\n",
    " \n",
    "    def get_stadt(self, grossschreibung):\n",
    "        if grossschreibung == True:\n",
    "            return self.stadt.upper()\n",
    "        else:\n",
    "            return self.stadt"
   ]
  },
  {
   "cell_type": "markdown",
   "id": "d556001f-eafa-4788-99ac-4eca02efef61",
   "metadata": {},
   "source": [
    "Und auch diese Methode probieren wir aus. Je nachdem, ob die Methode mit `True` oder `False` aufgerufen wird, gibt die Methode den String `self.stadt` zurück, entweder normal geschrieben oder in Großbuchstaben. Dabei haben wir die Methode `.upper()` verwendet, die alle Buchstaben eines Strings in Großbuchstaben verwandelt."
   ]
  },
  {
   "cell_type": "code",
   "execution_count": null,
   "id": "aba79c5e-f85d-4e20-87f3-e5abb7aef42e",
   "metadata": {},
   "outputs": [],
   "source": [
    "adresse_fra_uas = Adresse('Nibelungenplatz', 1, 60318, 'Frankfurt am Main')\n",
    "\n",
    "print('zuerst normal:')\n",
    "s = adresse_fra_uas.get_stadt(False)\n",
    "print(s)\n",
    "\n",
    "print('\\nund dann groß geschrieben:')\n",
    "s = adresse_fra_uas.get_stadt(True)\n",
    "print(s)"
   ]
  },
  {
   "cell_type": "markdown",
   "id": "1db3edb2-9bf8-40fc-99f4-7254de8ae372",
   "metadata": {},
   "source": [
    "**Mini-Übung**   \n",
    "Erweitern Sie die Klasse zum Verwalten von Studierenden (Vorname, Name, Matrikel-Nummer) um ein Attribut vorleistung_bestanden. Anfangs sollte dieses Attribut auf `False` gesetzt werden. Implementieren Sie eine Methode, die es ermöglicht, dieses Attribut auf `True` zu setzen.\n",
    "\n",
    "Testen Sie anschließend Ihre erweiterte Klasse."
   ]
  },
  {
   "cell_type": "code",
   "execution_count": null,
   "id": "8700ac29-e3c8-48b4-ba6f-3cc199e5058b",
   "metadata": {},
   "outputs": [],
   "source": [
    "# Hier Ihr Code:\n",
    "\n"
   ]
  },
  {
   "cell_type": "markdown",
   "id": "583a32a5-c220-4000-8a5f-af3f37680e63",
   "metadata": {},
   "source": [
    "<div class=\"alert alert-block alert-info\">\n",
    "\n",
    "Hier finden Sie das YouTube-Video \"Methoden in Klassen\" aus dem Python-Tutorial Crashkurs:\n",
    "> https://www.youtube.com/watch?v=58IjjwHs_4A&list=PL_pqkvxZ6ho3u8PJAsUU-rOAQ74D0TqZB&index=24\n",
    "\n",
    "</div>"
   ]
  },
  {
   "cell_type": "markdown",
   "id": "68455a68-5a6c-41b5-99c1-8d5894710a8d",
   "metadata": {},
   "source": [
    "## Module \n",
    "\n",
    "Python bietet schon einige Standard-Funktionen, die Sie ja bereits in den letzten Kapiteln kennengelernt haben. Natürlich gehören dazu Funktionen wie `input()` und `print()`, aber auch eingebaute Sprachelemente wie `if`, `while` und `for`. \n",
    "\n",
    "Rund um diesen Python-Kern haben Programmiererinnen und Programmierer neue Funktionen implementiert, meistens zusammenhängend zu einem bestimmten Thema. Zwei Module haben wir schon erwähnt, das `math`- und das `random`-Modul."
   ]
  },
  {
   "cell_type": "markdown",
   "id": "3239f80a-422d-4e7c-8f13-6df5134f02fb",
   "metadata": {},
   "source": [
    "**Mini-Übung**   \n",
    "Lesen Sie nach: Welche Funktionalitäten beinhaltet das `math`-Modul? Hier finden Sie die offizielle Dokumentation: \n",
    "\n",
    "> https://docs.python.org/3/library/math.html \n",
    "\n",
    "Bitte suchen Sie eine Funktion heraus und übersetzen Sie deren Beschreibung ins Deutsche:"
   ]
  },
  {
   "cell_type": "markdown",
   "id": "dac6ff2b-4ccd-4c68-8b58-46fa57402c1a",
   "metadata": {},
   "source": [
    "#### Hier Ihre deutsche Übersetzung einer Funktionsbeschreibung des math-Moduls\n",
    "\n"
   ]
  },
  {
   "cell_type": "markdown",
   "id": "4b53c0d1-5d3d-402e-8573-9615202cfd79",
   "metadata": {},
   "source": [
    "Es gibt mehrere Möglichkeiten, die Funktionen eines Moduls zu laden. Üblicherweise werden alle benötigten Module zu Beginn geladen, auch wenn man sie erst später braucht. Mit\n",
    "\n",
    "```python\n",
    "from modul import funktion\n",
    "```\n",
    "\n",
    "importiert man aus dem Module `modul` die Funktion `funktion`. Beispielsweise importieren wir mit\n",
    "\n",
    "```python\n",
    "from math import sqrt\n",
    "```\n",
    "\n",
    "die Wurzelfunktion.\n"
   ]
  },
  {
   "cell_type": "code",
   "execution_count": null,
   "id": "3c79ae79-973d-4bda-9118-69974ef519c5",
   "metadata": {},
   "outputs": [],
   "source": [
    "from math import sqrt\n",
    "sqrt(49)"
   ]
  },
  {
   "cell_type": "markdown",
   "id": "aaf327a1-5661-47a3-8bdd-1bde0554c600",
   "metadata": {},
   "source": [
    "Zu einem Modul können nicht nur Funktionen gehören, sondern auch Konstanten. Hier sehen Sie $\\pi$:"
   ]
  },
  {
   "cell_type": "code",
   "execution_count": null,
   "id": "58093fe7-a7c0-4416-8973-4f82fe944e78",
   "metadata": {},
   "outputs": [],
   "source": [
    "from math import pi\n",
    "pi"
   ]
  },
  {
   "cell_type": "markdown",
   "id": "146064b3-d2c5-46d5-8cf3-5fdd0c596bc0",
   "metadata": {},
   "source": [
    "Das andere Modul, das wir schon gesehen haben, ist eine Sammlung von Funktionen rund um alles, was mit Zufall zu tun hat. Raten Sie, was könnte folgender Code bedeuten?"
   ]
  },
  {
   "cell_type": "code",
   "execution_count": null,
   "id": "8cd9eb57-79fd-48d6-a6d4-a085e28caf88",
   "metadata": {},
   "outputs": [],
   "source": [
    "from random import randint\n",
    "x = randint(1,49)\n",
    "print(x)"
   ]
  },
  {
   "cell_type": "markdown",
   "id": "c807ecb9-bfd5-42b2-b3f1-b0d07a59b194",
   "metadata": {},
   "source": [
    "Oft ist es so, dass Sie eine bestimmte Problemstellung durch die Programmierung lösen wollen und daher sehr viele Funktionen oder Konstanten des gleichen Moduls benötigen. Wir können durch den Befehl\n",
    "\n",
    "```python\n",
    "from modul import *\n",
    "```\n",
    "\n",
    "*alle* Funktionen und Konstanten des Moduls gleichzeitig importieren. "
   ]
  },
  {
   "cell_type": "code",
   "execution_count": null,
   "id": "b9f9e656-a094-413c-86f8-21da7a444209",
   "metadata": {},
   "outputs": [],
   "source": [
    "from math import *\n",
    "\n",
    "print('Die Kreiszahl ist: ', pi)\n",
    "print('Die eulersche Zahl ist: ', e)\n",
    "print('Und exp(0) = ', exp(0))"
   ]
  },
  {
   "cell_type": "markdown",
   "id": "1e55cb41-740e-41c2-8b61-a8cc0a2ff60d",
   "metadata": {},
   "source": [
    "Auch wenn diese Möglichkeit besteht, sollten Sie nur sehr selten und wohlüberlegt davon Gebrauch machen. In den seltesten Fällen kennen wir nämlich alle dort definierten Funktionen und Konstanten. Es könnte sein, dass Sie mit dem `import *` zufällig eine Konstante importieren, die Sie selbst schon definiert haben und damit Ihre Arbeit überschreiben.\n",
    "\n",
    "Daher ist folgende Lösung die Variante, die von den meisten Programmiererinnen und Programmieren verwendet wird:\n",
    "\n",
    "```python\n",
    "import modul as modulabkuerzung\n",
    "```\n",
    "\n",
    "Dann müssen sämtliche Konstanten und Funktionen aufgerufen werden, indem wir den Abkürzungsnamen des Moduls mit einem Punkt vor die Funktion setzen.\n",
    "\n"
   ]
  },
  {
   "cell_type": "code",
   "execution_count": null,
   "id": "ce84fda0-e9df-4042-adb2-4a12b23aefd3",
   "metadata": {},
   "outputs": [],
   "source": [
    "import random as rnd\n",
    "\n",
    "x = rnd.randint(1,49)\n",
    "print(x)"
   ]
  },
  {
   "cell_type": "markdown",
   "id": "72fabede-d8e8-426f-975e-6311983277c8",
   "metadata": {},
   "source": [
    "Warum sollte man diese etwas kompliziertere Schreibweise nehmen? Viele Module haben Überschneidungen.  Die Konstante $\\pi$ ist beispielsweise nicht nur im Modul `math`, sondern auch in den Modulen `sympy` und `numpy`. Wenn Sie jedoch explizit den Namen des Moduls davor schreiben, gibt es keine Verwechslungsgefahr. Bei einer Konstanten mag dieser Aufwand übertrieben wirken, aber bei Funktionen kann der Unterschied der verschiedenen Implementierungen zu völlig unerwarteten Verhalten führen.  "
   ]
  },
  {
   "cell_type": "markdown",
   "id": "0349cdd9-b885-474b-a6fa-55f6799b85a3",
   "metadata": {},
   "source": [
    "## Das Modul Numpy\n",
    "\n",
    "NumPy ist die Abkürzung für numerisches Python. Die Internetseite\n",
    "\n",
    "> https://numpy.org\n",
    "\n",
    "behauptet sogar von ihrem eigenen Paket, dass NumPy das fundamentale Modul für alle wissenschaftlichen Programme in Python ist - stimmt wahrscheinlich!\n",
    "\n",
    "Alle Daten lassen sich letztendlich als eine Folge von Zahlen schreiben. Beispielsweise kann ein Foto durch seine Pixel beschrieben werden zusammengesetzt aus den Werten RGB (rot - grün - blau). Python bietet dafür schon einen Datentyp, die Liste, in der Zahlen (Integer oder Float) gespeichert werden können. Da Python eine interpretierte Programmiersprache ist und da in der Liste auch andere Datentypen wie zum Beispiel Strings vorkommen dürfen, sind Listen für große Datenmengen nicht geeignet. Stattdessen stellt das Modul NumPy einen effizienten Datentyp zur Verfügung, das sogenannten **NumPy-Array**.  \n",
    "\n",
    "Dazu kommen noch Funktionen, die wichtig für Arrays sind wir Vektoroperationen. Tatsächlich sind die meisten NumPy-Operationen nicht in Python programmiert, sondern in C. Damit sind NumPy-Funktionen sehr effizient und das tolle daran ist, dass wir uns keine Gedanken über hardwarenahe Programmierung mit C oder C++ machen müssen :-)\n",
    "\n",
    "Schauen wir uns für das Bestimmen des Maximums einer Liste von zufällig erzeugten Zahlen zwischen 0 und 1 an. Zunächst erzeugen wir die Liste der 100 Zahlen. Dazu importieren wir NumPy mit seiner typischen Abkürzung `np`."
   ]
  },
  {
   "cell_type": "code",
   "execution_count": null,
   "id": "c304e376-cfff-497b-96e3-64156d361c7d",
   "metadata": {},
   "outputs": [],
   "source": [
    "import numpy as np\n",
    "\n",
    "# erzeuge Liste\n",
    "M = np.random.random(100)\n",
    "\n",
    "print(M)"
   ]
  },
  {
   "cell_type": "markdown",
   "id": "136f6650-0180-4ae9-89db-29ef475789f3",
   "metadata": {},
   "source": [
    "Als nächstes berechnen wir das Maximum dieser Zahlen mit der eingebauten Standardfunktion `max`, dann mit `np.max`:"
   ]
  },
  {
   "cell_type": "code",
   "execution_count": null,
   "id": "1e857990-b25a-4526-9e94-b2eea1a6c21e",
   "metadata": {},
   "outputs": [],
   "source": [
    "max_standard = max(M)\n",
    "max_numpy = np.max(M)\n",
    "\n",
    "print('Standard max = ', max_standard)\n",
    "print('Numpy max = ', max_numpy)"
   ]
  },
  {
   "cell_type": "markdown",
   "id": "f3a7a7e3-2372-419b-a6f0-2a34bf22a66d",
   "metadata": {},
   "source": [
    "Aber wie lange haben eigentlich die Berechnungen gedauert? Bei so kleinen Listen lohnt es nicht, die Berechnung mit der Stoppuhr zu ermitteln, die typischen Rechnenzeiten sind zu kurz. Aber JupyterLab bietet ein eingebautes Kommando, nämlich `%timeit`. Der Vorteil dieses Kommandos ist, dass der Python-Interpreter bei sehr kurzen Rechenzeiten einfach den Code mehrmals durchläuft und Mittelwerte bildet. "
   ]
  },
  {
   "cell_type": "code",
   "execution_count": null,
   "id": "9f8e4b00-1ba8-45cd-9d8f-06569166b6fa",
   "metadata": {},
   "outputs": [],
   "source": [
    "%timeit max_standard = max(M)\n",
    "%timeit max_numpy = np.max(M)"
   ]
  },
  {
   "cell_type": "markdown",
   "id": "8246c238-6553-415c-87f6-d9db17f5695a",
   "metadata": {},
   "source": [
    "Sie sehen, die NumPy-Variante ist erheblich schneller als die Standard-Variante."
   ]
  },
  {
   "cell_type": "markdown",
   "id": "48254362-b363-4dcb-b567-5631549b19ec",
   "metadata": {},
   "source": [
    "### Erzeugung von NumPy-Arrays\n",
    "\n",
    "Im Gegensatz zu Python-Listen enthalten NumPy-Arrays nur Elemente des gleichen Datentyps. Aber wenn eine Liste nur aus gleichen Datentypen besteht, können wir direkt aus ihr ein NumPy-Array erzeugen:\n"
   ]
  },
  {
   "cell_type": "code",
   "execution_count": null,
   "id": "ea594bfc-667d-4a38-9740-1c4e0185e915",
   "metadata": {},
   "outputs": [],
   "source": [
    "liste = [1, 2, 3, 4, 5]\n",
    "a = np.array(liste)\n",
    "\n",
    "print(a)\n",
    "print( type(a) )"
   ]
  },
  {
   "cell_type": "markdown",
   "id": "c8ed8a61-d8a8-492f-9020-67fa6d755177",
   "metadata": {},
   "source": [
    "Sehr häufig kommen auch zweidimensionale Arrays vor. In der Mathematik würde man ein eindimensionales Array als Vektor bezeichnen und ein zweidimensionales Array als Matrix. Dafür gibt es spezialisierte Erzeugungsmethoden:"
   ]
  },
  {
   "cell_type": "code",
   "execution_count": null,
   "id": "80e6db8b-43a2-4a8b-b22e-6165d00b8d74",
   "metadata": {},
   "outputs": [],
   "source": [
    "# 1d-Array gefüllt mit Nullen\n",
    "x = np.zeros(10)\n",
    "print(x)"
   ]
  },
  {
   "cell_type": "code",
   "execution_count": null,
   "id": "8d6069cf-07dc-445e-a67b-e16ff3527118",
   "metadata": {},
   "outputs": [],
   "source": [
    "# 2d-Array gefüllt mit Nullen\n",
    "x = np.zeros( (3,10) )\n",
    "print(x)"
   ]
  },
  {
   "cell_type": "code",
   "execution_count": null,
   "id": "cd4ed200-75a5-4581-b0ee-4d823dd3cd9d",
   "metadata": {},
   "outputs": [],
   "source": [
    "# 1d-Array gefüllt mit Einsen\n",
    "x = np.ones(7)\n",
    "print(x)"
   ]
  },
  {
   "cell_type": "code",
   "execution_count": null,
   "id": "b8a6c6e2-b72e-484b-a0c6-34cf275a9423",
   "metadata": {},
   "outputs": [],
   "source": [
    "# 2d-Array gefüllt mit Nullen\n",
    "x = np.ones( (3,4) )\n",
    "print(x)"
   ]
  },
  {
   "cell_type": "code",
   "execution_count": null,
   "id": "f2f212be-da4d-4ae1-bb1f-1ddf8265408c",
   "metadata": {},
   "outputs": [],
   "source": [
    "# 2d-Array gefüllt mit einem konstanten Wert\n",
    "x = np.full( (3,4), -17.7)\n",
    "print(x)"
   ]
  },
  {
   "cell_type": "code",
   "execution_count": null,
   "id": "2ac7a969-3d8d-4f77-a262-ba8d6b0bc50b",
   "metadata": {},
   "outputs": [],
   "source": [
    "# 1d-Array, das gleichmäßig zwischen start und stopp mit num Werten gefüllt wird\n",
    "# im Beispiel: start = 1, stopp = 10, num = 25 \n",
    "x = np.linspace(1, 10, 25)\n",
    "print(x)"
   ]
  },
  {
   "cell_type": "code",
   "execution_count": null,
   "id": "84a3fa02-ae50-4ac5-95e7-032c934244b0",
   "metadata": {},
   "outputs": [],
   "source": [
    "# 1d-Array, das bei start beginnt, step dazu addiert und bis kurz vor stopp geht\n",
    "# im Beispiel: start = 1, stopp = 20, step = 2\n",
    "x = np.arange(1, 20, 2)\n",
    "print(x)"
   ]
  },
  {
   "cell_type": "code",
   "execution_count": null,
   "id": "f3e081f1-8c26-4ab7-acf9-ed732b43e577",
   "metadata": {},
   "outputs": [],
   "source": [
    "# 2d-Array mit gleichmäßig zwischen 0 und 1 verteilten Zufallszahlen\n",
    "x = np.random.random( (2,3) )\n",
    "print(x)"
   ]
  },
  {
   "cell_type": "code",
   "execution_count": null,
   "id": "f5ef6e46-f0df-43cf-8e29-70893a57b80d",
   "metadata": {},
   "outputs": [],
   "source": [
    "# 2d-Array mit normalverteilten Zufallszahlen \n",
    "x = np.random.normal(0, 1, (3,4) )\n",
    "print(x)"
   ]
  },
  {
   "cell_type": "code",
   "execution_count": null,
   "id": "7417fc4b-ed1c-440f-a227-9d1c043c24b6",
   "metadata": {},
   "outputs": [],
   "source": [
    "# 2d-Array als Einheitsmatrix der Größe m x m, hier m = 5\n",
    "x = np.eye(5)\n",
    "print(x)"
   ]
  },
  {
   "cell_type": "markdown",
   "id": "3a6752c1-ecf5-49fb-a3cd-e802beef6aba",
   "metadata": {},
   "source": [
    "### Attribute von NumPy-Arrays\n",
    "\n",
    "Damit wir besser verstehen, welche Attribute die NumPy-Arrays haben können, erzeugen wir uns zufällig drei NumPy-Arrays. Damit aber nicht bei jeder neuen Ausführung der Code-Zelle neue Zufallszahlen gezogen werden, fixieren wir den Seed des Zufallszahlengenerators (vereinfacht gesagt kommen jetzt immer die gleichen Zufallszahlen):\n"
   ]
  },
  {
   "cell_type": "code",
   "execution_count": null,
   "id": "6b946652-d192-4368-834a-f1c17d054e32",
   "metadata": {},
   "outputs": [],
   "source": [
    "import numpy as np\n",
    "       \n",
    "np.random.seed(0)\n",
    "\n",
    "x = np.random.randint(10, size=7)\n",
    "y = np.random.randint(10, size=(2, 3))\n",
    "z = np.random.randint(10, size=(2, 3, 4))\n",
    "\n",
    "print('x = ')\n",
    "print(x)\n",
    "\n",
    "print('y = ')\n",
    "print(y)\n",
    "\n",
    "print('z = ')\n",
    "print(z)"
   ]
  },
  {
   "cell_type": "markdown",
   "id": "23902d60-f148-45a3-a246-dea80c23912f",
   "metadata": {},
   "source": [
    "Bei den Listen haben wir eine Funktion kennengelernt, mit der die Anzahl der Elemente in der Liste bestimmt werden kann: `len()`. Listen sind eindimensional, aber NumPy-Arrays können mehrdimensional sein. Daher gibt es hier auch mehr Eigenschaften für die Beschreibung:\n",
    "\n",
    "* Anzahl der Dimensionen: `.ndim`\n",
    "* Größe der jeweiligen Dimension: `.shape`\n",
    "* Gesamtgröße des Arrays: `.size`"
   ]
  },
  {
   "cell_type": "code",
   "execution_count": null,
   "id": "9201ffb6-3a64-487e-af10-f9c05e939815",
   "metadata": {},
   "outputs": [],
   "source": [
    "print('x = ')\n",
    "print(x)\n",
    "\n",
    "print( x.ndim )\n",
    "print( x.shape )\n",
    "print( x.size )"
   ]
  },
  {
   "cell_type": "code",
   "execution_count": null,
   "id": "b641dc85-3cf9-416b-9824-05cc7dbab763",
   "metadata": {},
   "outputs": [],
   "source": [
    "print('y = ')\n",
    "print(y)\n",
    "\n",
    "print( y.ndim )\n",
    "print( y.shape )\n",
    "print( y.size )"
   ]
  },
  {
   "cell_type": "code",
   "execution_count": null,
   "id": "ece33f02-b153-48fd-94ac-0408199576b3",
   "metadata": {},
   "outputs": [],
   "source": [
    "print('z = ')\n",
    "print(z)\n",
    "\n",
    "print( z.ndim )\n",
    "print( z.shape )\n",
    "print( z.size )"
   ]
  },
  {
   "cell_type": "markdown",
   "id": "a01b14cd-e161-43fd-a894-b65f2947b3f8",
   "metadata": {},
   "source": [
    "### Zugriff (Indizierung) von NumPyy-Arrays\n",
    "\n",
    "Der Zugriff bei eindimensionalen Arrays erfolgt genau wie bei Listen über den Operator `[]`. Auch hier wird ab 0 beginnend gezählt."
   ]
  },
  {
   "cell_type": "code",
   "execution_count": null,
   "id": "dbaf900d-4b9c-45f5-9ea5-2ba7779227f1",
   "metadata": {},
   "outputs": [],
   "source": [
    "x = np.random.randint(10, size=7)\n",
    "print(x)\n",
    "\n",
    "drittes_element = x[2]\n",
    "print( drittes_element )"
   ]
  },
  {
   "cell_type": "markdown",
   "id": "a8ba5cb1-d94a-4cec-ad5d-7275c24ac744",
   "metadata": {},
   "source": [
    "Interessant wird es zu sehen, wie auf mehrdimensionale Arrays zugegriffen wird:"
   ]
  },
  {
   "cell_type": "code",
   "execution_count": null,
   "id": "b223c162-ce6c-4a6c-815f-f007c484ba84",
   "metadata": {},
   "outputs": [],
   "source": [
    "print('y = ')\n",
    "print(y)\n",
    "\n",
    "element = y[0,2]\n",
    "print(element)"
   ]
  },
  {
   "cell_type": "code",
   "execution_count": null,
   "id": "21e11536-3e20-49be-b99a-0903d279bc44",
   "metadata": {},
   "outputs": [],
   "source": [
    "print('z = ')\n",
    "print(z)\n",
    "\n",
    "element = z[1,1,3]\n",
    "print(element)"
   ]
  },
  {
   "cell_type": "markdown",
   "id": "b63f8d29-b621-4973-823f-27276cd3f85c",
   "metadata": {},
   "source": [
    "So kann man übrigens auch die Werte einzelner Elemente des Arrays ändern:"
   ]
  },
  {
   "cell_type": "code",
   "execution_count": null,
   "id": "ae949eb0-e53d-4d24-b9ce-c17d5d35672c",
   "metadata": {},
   "outputs": [],
   "source": [
    "print('vorher z = ')\n",
    "print(z)\n",
    "\n",
    "z[1,1,3] = 777\n",
    "print('nachher z = ', z)"
   ]
  },
  {
   "cell_type": "markdown",
   "id": "d0571300-d848-4c85-b8a8-ebf9266a6f70",
   "metadata": {},
   "source": [
    "### Slicing (Teilmengen eines Arrays)\n",
    "\n",
    "Mit \n",
    "\n",
    "```python\n",
    "x[start:stopp:schrittweite]\n",
    "```\n",
    "\n",
    "werden Teilmengen eines Arrays ausgewählt. Der Start- oder der Stoppwert darf auch weggelassen werden, dann wir einfach alles ab 0 oder alles bis zum Ende ausgewählt.\n",
    "\n",
    "Achtung: Wieder geht es nur bis stopp - 1!"
   ]
  },
  {
   "cell_type": "code",
   "execution_count": null,
   "id": "4316c3d2-92eb-44ca-b5a3-280477a828f5",
   "metadata": {},
   "outputs": [],
   "source": [
    "x = np.random.randint(100, size=10)\n",
    "print('x: ', x)\n",
    "\n",
    "auswahl1 = x[3:5]\n",
    "print('Auswahl 1: ', auswahl1)\n",
    "\n",
    "auswahl2 = x[ :5]\n",
    "print('Auswahl 2: ', auswahl2)\n",
    "\n",
    "auswahl3 = x[3: ]\n",
    "print('Auswahl 3: ', auswahl3)\n",
    "\n",
    "auswahl4 = x[3:10:2]\n",
    "print('Auswahl 4: ', auswahl4)"
   ]
  },
  {
   "cell_type": "markdown",
   "id": "2e5fdb2e-cc21-4a42-94cf-fb20d056e6eb",
   "metadata": {},
   "source": [
    "Das geht auch genauso bei den mehrdimensionalen Arrays:"
   ]
  },
  {
   "cell_type": "code",
   "execution_count": null,
   "id": "b93fc31e-7509-418e-a454-7a773be0082a",
   "metadata": {},
   "outputs": [],
   "source": [
    "y = np.random.randint(100, size=(3,10))\n",
    "print('y: ')\n",
    "print(y)\n",
    "\n",
    "auswahl1 = y[1, 3:5]\n",
    "print('Auswahl 1: ', auswahl1)\n",
    "\n",
    "auswahl2 = y[0, :5]\n",
    "print('Auswahl 2: ', auswahl2)\n",
    "\n",
    "auswahl3 = y[2, 3: ]\n",
    "print('Auswahl 3: ', auswahl3)\n",
    "\n",
    "auswahl4 = y[0:2, 3:10:2]\n",
    "print('Auswahl 4: ')\n",
    "print(auswahl4)"
   ]
  },
  {
   "cell_type": "markdown",
   "id": "404a5fc9-ae57-46eb-9a58-1095f2410cd4",
   "metadata": {},
   "source": [
    "### Arrays verketten oder aufteilen\n",
    "\n",
    "Sehr häufig passiert bei der Datenanalyse Folgendes: wir lesen einen Datensatz ein und möchten dann diesen Datensatz mit einem zweiten Datensatz gemeinsam analysieren. Dazu müssen wir die Datensätze vereinigen. Später werden wir maschinelle Lernverfahren verwenden. Um schon einmal einen Asublick auf säter zu geben, Datensätze werden normalerweise in einen Trainingsdatensatz und einen Testdatensatz aufgeteilt. Mit dem Trainingsdatensatz wird das maschinelle Lernverfahren trainiert und dann anschließend mit dem Testdatensatz überprüft, wie gut das gelernte ML-Verfahren funktioniert. Daher ist auch das Aufteilen von Daten win wichtiges Thema. \n",
    "\n",
    "Die Verkettung oder Vereinigung von NumPy-Arrays erfolgt mit der Funktion `np.concatenate`. Der einfachste Fall liegt vor, wenn wir zwei 1d-Arrays verketten möchten."
   ]
  },
  {
   "cell_type": "code",
   "execution_count": null,
   "id": "569353e8-5d72-4d4e-ad8c-f10243c6cc4d",
   "metadata": {},
   "outputs": [],
   "source": [
    "x1 = np.array([1, 2, 3, 4])\n",
    "x2 = np.array([7, 8, 9])\n",
    "\n",
    "x = np.concatenate( [x1, x2] )\n",
    "print(x)"
   ]
  },
  {
   "cell_type": "markdown",
   "id": "11574abb-a48e-47af-97eb-92e310812031",
   "metadata": {},
   "source": [
    "Dabei dürfen beliebig viele 1d-Arrays kombiniert werden, nicht nur zwei."
   ]
  },
  {
   "cell_type": "code",
   "execution_count": null,
   "id": "88e3262c-262e-4e49-977c-6aeeeeec2a0c",
   "metadata": {},
   "outputs": [],
   "source": [
    "x1 = np.array([1, 2, 3, 4])\n",
    "x2 = np.array([7, 8, 9])\n",
    "\n",
    "x = np.concatenate( [x1, x2, x1, x1] )\n",
    "print(x)"
   ]
  },
  {
   "cell_type": "markdown",
   "id": "7ef6556c-b0c4-4448-bf4d-0bcb0aa8fb67",
   "metadata": {},
   "source": [
    "Mit zweidimensionalen Arrays funktioniert das Kommando `np.concatenate` auch, allerdings müssen wir darauf achten, ob wir entlang der Achse 0 oder entlang der Achse 1 die Arrays vereinigen möchten."
   ]
  },
  {
   "cell_type": "code",
   "execution_count": null,
   "id": "d5cf53e7-ba5c-4bea-adb2-24afaabdf8c1",
   "metadata": {},
   "outputs": [],
   "source": [
    "X1 = np.full( (3,4), 1 )\n",
    "X2 = np.full( (2,4), 2 )\n",
    "\n",
    "print(X1)\n",
    "print(X2)\n",
    "\n",
    "X = np.concatenate( [X1,X2], axis=0)\n",
    "print(X)"
   ]
  },
  {
   "cell_type": "markdown",
   "id": "4aa3e622-a063-45c2-a06a-1f8e0d93922c",
   "metadata": {},
   "source": [
    "Und hier ein Beispiel für eine Vereinigung entlang der Achse 1:"
   ]
  },
  {
   "cell_type": "code",
   "execution_count": null,
   "id": "7bd246b0-5cde-4076-8518-7904d5ac7789",
   "metadata": {},
   "outputs": [],
   "source": [
    "X1 = np.full( (3,4), 1 )\n",
    "X2 = np.full( (3,2), 2 )\n",
    "\n",
    "print(X1)\n",
    "print(X2)\n",
    "\n",
    "X = np.concatenate( [X1,X2], axis=1)\n",
    "print(X)"
   ]
  },
  {
   "cell_type": "markdown",
   "id": "fc032d13-dcfa-45ef-b9ed-93039ba22b8e",
   "metadata": {},
   "source": [
    "Sozusagen das Gegenteil der Vereinigung, die Aufteilung oder in Informatik-Sprache der Split, erfolgt mit der Funktion `np.split(array, Liste mit Index)`. Diesmal beschränken wir uns auf 1d-Arrays (2d-Arrays können mit `np.hsplit()` und `np.vsplit()` geteilt werden, kommt selten vor). Wir teilen das Array an der Index-Position 4 auf, d.h. in der Liste zum Trennen ist nur ein Element, nämlich die 4:"
   ]
  },
  {
   "cell_type": "code",
   "execution_count": null,
   "id": "983fd8c3-e0b0-43cb-9479-384c0a8b537d",
   "metadata": {},
   "outputs": [],
   "source": [
    "x = np.linspace(1, 10, 9)\n",
    "print('x: ', x)\n",
    "\n",
    "x1, x2 = np.split(x, [4])\n",
    "print(x1)\n",
    "print(x2)"
   ]
  },
  {
   "cell_type": "markdown",
   "id": "c31a4b4b-f444-40bf-9aa9-86e37f81d4e7",
   "metadata": {},
   "source": [
    "Aber wir können noch mehr Splits erzeugen:"
   ]
  },
  {
   "cell_type": "code",
   "execution_count": null,
   "id": "34d7c4a7-93ca-4be4-b9e9-7a07ecec705c",
   "metadata": {},
   "outputs": [],
   "source": [
    "x = np.linspace(1, 10, 9)\n",
    "print('x: ', x)\n",
    "\n",
    "x1, x2, x3 = np.split(x, [4, 6])\n",
    "print(x1)\n",
    "print(x2)\n",
    "print(x3)"
   ]
  },
  {
   "cell_type": "markdown",
   "id": "12084111-e670-4b55-a5e7-35a81384fdeb",
   "metadata": {},
   "source": [
    "### Funktionen auf NumPy-Arrays anwenden\n",
    "\n",
    "NumPy-Arrays ermöglichen die Verarbeitung mit den typischen mathematischen Funktionen und den üblichen Statistik-Größen. Schauen wir uns einfach ein paar Beispiele an: "
   ]
  },
  {
   "cell_type": "code",
   "execution_count": null,
   "id": "00d30999-f9d3-4870-965a-0a094504dbc2",
   "metadata": {},
   "outputs": [],
   "source": [
    "# erzeuge 11 x-Werte im Intervall [-2*pi, 2*pi]\n",
    "x = np.linspace( -2*np.pi, 2*np.pi, 11)\n",
    "print(x)\n",
    "\n",
    "# Sinus-Funktion\n",
    "y1 = np.sin(x)\n",
    "print(y1)\n",
    "\n",
    "# Kosinus-Funktion\n",
    "y2 = np.cos(x)\n",
    "print(y2)\n",
    "\n",
    "# Exponentialfunktion\n",
    "y3 = np.exp(x)\n",
    "print(y3)\n",
    "\n",
    "# Potenzfunktion, z.B. y = x hoch 5\n",
    "y4 = np.power(x, 5)\n",
    "print(y4)"
   ]
  },
  {
   "cell_type": "code",
   "execution_count": null,
   "id": "2aef6070-5d2b-4e93-a61e-c59de306900e",
   "metadata": {},
   "outputs": [],
   "source": [
    "# erzeuge 3x4-Matrix mit Zufallszahlen\n",
    "X = np.random.random((3,4))\n",
    "print(X)\n",
    "\n",
    "# Summe über alle Elemente\n",
    "s1 = np.sum(X)\n",
    "print('s1', s1)\n",
    "\n",
    "# Summe in Richtung Achse 0\n",
    "s2 = np.sum(X, axis=0)\n",
    "print('s2', s2)\n",
    "\n",
    "# Summe in Richtung Achse 1\n",
    "s3 = np.sum(X, axis=1)\n",
    "print('s3', s3)\n",
    "\n",
    "# Maximum über alle Elemente\n",
    "max1 = np.max(X)\n",
    "print('max1', max1)\n",
    "\n",
    "# Maximum in Richtung Achse 0\n",
    "max2 = np.sum(X, axis=0)\n",
    "print('max2', max2)\n",
    "\n",
    "# Maximum in Richtung Achse 1\n",
    "max3 = np.sum(X, axis=1)\n",
    "print('max3', max3)\n"
   ]
  },
  {
   "cell_type": "markdown",
   "id": "0939b84a-7405-498f-a9f0-220c4862f56a",
   "metadata": {},
   "source": [
    "# Übungsaufgaben"
   ]
  },
  {
   "cell_type": "markdown",
   "id": "ca3bc8bb-f1f7-4dc5-8b91-13073440e2b0",
   "metadata": {},
   "source": [
    "<div class=\"alert alert-block alert-success\">\n",
    "<b>Aufgabe 4.1: Datumsklasse </b> \n",
    "\n",
    "Implementieren Sie eine Klasse Datum. Diese Klasse speichert Tag, Monat und Jahr als Attribut. \n",
    "* Implementieren Sie Methoden, die diese Attribute verändern können. Dabei soll die Methode per Print()-Funktion warnen, wenn eine nicht zulässige Zahl verwendet wird und dann nicht die Änderung durchführen. \n",
    "* Implementieren Sie eine Methode `get_datum_deutsch()`, die das Datum als String nach dem Muster `TT.MM.JJJJ` zurückgibt, also z.B. '06.12.2021'.\n",
    "* Implementieren Sie eine Methode `get_datum_britisch()`, die das Datum als String nach dem Muster `TT/MM/JJJJ` zurückgibt, also z.B. '06/12/2021'.\n",
    "* Implementieren Sie eine Methode `get_datum_amerikanisch()`, die das Datum als String nach dem Muster `MM/TT/JJJJ` zurückgibt, also z.B. '12/06/2021'.\n",
    "\n",
    "</div>"
   ]
  },
  {
   "cell_type": "markdown",
   "id": "7d155d53-1f24-41df-8753-1634bd9bf7d9",
   "metadata": {},
   "source": [
    "<div class=\"alert alert-block alert-success\">\n",
    "<b>Aufgabe 4.2: NumPy-Arrays </b> \n",
    "\n",
    "1. Erstellen Sie ein 5x5-Array, das mit Nullen gefüllt ist.\n",
    "\n",
    "2. Erstellen Sie ein 3x3-Array, das an jeder Stelle mit $\\pi$ gefüllt ist.\n",
    "\n",
    "3. Erzeugen Sie ein 1d-Array mit den Zahlen von 1 bis 100.\n",
    "    \n",
    "4. Erzeugen Sie ein 1d-Array mit den Sinus-Werten an den Stellen von $-2\\cdot\\pi$ bis $2\\cdot\\pi$ mit eienr Schrittweite von $\\frac{1}{4}\\pi$.\n",
    "    \n",
    "5. Erzeugen Sie eine 30x10-Matrix, bei der in der 1, Zeile nur 1 stehen, in der 2. Zeile nur 2 usw.\n",
    "    \n",
    "6. Erzeugen Sie eine 30x5-Matrix, bei der auf der Diagonalen die Zahl $-100$ steht und ansonsten 0.\n",
    "    \n",
    "7. Bilden Sie die Vereinigung der beiden Arrays aus 5) und 6), indem Sie die beiden nebeneinander setzen.\n",
    "    \n",
    "8. Bilden Sie in jeder Spalte die Summe aller Elemente.\n",
    "</div>"
   ]
  }
 ],
 "metadata": {
  "kernelspec": {
   "display_name": "Python [conda env:python38] *",
   "language": "python",
   "name": "conda-env-python38-py"
  },
  "language_info": {
   "codemirror_mode": {
    "name": "ipython",
    "version": 3
   },
   "file_extension": ".py",
   "mimetype": "text/x-python",
   "name": "python",
   "nbconvert_exporter": "python",
   "pygments_lexer": "ipython3",
   "version": "3.8.3"
  }
 },
 "nbformat": 4,
 "nbformat_minor": 5
}
