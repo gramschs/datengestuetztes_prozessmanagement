{
 "cells": [
  {
   "cell_type": "markdown",
   "source": [
    "# Pandas\n",
    "\n",
    "Pandas ist eine Bibliothek zur Verarbeitung und Analyse von Daten in Form von Tabellen und Zeitreihen. Die beiden grundlegenden Datenstrukturen sind `Series` und `DataFrame` für Datenreihen und Tabellen.\n",
    "\n",
    "Um das Modul pandas benutzen zu können, müssen wir es zunächst importieren. Es ist üblich, dabei dem Modul eine Abkürzung zu geben, damit wir nicht immer pandas schreiben müssen, wenn wir eine Funktion aus dem pandas-Modul benutzen."
   ],
   "metadata": {}
  },
  {
   "cell_type": "code",
   "execution_count": 3,
   "source": [
    "import pandas as pd # kürze das Modul pandas als pd ab, um Schreibarbeit zu sparen"
   ],
   "outputs": [],
   "metadata": {}
  },
  {
   "cell_type": "markdown",
   "source": [
    "## Series\n",
    "\n",
    "Die Pandas-Datenstruktur **Series** speichert eine Datenreihe ab. Ein Series-Objekt kann auch als einzelne Spalte einer Tabelle betrachtet werden. Erzeugt werden kann eine Series beispielsweise direkt aus einer Liste.\n",
    "\n",
    "### Erzeugung von Pandas-Series-Objekten und Attribute"
   ],
   "metadata": {}
  },
  {
   "cell_type": "code",
   "execution_count": 4,
   "source": [
    "alter = pd.Series([25, 22, 43, 30])\n",
    "alter"
   ],
   "outputs": [
    {
     "output_type": "execute_result",
     "data": {
      "text/plain": [
       "0    25\n",
       "1    22\n",
       "2    43\n",
       "3    30\n",
       "dtype: int64"
      ]
     },
     "metadata": {},
     "execution_count": 4
    }
   ],
   "metadata": {}
  },
  {
   "cell_type": "markdown",
   "source": [
    "Im Gegensatz zum einem Numpy-Array enthält das Series-Objekt nicht nur die Daten selbst, sondern auch einen sogenannten **Index**. Hier ist der Index implizit definiert, weil wir bei der Initialisierung des Objektes ``alter`` keine weiteren Angaben gemacht haben. Daher hat der Python-Interpreter einfach ganze Zahlen von 0 bis 3 für den Index verwendet. \n",
    "\n",
    "Man kann aber auch explizit einen Index angegeben:"
   ],
   "metadata": {}
  },
  {
   "cell_type": "code",
   "execution_count": 5,
   "source": [
    "alter = pd.Series([25, 22, 43, 30], index=[\"Alice\", \"Bob\", \"Charlie\", \"Dora\"])\n",
    "alter"
   ],
   "outputs": [
    {
     "output_type": "execute_result",
     "data": {
      "text/plain": [
       "Alice      25\n",
       "Bob        22\n",
       "Charlie    43\n",
       "Dora       30\n",
       "dtype: int64"
      ]
     },
     "metadata": {},
     "execution_count": 5
    }
   ],
   "metadata": {}
  },
  {
   "cell_type": "markdown",
   "source": [
    "Zusätzlich enthält die Datenstruktur noch ein Attribut, den Datentyp der gespeicherten Werte. Auf dieses Attribut kann mit dem Punktoperator zugegegriffen werden."
   ],
   "metadata": {}
  },
  {
   "cell_type": "code",
   "execution_count": 6,
   "source": [
    "alter.dtype"
   ],
   "outputs": [
    {
     "output_type": "execute_result",
     "data": {
      "text/plain": [
       "dtype('int64')"
      ]
     },
     "metadata": {},
     "execution_count": 6
    }
   ],
   "metadata": {}
  },
  {
   "cell_type": "markdown",
   "source": [
    "Für die Initialisierung des Series-Objektes werden üblicherweise diese drei Möglichkeiten genutzt:\n",
    "* Liste\n",
    "* Numpy-Array\n",
    "* Dictionary\n",
    "\n",
    "Die erste Art der Initialisierung haben wir schon kennengelernt, nämlich die Erzeugung mit einer Liste. Nun schauen wir uns noch die verbleibenden zwei Arten an. Wir erzeugen zunächst ein numpy-Array und konstruieren damit dann ein Series-Objekt."
   ],
   "metadata": {}
  },
  {
   "cell_type": "code",
   "execution_count": 7,
   "source": [
    "import numpy as np\n",
    "\n",
    "x_array = np.array([np.pi, 2*np.pi, 3*np.pi, 4*np.pi])\n",
    "x_series = pd.Series(x_array, index=['1mal', '2mal', '3mal', '4mal'])\n",
    "\n",
    "x_series"
   ],
   "outputs": [
    {
     "output_type": "execute_result",
     "data": {
      "text/plain": [
       "1mal     3.141593\n",
       "2mal     6.283185\n",
       "3mal     9.424778\n",
       "4mal    12.566371\n",
       "dtype: float64"
      ]
     },
     "metadata": {},
     "execution_count": 7
    }
   ],
   "metadata": {}
  },
  {
   "cell_type": "markdown",
   "source": [
    "Nun verwenden wir ein Dictionary. Die Verwendung des Dictionaries hat den Vorteil, dass die Schlüssel direkt als Index wiederverwertet und somit ein expliziter Index vorliegt."
   ],
   "metadata": {}
  },
  {
   "cell_type": "code",
   "execution_count": 8,
   "source": [
    "d_dictionary = {'1mal': np.pi, '2mal': 2*np.pi, '3mal': 3*np.pi, '4mal': 4*np.pi}\n",
    "d_series = pd.Series(d_dictionary)\n",
    "\n",
    "d_series"
   ],
   "outputs": [
    {
     "output_type": "execute_result",
     "data": {
      "text/plain": [
       "1mal     3.141593\n",
       "2mal     6.283185\n",
       "3mal     9.424778\n",
       "4mal    12.566371\n",
       "dtype: float64"
      ]
     },
     "metadata": {},
     "execution_count": 8
    }
   ],
   "metadata": {}
  },
  {
   "cell_type": "markdown",
   "source": [
    "Neben dem Attribut ``.dtype`` hat ein Series-Objekt noch weitere Attribute, um die Eigenschaften zu beschreiben. Am wichtigsten sind der Index ``.index`` und die rohen Daten, also Werte der Datenreihe ``.value``."
   ],
   "metadata": {}
  },
  {
   "cell_type": "code",
   "execution_count": 9,
   "source": [
    "d_series.index"
   ],
   "outputs": [
    {
     "output_type": "execute_result",
     "data": {
      "text/plain": [
       "Index(['1mal', '2mal', '3mal', '4mal'], dtype='object')"
      ]
     },
     "metadata": {},
     "execution_count": 9
    }
   ],
   "metadata": {}
  },
  {
   "cell_type": "code",
   "execution_count": 10,
   "source": [
    "d_series.values"
   ],
   "outputs": [
    {
     "output_type": "execute_result",
     "data": {
      "text/plain": [
       "array([ 3.14159265,  6.28318531,  9.42477796, 12.56637061])"
      ]
     },
     "metadata": {},
     "execution_count": 10
    }
   ],
   "metadata": {}
  },
  {
   "cell_type": "code",
   "execution_count": 11,
   "source": [
    "d_series"
   ],
   "outputs": [
    {
     "output_type": "execute_result",
     "data": {
      "text/plain": [
       "1mal     3.141593\n",
       "2mal     6.283185\n",
       "3mal     9.424778\n",
       "4mal    12.566371\n",
       "dtype: float64"
      ]
     },
     "metadata": {},
     "execution_count": 11
    }
   ],
   "metadata": {}
  },
  {
   "cell_type": "markdown",
   "source": [
    "### Aufgaben zur Erzeugung von Pandas-Series-Objekten\n",
    "\n",
    "#### Aufgabe 1\n",
    "Erzeugen Sie drei Pandas-Series-Objekte mit den Wochentagen als Index und der Anzahl der Vorlesungsstunden (45 min) an diesem Tag als Daten. Verwenden Sie für jedes dieser drei Objekte eine andere Intialisierungsmethode, also per Liste, Numpy-Array und Dictionary.\n",
    "\n",
    "#### Aufgabe 2\n",
    "Erzeugen Sie ein Pandas-Series-Objekt mit den Monaten als Index und der Anzahl der Tage in diesem Monat als Daten.\n",
    "\n",
    "#### Aufgabe 3\n",
    "Erzeugen Sie ein Pandas-Series-Objekt mit den Zahlen von 1 bis 100 als Index und den Quadratzahlen von 1 bis 100 als Daten. Würden Sie als Initialisierungsmethode ein Dictionary verwenden?\n",
    "\n",
    "#### Aufgabe 4\n",
    "Recherchieren Sie im Internet nach den Ergebnissen der Fußball-Bundesliga (Männer) der Spielsaison 2020/21. Erzeugen Sie ein Pandas-Series-Objekt mit den Vereinsnamen als Index und den Punkten als Daten. Welche Initialisierungsmethode Liste, Numpy-Array oder Dictionary bietet sich hier an?"
   ],
   "metadata": {}
  },
  {
   "cell_type": "code",
   "execution_count": 15,
   "source": [
    "# Aufgabe 1\n",
    "woche01 = pd.Series([6, 4, 4, 0, 8, 0, 0], index=['Mo', 'Di', 'Mi', 'Do', 'Fr', 'Sa', 'So'])\n",
    "\n",
    "w_array = np.array([6, 4, 4, 0, 8, 0, 0])\n",
    "woche02 = pd.Series(w_array, index=['Mo', 'Di', 'Mi', 'Do', 'Fr', 'Sa', 'So'])\n",
    "\n",
    "w_dict = {\n",
    "    'Mo': 6,\n",
    "    'Di': 4,\n",
    "    'Mi': 4,\n",
    "    'Do': 0,\n",
    "    'Fr': 8,\n",
    "    'Sa': 0,\n",
    "    'So': 0\n",
    "}\n",
    "woche03 = pd.Series(w_dict)\n",
    "\n",
    "print(woche01)\n",
    "print(woche02)\n",
    "print(woche03)"
   ],
   "outputs": [
    {
     "output_type": "stream",
     "name": "stdout",
     "text": [
      "Mo    6\n",
      "Di    4\n",
      "Mi    4\n",
      "Do    0\n",
      "Fr    8\n",
      "Sa    0\n",
      "So    0\n",
      "dtype: int64\n",
      "Mo    6\n",
      "Di    4\n",
      "Mi    4\n",
      "Do    0\n",
      "Fr    8\n",
      "Sa    0\n",
      "So    0\n",
      "dtype: int64\n",
      "Mo    6\n",
      "Di    4\n",
      "Mi    4\n",
      "Do    0\n",
      "Fr    8\n",
      "Sa    0\n",
      "So    0\n",
      "dtype: int64\n"
     ]
    }
   ],
   "metadata": {}
  },
  {
   "cell_type": "markdown",
   "source": [],
   "metadata": {}
  },
  {
   "cell_type": "code",
   "execution_count": 27,
   "source": [
    "# Aufgabe 2\n",
    "monat_dict = {'Jan': 31, 'Feb': 28, 'Mär': 31, 'Apr': 30, 'Mai': 31, 'Jun': 30, 'Jul': 31, 'Aug': 31, 'Sep': 30, 'Okt': 31, 'Nov': 30, 'Dez': 31}\n",
    "monat = pd.Series(monat_dict)\n",
    "print(monat)"
   ],
   "outputs": [
    {
     "output_type": "stream",
     "name": "stdout",
     "text": [
      "Jan    31\n",
      "Feb    28\n",
      "Mär    31\n",
      "Apr    30\n",
      "Mai    31\n",
      "Jun    30\n",
      "Jul    31\n",
      "Aug    31\n",
      "Sep    30\n",
      "Okt    31\n",
      "Nov    30\n",
      "Dez    31\n",
      "dtype: int64\n"
     ]
    }
   ],
   "metadata": {}
  },
  {
   "cell_type": "code",
   "execution_count": 28,
   "source": [
    "# Aufgabe 3\n",
    "x = np.arange(1, 101)\n",
    "y = x**2\n",
    "quadratzahlen = pd.Series(y, index=x)\n",
    "print(quadratzahlen)"
   ],
   "outputs": [
    {
     "output_type": "stream",
     "name": "stdout",
     "text": [
      "1          1\n",
      "2          4\n",
      "3          9\n",
      "4         16\n",
      "5         25\n",
      "       ...  \n",
      "96      9216\n",
      "97      9409\n",
      "98      9604\n",
      "99      9801\n",
      "100    10000\n",
      "Length: 100, dtype: int64\n"
     ]
    },
    {
     "output_type": "execute_result",
     "data": {
      "text/plain": [
       "<AxesSubplot:>"
      ]
     },
     "metadata": {},
     "execution_count": 28
    },
    {
     "output_type": "display_data",
     "data": {
      "image/png": "[encoded data removed]",
      "text/plain": [
       "<Figure size 432x288 with 1 Axes>"
      ]
     },
     "metadata": {
      "needs_background": "light"
     }
    }
   ],
   "metadata": {}
  },
  {
   "cell_type": "code",
   "execution_count": 29,
   "source": [
    "# Aufgabe 4\n",
    "\n",
    "data = {\n",
    "    'FC Bayern München': 78,\n",
    "    'RB Leipzig': 65,\n",
    "    'Borussia Dortmund': 64,\n",
    "    'VfL Wolfsburg': 61,\n",
    "    'Eintracht Frankfurt': 60,\n",
    "    'Bayer 04 Leverkusen': 52,\n",
    "    '1. FC Union Berlin': 50,\n",
    "    'Borussia Mönchengladbach': 49,\n",
    "    'VfB Stuttgart': 45,\n",
    "    'SC Freiburg': 45,\n",
    "    'TSG 1899 Hoffenheim': 43,\n",
    "    '1. FSV Mainz 05': 39,\n",
    "    'FC Augsburg': 36,\n",
    "    'Hertha BSC': 35,\n",
    "    'Arminia Bielefeld': 35,\n",
    "    '1. FC Köln': 33,\n",
    "    'Werder Bremen': 31,\n",
    "    'FC Schalke 04': 16\n",
    "}\n",
    "bundesliga_2020 = pd.Series(data)\n",
    "print(bundesliga_2020)\n"
   ],
   "outputs": [
    {
     "output_type": "stream",
     "name": "stdout",
     "text": [
      "FC Bayern München           78\n",
      "RB Leipzig                  65\n",
      "Borussia Dortmund           64\n",
      "VfL Wolfsburg               61\n",
      "Eintracht Frankfurt         60\n",
      "Bayer 04 Leverkusen         52\n",
      "1. FC Union Berlin          50\n",
      "Borussia Mönchengladbach    49\n",
      "VfB Stuttgart               45\n",
      "SC Freiburg                 45\n",
      "TSG 1899 Hoffenheim         43\n",
      "1. FSV Mainz 05             39\n",
      "FC Augsburg                 36\n",
      "Hertha BSC                  35\n",
      "Arminia Bielefeld           35\n",
      "1. FC Köln                  33\n",
      "Werder Bremen               31\n",
      "FC Schalke 04               16\n",
      "dtype: int64\n"
     ]
    }
   ],
   "metadata": {}
  },
  {
   "cell_type": "markdown",
   "source": [
    "## Zugriff auf Zellen -- loc\n",
    "\n",
    "Im Folgenden betrachten wir verschiedene Möglichkeiten, um auf die Werte in einer Zelle zuzugreifen. Wir werden uns vier Möglichkeiten ansehen:\n",
    "* Zugriff auf eine einzelne Zeile, indem ein Index spezifiziert wird\n",
    "* Zugriff auf mehrere Zeilen, indem eine Liste von Indizes übergeben wird\n",
    "* Zugriff auf mehrere zusammenhängende Zeilen, indem ein Slice von Indizes übergeben wird\n",
    "* Zugriff auf mehrere Zeilen, indem eine Liste mit True/False übergeben wird."
   ],
   "metadata": {}
  },
  {
   "cell_type": "code",
   "execution_count": 33,
   "source": [
    "alter = pd.Series([25, 22, 43, 30], index=[\"Alice\", \"Bob\", \"Charlie\", \"Dora\"])\n",
    "alter"
   ],
   "outputs": [
    {
     "output_type": "execute_result",
     "data": {
      "text/plain": [
       "Alice      25\n",
       "Bob        22\n",
       "Charlie    43\n",
       "Dora       30\n",
       "dtype: int64"
      ]
     },
     "metadata": {},
     "execution_count": 33
    }
   ],
   "metadata": {}
  },
  {
   "cell_type": "markdown",
   "source": [
    "Zunächst greifen wir eine einzelne Zeile heraus. Dazu benutzen wir das Attribut ``.loc`` und spezifizieren mit eckigen Klammern den Index der Zeile, also ``.loc[index]``. Anders als bei den folgenden drei Zugriffsmöglichkeiten, wird nur der Wert der Daten in der Zeile zurückgeliefert, nicht aber der dazugehörige Index."
   ],
   "metadata": {}
  },
  {
   "cell_type": "code",
   "execution_count": 47,
   "source": [
    "alter.loc['Alice']"
   ],
   "outputs": [
    {
     "output_type": "execute_result",
     "data": {
      "text/plain": [
       "25"
      ]
     },
     "metadata": {},
     "execution_count": 47
    }
   ],
   "metadata": {}
  },
  {
   "cell_type": "code",
   "execution_count": 59,
   "source": [
    "alter.loc['Dora']"
   ],
   "outputs": [
    {
     "output_type": "execute_result",
     "data": {
      "text/plain": [
       "Dora    30\n",
       "dtype: int64"
      ]
     },
     "metadata": {},
     "execution_count": 59
    }
   ],
   "metadata": {}
  },
  {
   "cell_type": "markdown",
   "source": [
    "Nun erzeugen wir eine Liste von Indizes. Danach können wir aus dem Pandas-Series-Objekt per ``.loc[liste]`` auf mehrere Zeilen zugreifen. Miniaufgabe: Erzeugen Sie analog zu dem untenstehenden Beispiel eine Liste der Männer und geben Sie das Alter der Männer aus."
   ],
   "metadata": {}
  },
  {
   "cell_type": "code",
   "execution_count": 53,
   "source": [
    "frauen  = ['Alice', 'Dora']\n",
    "alter.loc[frauen]\n"
   ],
   "outputs": [
    {
     "output_type": "execute_result",
     "data": {
      "text/plain": [
       "Alice    25\n",
       "Dora     30\n",
       "dtype: int64"
      ]
     },
     "metadata": {},
     "execution_count": 53
    }
   ],
   "metadata": {}
  },
  {
   "cell_type": "markdown",
   "source": [
    "Als dritte Möglichkeit betrachten wir einen Slice, also das Herausschneiden eines zusammenhängenden Stückes aus dem Pandas-Series-Objekt. Dazu spezifizieren wir den Start- und den stoppindex mit einem Doppelpunkt dazwischen, also ``.loc[startindex : stoppindex]``. Das Herausschneiden von zusammenhängenden ZTeilobjekten wird auch als **Slicing** bezeichnet."
   ],
   "metadata": {}
  },
  {
   "cell_type": "code",
   "execution_count": 58,
   "source": [
    "alter.loc['Bob': 'Dora']"
   ],
   "outputs": [
    {
     "output_type": "execute_result",
     "data": {
      "text/plain": [
       "Bob        22\n",
       "Charlie    43\n",
       "Dora       30\n",
       "dtype: int64"
      ]
     },
     "metadata": {},
     "execution_count": 58
    }
   ],
   "metadata": {}
  },
  {
   "cell_type": "markdown",
   "source": [
    "Als letzte Möglichkeit, um auf Zeilen in dem Pandas-Series-Objekt zuzugreifen, betrachten wir die Übergabe eine Liste mit True/False-Werten."
   ],
   "metadata": {}
  },
  {
   "cell_type": "code",
   "execution_count": 61,
   "source": [
    "filter = [True, False, False, True]\n",
    "alter.loc[filter]"
   ],
   "outputs": [
    {
     "output_type": "execute_result",
     "data": {
      "text/plain": [
       "Dora    30\n",
       "dtype: int64"
      ]
     },
     "metadata": {},
     "execution_count": 61
    }
   ],
   "metadata": {}
  },
  {
   "cell_type": "markdown",
   "source": [
    "Letztere Möglichkeit wird vor allem dazu genutzt, Daten nach Eigenschaften zu filtern. Ein simpler Vergleich des Pandas-Series-Objektes beispielsweie erzeugt solche True/False-Objekte, die dann in einem zweiten Schritt genutzt werden können, um das Pandas-Series-Objekt zu filtern. "
   ],
   "metadata": {}
  },
  {
   "cell_type": "code",
   "execution_count": 66,
   "source": [
    "filter = alter < 28\n",
    "alter.loc[filter]"
   ],
   "outputs": [
    {
     "output_type": "execute_result",
     "data": {
      "text/plain": [
       "Alice    25\n",
       "Bob      22\n",
       "dtype: int64"
      ]
     },
     "metadata": {},
     "execution_count": 66
    }
   ],
   "metadata": {}
  },
  {
   "cell_type": "markdown",
   "source": [
    "Nachdem wir nun gelernt haben, wie auf einzelne Element des Pandas-Series-Objektes zugegriffen wird, können wir Daten auch manipulieren. Beispielsweise ist Charlie gar nicht 43 Jahre alt, sondern nur 42. Wir weisen dem Objekt ``alter`` für den Index ``'Charlie'``einen neuen Wert zu:"
   ],
   "metadata": {}
  },
  {
   "cell_type": "code",
   "execution_count": 67,
   "source": [
    "alter.loc['Charlie'] = 42\n",
    "alter"
   ],
   "outputs": [
    {
     "output_type": "execute_result",
     "data": {
      "text/plain": [
       "Alice      25\n",
       "Bob        22\n",
       "Charlie    42\n",
       "Dora       30\n",
       "dtype: int64"
      ]
     },
     "metadata": {},
     "execution_count": 67
    }
   ],
   "metadata": {}
  },
  {
   "cell_type": "markdown",
   "source": [
    "Oder wir wählen alle Frauen aus und machen sie drei Jahre jünger ;-)"
   ],
   "metadata": {}
  },
  {
   "cell_type": "code",
   "execution_count": 68,
   "source": [
    "alter.loc[ ['Alice', 'Dora']] = alter.loc[ ['Alice', 'Dora']] + 3\n",
    "alter"
   ],
   "outputs": [
    {
     "output_type": "execute_result",
     "data": {
      "text/plain": [
       "Alice      28\n",
       "Bob        22\n",
       "Charlie    42\n",
       "Dora       33\n",
       "dtype: int64"
      ]
     },
     "metadata": {},
     "execution_count": 68
    }
   ],
   "metadata": {}
  },
  {
   "cell_type": "markdown",
   "source": [
    "### Einfache statistische Informationen zu Pandas-Series-Objekten bestimmen\n",
    "\n",
    "Pandas ist ein Modul zur statistischen Auswertung von Daten. Daher ermöglicht es in einfacher Weise, die wichtigsten statistischen Informationen auszuwerten. Im Folgenden schauen wir uns\n",
    "\n",
    "* Summe ``.sum()``\n",
    "* Mittelwert ``.mean()``\n",
    "* Standardabweichung ``.std()``\n",
    "* Plots (diskrete und kontinuierliche Daten) ``.plot(kind='line')`` und ``.plot(kind='bar')`` \n",
    "\n",
    "an.\n",
    "\n",
    "Wie Sie sicherlich vermuten, berechnet die Methode ``.sum()`` die Summe aller Einträge im Pandas-Series-Objekt. Gehen wir davon aus, dass die Einträge in dem Objekt ``alter`` nun\n",
    "\n",
    "```\n",
    "Alice   28\n",
    "Bob     22\n",
    "Charlie 42\n",
    "Dora    33\n",
    "````\n",
    "\n",
    "lauten. Dann ist die Summe $28 + 22 + 42 + 33 = 125$. Der Mittelwert ``.mean()`` ist die Summe geteilt durch die Anzahl der Einträge, also $m = 125/4 = 31.25$. Die Standardabweichung gibt an, wie stark die einzelnen Werte vom Mittelwert abweichen. Die mathematische Formel zur Berechnung der Standardabweichung lautet:\n",
    "\n",
    "$$\\sigma = \\frac{1}{N-1} \\sqrt{\\sum_{i=0}^{N} (x_i - m)^2}.$$\n",
    "\n",
    "Somit ist die Standardabweichung in unserem Beispiel $\\sigma = \\sqrt{\\frac{1}{3} \\left( (28-31.25)^2 + (22-31.25)^2 + (42-31.25)^2 + (33-31.25)^2 \\right)} = 8.4606...$ .\n",
    "\n",
    "Kommen wir noch zu den Plots. Mit einem Plots ist die Visualisierung einer Datenreihe gemeint. Wenn die Daten kontinuierlich sind, werden die Datenpunkte üblicherweise mit einer Linie verbunden. Mit kontinuierlich ist gemeint, dass man beispielsweise jede Sekunde eine Messung der Temperatur durchführt, aber zwischen den Sekunden ist die Temperatur ja nicht verschwunden. Zwischen $t = 2 s$ und $t = 3 s$ liegt eigentlich $t = 2.5 s$. Wir nehmen an, dass zwischen dem Zeitpunkt $t = 2 s$ und $t = 3 s$ die Temperatur linear verläuft und dürfen deshlab im Plot die Datenpunkt mit einer Linie verbinden. Anders ist es bei diskreten Daten. Zwischen dem Alter von Alice und dem Alter von Bob liegt nichts dazwischen. Daher können diese Datenpunkte auch nicht mit einer Linie verbunden werden. Daher werden diskrete Daten als Balkendiagramme visualisiert. Die Plots werden mit der Methode ``.plot()`` erzeugt. Standardmäßig ist der Linienplot voreingestellt, also eigentlich die Option ``.plot(kind='line')``. Diskrete Daten mit Balkendiagrammen werden mit der Methode ``.plot(kind='bar')`` erzeugt.  \n",
    "\n"
   ],
   "metadata": {}
  },
  {
   "cell_type": "code",
   "execution_count": 88,
   "source": [
    "summe = alter.sum()\n",
    "mittelwert = alter.mean()\n",
    "stndardabweichung = alter.std()\n",
    "\n",
    "print('Die Summe ist ', summe)\n",
    "print('Der Mittelwert ist ', mittelwert)\n",
    "print('Die Standardabweichung ist ', stndardabweichung)\n",
    "\n",
    "alter.plot(kind='bar')\n"
   ],
   "outputs": [
    {
     "output_type": "stream",
     "name": "stdout",
     "text": [
      "Die Summe ist  125\n",
      "Der Mittelwert ist  31.25\n",
      "Die Standardabweichung ist  8.460693430998036\n"
     ]
    },
    {
     "output_type": "execute_result",
     "data": {
      "text/plain": [
       "<AxesSubplot:>"
      ]
     },
     "metadata": {},
     "execution_count": 88
    },
    {
     "output_type": "display_data",
     "data": {
      "image/png": "[encoded data removed]",
      "text/plain": [
       "<Figure size 432x288 with 1 Axes>"
      ]
     },
     "metadata": {
      "needs_background": "light"
     }
    }
   ],
   "metadata": {}
  },
  {
   "cell_type": "markdown",
   "source": [
    "#### Aufgabe 5\n",
    "\n",
    "Erzeugen Sie ein Pandas-Series-Objekt mit den Ergebnissen der Fußball-Bundesliga (Männer) der Spielsaison 2020/21 mit dem Vereinsnamen als Index und den Punkten als Daten. \n",
    "\n",
    "1. Berechnen Sie den Mittelwert und die Standardabweichung der Punkte.\n",
    "2. Plotten Sie die Punkte -- Linienplot oder Balkendiagramm?\n",
    "3. Filtern Sie alle Vereine heraus, die echt weniger (<) als 40 Punkte erzielt haben .\n",
    "    * Welch Vereine sind dies?\n",
    "    * Wie findet man heraus, wie viele Vereine es sind?\n",
    "    * Berechnen Sie die Summe der Punkte dieser Vereine.\n",
    "    * Berechnen Sie die Summe der Punkte der Top3-Vereine, wer hat mehr Punkte erzielt?"
   ],
   "metadata": {}
  },
  {
   "cell_type": "markdown",
   "source": [
    "#### Aufgabe 6\n",
    "\n",
    "Die folgende Tabelle zeigt die Einwohnerzahlen der deutschen Bundesländer in Millionen Einwohner. \n",
    "\n",
    "```\n",
    "Baden-Württemberg       11.07\n",
    "Bayern                  13.077\n",
    "Berlin                  3.645\n",
    "Brandenburg             2.512\n",
    "Bremen                  0.683\n",
    "Hamburg                 1.841\n",
    "Hessen                  6.266\n",
    "Mecklenburg-Vorpommern  1.61\n",
    "Niedersachsen           7.982\n",
    "Nordrhein-Westfalen     17.933\n",
    "Rheinland-Pfalz         4.085\n",
    "Saarland                0.991\n",
    "Sachsen                 4.078\n",
    "Sachsen-Anhalt          2.208\n",
    "Schleswig-Holstein      2.897\n",
    "Thüringen               2.143\n",
    "```\n",
    "\n",
    "1. Erzeugen Sie ein passendes Pandas-Series-Objekt.\n",
    "2. Berechnen Sie die wichtigsten statistischen Informationen wie Summe, Mittelwert, Standardabweichung und plotten Sie die Daten.\n",
    "3. Wie viele Bundesländer liegen über dem Mittelwert? Filtern Sie dazu die Tabelle und lassen Sie die Anzahl der Zeilen bestimmen.\n",
    "4. Recherchieren Sie im Internet, wie man das Pandas-Series-Objekt nach der Einwohnerzahl sortiert -- vom kleinsten zum größten Bundesland."
   ],
   "metadata": {}
  },
  {
   "cell_type": "code",
   "execution_count": 98,
   "source": [
    "data_dict = {\n",
    "'Baden-Württemberg':       11.07,\n",
    "'Bayern':                  13.077,\n",
    "'Berlin':                  3.645,\n",
    "'Brandenburg':             2.512,\n",
    "'Bremen':                  0.683,\n",
    "'Hamburg':                 1.841,\n",
    "'Hessen':                  6.266,\n",
    "'Mecklenburg-Vorpommern':  1.61,\n",
    "'Niedersachsen':           7.982,\n",
    "'Nordrhein-Westfalen':     17.933,\n",
    "'Rheinland-Pfalz':         4.085,\n",
    "'Saarland':                0.991,\n",
    "'Sachsen':                 4.078,\n",
    "'Sachsen-Anhalt':          2.208,\n",
    "'Schleswig-Holstein':      2.897,\n",
    "'Thüringen':               2.143\n",
    "}\n",
    "data = pd.Series(data_dict)\n",
    "\n",
    "print('Summe: ', data.sum())\n",
    "print('Mittelwert: ', data.mean())\n",
    "print('Standardabweichung: ', data.std())\n",
    "\n",
    "#data.plot(kind='bar')\n",
    "\n",
    "data.sort_values(ascending=False).plot(kind='bar')"
   ],
   "outputs": [
    {
     "output_type": "stream",
     "name": "stdout",
     "text": [
      "Summe:  83.021\n",
      "Mittelwert:  5.1888125\n",
      "Standardabweichung:  4.936555792841132\n"
     ]
    },
    {
     "output_type": "execute_result",
     "data": {
      "text/plain": [
       "<AxesSubplot:>"
      ]
     },
     "metadata": {},
     "execution_count": 98
    },
    {
     "output_type": "display_data",
     "data": {
      "image/png": "[encoded data removed]",
      "text/plain": [
       "<Figure size 432x288 with 1 Axes>"
      ]
     },
     "metadata": {
      "needs_background": "light"
     }
    }
   ],
   "metadata": {}
  },
  {
   "cell_type": "markdown",
   "source": [
    "#### Aufgabe 6\n",
    "\n",
    "Auf der Internetseite https://statistik.hessen.de/zahlen-fakten/wahlen/tabellen finden Sie eine Tabelle mit den Ergebnissen der \"Bundestagswahlen in Hessen 1949 — 2017\". Laden Sie die Excel-Tabelle herunter und erzeugen Sie ein Pandas-Series-Objekt mit dem Index Datum und den Werten Wahlbeteiligung.\n",
    "\n",
    "Beantworten Sie folgende Fragen:\n",
    "* Wie viele Bundestagswahlen haben stattgefunden?\n",
    "* Wie hoch war bisher die durchschnittliche Wahlbeteiligung?\n",
    "* In welchem Jahr war die Wahlbeteiligung am niedrigsten? Tipp: Recherchieren Sie im Internet nach der Methode ``.min()`` und filtern Sie das Datenobjekt.\n",
    "* Visualisieren Sie die Wahlbeteiligung. Gibt es einen Trend?"
   ],
   "metadata": {}
  },
  {
   "cell_type": "code",
   "execution_count": 114,
   "source": [
    "data_dict = {\n",
    "'24.09.17':\t77.0,  \n",
    "'22.09.13':\t73.2,  \n",
    "'27.09.09':\t73.8,  \n",
    "'18.09.05':\t78.7,  \n",
    "'22.09.02':\t80.1,  \n",
    "'27.09.98':\t84.2,  \n",
    "'16.10.94':\t82.3,  \n",
    "'02.12.90':\t81.1,  \n",
    "'25.01.87':\t85.7,  \n",
    "'06.03.83':\t90.2,  \n",
    "'05.10.80':\t89.9, \n",
    "'03.10.76':\t91.9,  \n",
    "'19.11.72':\t91.7,  \n",
    "'28.09.69':\t88.2,  \n",
    "'19.09.65':\t87.4,  \n",
    "'17.09.61':\t89.2,  \n",
    "'15.09.57':\t89.1,  \n",
    "'06.09.53':\t86.7,  \n",
    "'14.08.49':\t77.3,  \n",
    "}\n",
    "data = pd.Series(data_dict)\n",
    "\n",
    "print('Anzahl Bundestagswahlen: ', len(data))\n",
    "print('Durchschnittliche Wahlbeteiligung: ', data.mean())\n",
    "print('Minimale Wahlbeteiligung: ', data.min())\n",
    "minimale_wahlbeteiligung = data.loc[data == data.min()]\n",
    "print('Die minimale Wahlbeteiligung war am ', minimale_wahlbeteiligung.index)\n",
    "\n",
    "data.plot(kind='bar')\n"
   ],
   "outputs": [
    {
     "output_type": "stream",
     "name": "stdout",
     "text": [
      "Anzahl Bundestagswahlen:  19\n",
      "Durchschnittliche Wahlbeteiligung:  84.08947368421053\n",
      "Minimale Wahlbeteiligung:  73.2\n",
      "Die minimale Wahlbeteiligung war am  Index(['22.09.13'], dtype='object')\n"
     ]
    },
    {
     "output_type": "execute_result",
     "data": {
      "text/plain": [
       "<AxesSubplot:>"
      ]
     },
     "metadata": {},
     "execution_count": 114
    },
    {
     "output_type": "display_data",
     "data": {
      "image/png": "[encoded data removed]",
      "text/plain": [
       "<Figure size 432x288 with 1 Axes>"
      ]
     },
     "metadata": {
      "needs_background": "light"
     }
    }
   ],
   "metadata": {}
  },
  {
   "cell_type": "markdown",
   "source": [
    "#### Aufgabe 7\n",
    "\n",
    "Und hier die nächste Statistik (Quelle: https://de.statista.com/statistik/daten/studie/30821/umfrage/beschaeftigte-im-maschinenbau-in-deutschland-seit-1991/#professional). Die Tabelle zeigt die Anzahl der Beschäftigten pro 1000 Personen im Maschinenbau (Deutschland) für die Jahre 1991 bis 2020. \n",
    "\n",
    "```\n",
    "1991\t1386\n",
    "1992\t1219\n",
    "1993\t1065\n",
    "1994\t946\n",
    "1995\t934\n",
    "1996\t897\n",
    "1997\t891\n",
    "1998\t899\n",
    "1999\t889\n",
    "2000\t899\n",
    "2001\t901\n",
    "2002\t899\n",
    "2003\t874\n",
    "2004\t866\n",
    "2005\t864\n",
    "2006\t885\n",
    "2007\t935\n",
    "2008\t945\n",
    "2009\t939\n",
    "2010\t908\n",
    "2011\t948\n",
    "2012\t971\n",
    "2013\t986\n",
    "2014\t1004\n",
    "2015\t1009\n",
    "2016\t1008\n",
    "2017\t1032\n",
    "2018\t1065\n",
    "2019\t1063\n",
    "2020\t1019\n",
    "```\n",
    "\n",
    "1. Erzeugen Sie ein Pandas-Series-Objekt mit dem Jahr als Index und der Anzahl der Beschäftigten als Daten.\n",
    "2. Korrigieren Sie die Anzahl der Beschäftigten, indem sie diese mit 1000 multiplizieren. \n",
    "3. Ermitteln Sie die wichtigsten statsitischen Eigenschaften (Mittelwert, Standardabweichung, Minimum, Maximum).\n",
    "4. Plotten Sie die Daten. Gibt es einen Trend?\n",
    "5. Der Plot zeigt einen Knick, ein Jahr mit einem kurzen Einbruch der Beschäftigtenzahlen. Suchen Sie den Knick in der Grafik. Was könnte diesen kurzen Einbruch bei den Beschäftigtenzahlen erklären?\n",
    "6. Hätten Sie Maschinebau studiert, wenn Sie in dem Jahr ihrer Geburt oder Anfang der 1990er das erste Semester gehabt hätten?\n",
    "\n",
    "Weitere Details finden sich in der Broschüre \"Maschinenbau in Zahl und Bild 2021\" vom VDMA:\n",
    "https://www.vdma.org/documents/34570/6128644/Maschinenbau%20in%20Zahl%20und%20Bild%202021.pdf/43a31467-dc91-1bd9-41ee-97413c4e769d\n"
   ],
   "metadata": {}
  },
  {
   "cell_type": "code",
   "execution_count": null,
   "source": [],
   "outputs": [],
   "metadata": {}
  }
 ],
 "metadata": {
  "kernelspec": {
   "name": "python3",
   "display_name": "Python 3.8.3 64-bit"
  },
  "language_info": {
   "codemirror_mode": {
    "name": "ipython",
    "version": 3
   },
   "file_extension": ".py",
   "mimetype": "text/x-python",
   "name": "python",
   "nbconvert_exporter": "python",
   "pygments_lexer": "ipython3",
   "version": "3.8.3"
  },
  "interpreter": {
   "hash": "8e9c262316df7bce4515c1e5a75e950c02ea8cf58732b4de0c4de521774b2c62"
  }
 },
 "nbformat": 4,
 "nbformat_minor": 5
}