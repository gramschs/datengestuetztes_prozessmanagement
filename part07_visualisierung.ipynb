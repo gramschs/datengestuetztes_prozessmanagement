{
 "cells": [
  {
   "cell_type": "markdown",
   "id": "ac6c8f68-c8c6-4484-942e-6f755bb9dd62",
   "metadata": {},
   "source": [
    "# Woche 07 - Visualisierung mit Matplotlib\n",
    "\n",
    "Die Visualisierung der Daten gehört zu den wichtigsten Schritten der Datenanalyse. Oft vermittelt die Visualisierung bereits wichtige Erkenntnisse über die Daten. Zu dem Modul Pandas gehören bereits Methoden zur grafischen Darstellung der Daten, wie z.B. ``.plot(kind='line')`` oder ``.plot(kind='bar')``. "
   ]
  },
  {
   "cell_type": "code",
   "execution_count": null,
   "id": "834802e2-9f4c-4ee8-a2a8-ac2a095350dc",
   "metadata": {},
   "outputs": [],
   "source": [
    "import numpy as np\n",
    "import pandas as pd\n",
    "\n",
    "df = pd.DataFrame(np.random.rand(7), index=['Mo','Di','Mi','Do','Fr','Sa','So'])\n",
    "df.plot(kind='bar')"
   ]
  },
  {
   "cell_type": "markdown",
   "id": "b0ab44de-82bd-4541-a08a-03d8bc790c86",
   "metadata": {},
   "source": [
    "Diese Methoden basieren auf einem weiteren Python-Modul, nämlich **Matplotlib**. Matplotlib werden wir immer dann verwenden, wenn Grafiken komplexer werden (z.B. mehrere Visualisierungen in einer Grafik) oder wir Grafiken ästhetisch ansprechend für Publikationen oder Präsentationen aufbereiten wollen.\n",
    "\n",
    "In diesem Jupyter-Notebook erarbeiten wir uns die Lernziele\n",
    "* Einführung in Matplotlib\n",
    "* Darstellung von Funktionen als Liniendiagramm bzw. xy-Diagramm\n",
    "* Darstellung von Messwerten als Balkendiagramm\n",
    "* Streudiagramme\n",
    "\n",
    "<div class=\"alert alert-block alert-info\">\n",
    "<b>Weiterführendes Zusatzmaterial:</b>\n",
    "    \n",
    "<li>Matplotlib-Seite: <a href=https://matplotlib.org>https://matplotlib.org</a> </li>\n",
    "<li>Buch Van der Plas: Data Science mit Python, Kapitel 4</li>\n",
    "<li>Code mit FloW: <a href=https://www.youtube.com/playlist?list=PL10piHcP2kVIzC10q0wNpmmmzgsnTg4CY>YouTube-Playlist \"Matplotlib verstehen\"</a></li>\n",
    "</div>"
   ]
  },
  {
   "cell_type": "markdown",
   "id": "53f51fd5-485f-410b-a4c7-9b3933de8adf",
   "metadata": {},
   "source": [
    "## Einführung in Matplotlib\n",
    "\n",
    "Wichtig: zunächst müssen Sie sicherstellen, dass die folgenden Modul installiert sind:\n",
    "\n",
    "* matplotlib\n",
    "* matplotlib-base\n",
    "* numpy\n",
    "* pandas\n",
    "\n",
    "Überprüfen Sie daher, welche Python-Pakete derzeit installiert sind und installieren Sie ggf. fehlende Pakete nach.\n",
    "\n",
    "Öffnen Sie dazu den Anaconda-Navigator und klicken Sie auf Environments:\n",
    "![Screenshot Anaconda-Navigator](part07_fig_screenshot01.png)"
   ]
  },
  {
   "cell_type": "markdown",
   "id": "3b861b8f-d779-4a38-8cee-55956546519e",
   "metadata": {},
   "source": [
    "Klicken Sie dann auf Ihre Umgebung (wahrscheinlich benutzen Sie `base (root)` und anschließend wechseln Sie von `Installed` zu `All`, siehe nachfolgenden Screenshot:\n",
    "\n",
    "![Screenshot Wechsel All](part07_fig_screenshot02.png)"
   ]
  },
  {
   "cell_type": "markdown",
   "id": "9d6b9d1a-0aca-4046-9571-be7081fb8826",
   "metadata": {},
   "source": [
    "Zuletzt suchen Sie die fehlenden Pakete und installieren diese durch Aktivieren der Checkbox und anschließendem Bestätigen `Apply` nach:\n",
    "\n",
    "![Screenshot Installieren](part07_fig_screenshot03.png)"
   ]
  },
  {
   "cell_type": "markdown",
   "id": "93c7e807-3340-4cd2-a386-b6b02f7a6ce9",
   "metadata": {},
   "source": [
    "Jetzt kann es mit dem Darstellen von mathematischen Funktionen losgehen."
   ]
  },
  {
   "cell_type": "markdown",
   "id": "9dd50905-45c1-425a-abde-79ac58a2d55d",
   "metadata": {},
   "source": [
    "## Liniendiagramme oder xy-Diagramme oder Linienplots\n",
    "\n",
    "Eine der häufigsten Darstellungen von mathematischen Funktionen ist das Liniendiagramm oder das sogenannte xy-Diagramm. Zu jedem x-Wert wird der entsprechende y-Wert (enweder ein Messwert oder ein Funktionswert) als Punkt in ein Koordinatensystem mit x- und y-Achse eingetragen und die Punkte werden mit einer geraden Linie verbunden.\n",
    "\n",
    "Erzeugen wir uns eine Liste mit x-Werten und dazugehörigen y-Werten als Listen."
   ]
  },
  {
   "cell_type": "code",
   "execution_count": null,
   "id": "659677e1-036c-4a6a-ae89-cff5ff9edd54",
   "metadata": {},
   "outputs": [],
   "source": [
    "x = [-2, -1, 0, 1, 2]\n",
    "y = [4, 1, 0, 1, 4]"
   ]
  },
  {
   "cell_type": "markdown",
   "id": "1e712030-cfdb-4a7c-aaea-0c796c99dda6",
   "metadata": {},
   "source": [
    "Danach lassen wir den Interpreter diese Werte zeichnen. Dazu benötigen wir das Modul `matplotlib`, genauer gesagt nur einen Teil dieses Moduls namens `pylab`. Daher laden wir es zuerst mit\n",
    "\n",
    "```python\n",
    "import matplotlib.pylab as plt\n",
    "```\n",
    "\n",
    "Üblicherweise wird dieses Modul mit ``plt`` abgekürzt. Danach kommt die Funktion zum Zeichen der Werte `plot(x,y)`."
   ]
  },
  {
   "cell_type": "code",
   "execution_count": null,
   "id": "eedf36f3-d87f-4bbe-9a6e-0844f170270b",
   "metadata": {},
   "outputs": [],
   "source": [
    "import matplotlib.pylab as plt\n",
    "\n",
    "plt.plot(x,y)"
   ]
  },
  {
   "cell_type": "markdown",
   "id": "b608682f-637f-48aa-86bd-a8557cc1d57d",
   "metadata": {},
   "source": [
    "PS: Ohne Strichpunkt/Semikolon gibt Jupyter-Lab noch Objekttyp und Referenz des Speicherplatzes aus. In einem normalen Python-Skript würde das nicht passieren. Sie können diese Angabe durch den Strichpunkt/Semikolon in der letzten Zeile unterdrücken.\n",
    "\n",
    "Aber zurück zum Plot, sieht ziemlich krakelig aus. Eigentlich sollte dies eine Parabel im Intervall $[-2,2]$ werden. Mit nur 5 Punkten und der Tatsache, dass diese 5 Punkte mit geraden Linien verbunden werden, sieht es etwas unschön aus. Besser wird es mit mehr Punkten, aber die wollen wir jetzt nicht von Hand erzeugen. Wir verwenden das Modul `numpy` für numerisches Python, das wir wieder einmal zuerst Laden müssen:\n",
    "\n",
    "```python\n",
    "import numpy as np\n",
    "```\n",
    "\n",
    "Die Funktion `np.linspace(a,b, Anzahl)` erzeugt Punkte im Intervall $[a,b]$ je nach eingestellter Anzahl."
   ]
  },
  {
   "cell_type": "code",
   "execution_count": null,
   "id": "ffd77cd5-3243-4748-9036-6781322c5afc",
   "metadata": {},
   "outputs": [],
   "source": [
    "import numpy as np\n",
    "\n",
    "x = np.linspace(-2, 2, 10) \n",
    "y = x**2\n",
    "\n",
    "plt.plot(x,y);"
   ]
  },
  {
   "cell_type": "markdown",
   "id": "822a6a31-c493-4ded-b584-20813f0fe91d",
   "metadata": {},
   "source": [
    "Schon besser, aber noch ein paar mehr Punkte wären noch schöner..."
   ]
  },
  {
   "cell_type": "code",
   "execution_count": null,
   "id": "2973dd78-ea76-4184-a518-1f26b630eef8",
   "metadata": {},
   "outputs": [],
   "source": [
    "x = np.linspace(-2, 2, 1000) \n",
    "y = x**2\n",
    "\n",
    "plt.plot(x,y);"
   ]
  },
  {
   "cell_type": "markdown",
   "id": "9e80eecf-c146-4492-9ed0-bb796a69713a",
   "metadata": {},
   "source": [
    "Nächstes Thema, Beschriftungen. Mit den Funktionen `plt.xlabel()`und `plt.ylabel()` beschriften Sie die x- und y-Achse."
   ]
  },
  {
   "cell_type": "code",
   "execution_count": null,
   "id": "f9ac9958-4df8-4104-bcc2-e6951175f9c1",
   "metadata": {},
   "outputs": [],
   "source": [
    "x = np.linspace(-10,10,200)\n",
    "y = np.sin(x)\n",
    "\n",
    "plt.plot(x,y)\n",
    "plt.xlabel('Zeit in Sekunden')\n",
    "plt.ylabel('Stromstärke in Ampere');"
   ]
  },
  {
   "cell_type": "markdown",
   "id": "9230b575-669c-45c2-8ac3-8b3bf3d8bf4a",
   "metadata": {},
   "source": [
    "Fehlt noch ein Titel für unsere Grafik, das erledigt die Funktion `title()`:"
   ]
  },
  {
   "cell_type": "code",
   "execution_count": null,
   "id": "e6a39587-fd32-4e85-bf3b-0f0f666aee83",
   "metadata": {},
   "outputs": [],
   "source": [
    "x = np.linspace(-10,10,200)\n",
    "y = np.sin(x)\n",
    "\n",
    "plt.plot(x,y);\n",
    "plt.xlabel('Zeit in Sekunden')\n",
    "plt.ylabel('Stromstärke in Ampere')\n",
    "plt.title('Wechselstrom');"
   ]
  },
  {
   "cell_type": "markdown",
   "id": "15f21a0d-4e86-457f-b428-4bfab343f60f",
   "metadata": {},
   "source": [
    "Zuletzt soll unser Plot gespeichert werden. Es stehen mehrere Grafikformate zur Verfügung. Mehr Details finden Sie auf der Internetseite [Dokumentation savefig](https://matplotlib.org/stable/api/_as_gen/matplotlib.pyplot.savefig.html).\n",
    "\n",
    "Ein typisches Ausgabeformat ist eine Rastergrafik wie z.B. png. Das erreichen Sie durch den folgenden Funktionsaufruf:"
   ]
  },
  {
   "cell_type": "code",
   "execution_count": null,
   "id": "1d5a6e3f-8696-4bf8-9a73-7615b9caf168",
   "metadata": {},
   "outputs": [],
   "source": [
    "x = np.linspace(-10,10,200)\n",
    "y = np.sin(x)\n",
    "\n",
    "plt.plot(x,y)\n",
    "plt.xlabel('Zeit in Sekunden')\n",
    "plt.ylabel('Stromstärke in Ampere')\n",
    "plt.title('Wechselstrom')\n",
    "plt.savefig('plot_stromstaerke.png', dpi=300);"
   ]
  },
  {
   "cell_type": "markdown",
   "id": "3551d203-8d7d-4001-b4ba-e0645fbd37d2",
   "metadata": {},
   "source": [
    "**Mini-Übung**   \n",
    "Bitte plotten Sie folgende Funktionen: \n",
    "    \n",
    "<li>lineare Funktion, z.B. $f(x) = 7x + 2$</li>\n",
    "<li>Sinus,</li>\n",
    "<li>Kosinus,</li>\n",
    "<li>Exponentialfunktion und</li> \n",
    "<li>Wurzelfunktion.</li>\n",
    "\n",
    "Verändern Sie auch das Definitionsgebiet der Funktionen, also das Intervall für $x$. (Bei welcher Funktion müssen Sie besonders auf das Defiitionsgebiet der Funktion achten?)"
   ]
  },
  {
   "cell_type": "code",
   "execution_count": null,
   "id": "eaddb957-f6ae-4337-a995-3b8d0df61c81",
   "metadata": {},
   "outputs": [],
   "source": [
    "# Hier Ihr Code:\n"
   ]
  },
  {
   "cell_type": "markdown",
   "id": "cb89103c-ef88-4e0d-94aa-f3bd7818e52c",
   "metadata": {},
   "source": [
    "Matplotlib bietet zwei Schnittstellen an, die Funktionen und Methoden des Moduls zu benutzen. Die erste Schnittstelle ist *zustandsorientiert*, die zweite *objektorientiert*.\n",
    "\n",
    "Bei der zustandsorientierten Schnittstelle werden Funktionen benutzt, die auf das aktuelle Objekt wirken. In dem letzten Beispiel wurde mit ``plt.plot(x,y)`` ein Liniendiagramm erzeugt und mit der dann anschließenden Funktion ``plt.xlabel('Zeit in Sekunden')`` eine Beschriftung für das aktuelle Objekt gesetzt. Wenn beispielsweise mehrere Plots in einer Grafik gegenübergestellt werden, ist es schwierig zuzuordnen, was gerade das aktuelle Objekt ist. Daher hilft die zweite Matplotlib-Schnittstelle, die objektorientierte Schnittstelle, mehrere Objekte auseinanderzuhalten.\n",
    "\n",
    "Zunächst erzeuugen wir das Grafik-Objekt bestehend aus einer Figure (=Grafik als Ganzes) und Axes (=Achsen) explizit mit der Funktion ``plt.subplots()``und speichern diese in entsprechenden Variablen für Figure und Axes:\n",
    "\n",
    "```\n",
    "fig, ax = plt.subplots() .\n",
    "```\n",
    "\n",
    "\n",
    "Dann verwenden wir Methoden, das Grafikobjekt zu manipulieren. Beispielsweise fügen wir den Achsen einen Linienplot und Beschriftungen hinzu."
   ]
  },
  {
   "cell_type": "code",
   "execution_count": null,
   "id": "670d3c23-867a-40ed-9314-bc1e360b68f1",
   "metadata": {},
   "outputs": [],
   "source": [
    "# data\n",
    "x = np.linspace(-10,10,200)\n",
    "y = np.sin(x)\n",
    "\n",
    "# plot\n",
    "fig, ax = plt.subplots()\n",
    "\n",
    "ax.plot(x,y)\n",
    "ax.set_xlabel('Zeit in Sekunden')\n",
    "ax.set_ylabel('Stromstärke in Ampere')\n",
    "ax.set_title('Wechselstrom');"
   ]
  },
  {
   "cell_type": "markdown",
   "id": "2dff8989-2625-42ea-b3b2-eab9cad4ee25",
   "metadata": {},
   "source": [
    "Mit der objektorientierten Schnittstelle können wir nun zwei Linendiagramme in einer Grafik gezielt kontrollieren. Mit Hilfe der Funktion ``plt.subplots(nrows=1, ncols=1)`` können wir beispielsweise Plots in einem Raster zeugen, das eine Zeile (nrows = number of rows) und zwei Spalten (ncols = number of columns) hat. Die Variable ``ax`` beinhaltet dann ein Array aus axes-Objekten, auf die mit Indizes von 0, 1, ... zugegriffen kann.\n"
   ]
  },
  {
   "cell_type": "code",
   "execution_count": null,
   "id": "6f735832-99f1-4e51-926d-31e6f1b0b05c",
   "metadata": {},
   "outputs": [],
   "source": [
    "# data\n",
    "x = np.linspace(-10,10,200)\n",
    "y_left  = np.sin(x)\n",
    "y_right = np.cos(x)\n",
    "\n",
    "# plot\n",
    "fig, ax = plt.subplots(nrows=1, ncols=2)\n",
    "\n",
    "ax[0].plot(x,y_left)\n",
    "ax[1].plot(x,y_right)\n",
    "ax[0].set_xlabel('Zeit in Sekunden')\n",
    "ax[1].set_xlabel('Zeit in Sekunden');"
   ]
  },
  {
   "cell_type": "markdown",
   "id": "cd6d3290-04d8-450a-9772-9c783ab80c44",
   "metadata": {},
   "source": [
    "## Balkendiagramme\n",
    "\n",
    "Mit der Funktion `bar()` kann ein Balkendiagramm erstellt werden. Nehmen wir mal an, wir möchten auswerten, wie viele Nutzer/innen in Moodle auf die Jupyter Notebooks zum Download zugegriffen haben:\n",
    "\n",
    "| Woche | Anzahl Nutzer/innen |\n",
    "| --- | --- |\n",
    "| 2 | 14 |\n",
    "| 3 | 12 |\n",
    "| 4 | 10 |\n",
    "| 5 | 10 |\n",
    "| 6 | 9  |\n",
    "\n",
    "Packen wir das in zwei Vektoren x und y:"
   ]
  },
  {
   "cell_type": "code",
   "execution_count": null,
   "id": "0d488c3a-12d1-4c38-9c06-1f0283ab355b",
   "metadata": {},
   "outputs": [],
   "source": [
    "# data\n",
    "x = [2,3,4,5,6]\n",
    "y = [14,12,10,10,9]\n",
    "\n",
    "# bar plot \n",
    "fig, ax = plt.subplots()\n",
    "ax.bar(x,y);"
   ]
  },
  {
   "cell_type": "markdown",
   "id": "a4e667eb-3f42-4bb4-b5e0-a716c45617bb",
   "metadata": {},
   "source": [
    "Natürlich funktionieren auch hier die Funktionen `xlabel()`, `ylabel()` und `title()`:"
   ]
  },
  {
   "cell_type": "code",
   "execution_count": null,
   "id": "4c51ff83-b91d-4ec1-a15e-56fa11c44b17",
   "metadata": {},
   "outputs": [],
   "source": [
    "# data\n",
    "x = [2,3,4,5,6]\n",
    "y = [14,12,10,10,9]\n",
    "\n",
    "# bar plot\n",
    "fig, ax = plt.subplots()\n",
    "ax.bar(x,y)\n",
    "ax.set_xlabel('Woche')\n",
    "ax.set_ylabel('Anzahl Nutzer/innen')\n",
    "ax.set_title('Zugriff auf Jupyter Notebooks zum Download WiSe 2021/22');"
   ]
  },
  {
   "cell_type": "markdown",
   "id": "e6cafd99-2d90-4c80-98a0-0d4b5146ec0e",
   "metadata": {},
   "source": [
    "**Mini-Übung**   \n",
    "\n",
    "Hier ist eine Tabelle mit den Zugriffszahlen auf das MATLAB Live Script in der Vorlesung angewandte Informatik im Sommersemester 2021. Bitte stellen Sie die Daten als Balkendiagramm inklusive Beschriftungen dar.\n",
    "\n",
    "|Woche |Anzahl Nutzer/innen|\n",
    "| --- | --- |\n",
    "| 3 | 9  |\n",
    "| 4 | 17 |\n",
    "| 5 | 15 |\n",
    "| 6 | 10 |\n",
    "| 7 | 11 |"
   ]
  },
  {
   "cell_type": "code",
   "execution_count": null,
   "id": "4e69e792-95fa-4e54-9b26-ddefd6ec3b98",
   "metadata": {},
   "outputs": [],
   "source": [
    "# Hier Ihr Code:\n"
   ]
  },
  {
   "cell_type": "markdown",
   "id": "53aba11d-1589-48bf-81c2-b8b98415a2a9",
   "metadata": {},
   "source": [
    "## Streudiagramme\n",
    "\n",
    "Bei Streudiagrammen werden nicht die Punkte $(x_1,y_2)$ mit $(x_2,y_2)$ mit $(x_3,y_3)$ usw. durch Linien verbunden, sondern jeder Punkt selbst wird an der Stelle seiner Koordinaten eingezeichnet. Ob dazu ein Punkt, Kreis, Dreieck oder Quadrat oder ein anderes Symbol verwendet wird, bleibt dem Anwender überlassen. Streudiagramme heißen im Englischen Scatter-Plot, daher lautet die entsprechende Matplotlib-Methode auch ``.scatter()``."
   ]
  },
  {
   "cell_type": "code",
   "execution_count": null,
   "id": "8b014080-7f19-446d-b0e7-0198ed46c921",
   "metadata": {},
   "outputs": [],
   "source": [
    "# data\n",
    "x = np.linspace(-2*np.pi, 2*np.pi, 50)\n",
    "y = np.sin(x)\n",
    "\n",
    "# scatter plot\n",
    "fig, ax = plt.subplots()\n",
    "ax.scatter(x,y);\n"
   ]
  },
  {
   "cell_type": "markdown",
   "id": "83cc6a93-be30-4955-8740-753efd856908",
   "metadata": {},
   "source": [
    "Über die Option ``marker= `` lässt sich das Symbol einstellen, mit dem das Streudiagramm erzeugt wird. Wie Sie sehen, ist ein ausgefüllter Kreis voreingestellt. Lesen Sie auf der Internetseite \n",
    "\n",
    "> https://matplotlib.org/stable/api/markers_api.html#module-matplotlib.markers\n",
    "\n",
    "nach, welche Marker-Symbole existieren. Probieren Sie einige der Symbole hier aus:\n",
    "\n"
   ]
  },
  {
   "cell_type": "code",
   "execution_count": null,
   "id": "8ceaa524-0e61-4e63-a054-e78d86fab733",
   "metadata": {},
   "outputs": [],
   "source": [
    "# data\n",
    "x = np.linspace(-2*np.pi, 2*np.pi, 50)\n",
    "y = np.sin(x)\n",
    "\n",
    "# scatter plot\n",
    "fig, ax = plt.subplots()\n",
    "ax.scatter(x,y, marker='x');"
   ]
  },
  {
   "cell_type": "markdown",
   "id": "48009523-2a4c-4ca8-8a53-7dac79566478",
   "metadata": {},
   "source": [
    "Für bekannte Funktionen wie Sinus oder Kosinus würde man Liniendiagramme verwenden. Streudiagramme eignen sich eher für die Visualisierung einzelner Messungen. Wenn Sie beispielsweise an jeden Wochentag die Temperatur an zwei Orten messen, bietet es sich an, beide Messreihen in einem Streudiagramm zu visualisieren. Dazu sollten Sie unterschiedliche Marker und unterschiedliche Farben verwenden."
   ]
  },
  {
   "cell_type": "code",
   "execution_count": null,
   "id": "d99a0009-a2cb-4268-8cfe-895fd8b995b1",
   "metadata": {},
   "outputs": [],
   "source": [
    "# data\n",
    "x  = ['Mo', 'Di', 'Mi', 'Do', 'Fr', 'Sa', 'So']\n",
    "y1 = np.random.uniform(15,23,7)\n",
    "y2 = np.random.uniform(15,23,7)\n",
    "\n",
    "# scatter plots\n",
    "fig, ax = plt.subplots()\n",
    "ax.scatter(x, y1, marker='+')\n",
    "ax.scatter(x, y2, marker='.');"
   ]
  },
  {
   "cell_type": "markdown",
   "id": "e6b7a91d-0ebb-4227-813b-18f823d0e549",
   "metadata": {},
   "source": [
    "Dann ist es aber auch gut, die Visualisierung zu beschriften. Dazu kennzeichnet man jeden einzelnen Plot-Aufruf mit einem sogenannten Label, z.B.\n",
    "\n",
    "```python\n",
    "ax.scatter(x,y1, label='Messung1')\n",
    "```\n",
    "Zuletzt verwendet man die Methode `ax.legend()`, die eine Legende mit allen Label-Einträgen erzeugt, bei denen die Farben der Kurven und die Marker korrekt zu den Namen (Labels) zugeordnet werden."
   ]
  },
  {
   "cell_type": "code",
   "execution_count": null,
   "id": "3f40138f-46b3-420f-8869-b554c4e2f4a2",
   "metadata": {},
   "outputs": [],
   "source": [
    "# data\n",
    "x  = ['Mo', 'Di', 'Mi', 'Do', 'Fr', 'Sa', 'So']\n",
    "y1 = np.random.uniform(15,23,7)\n",
    "y2 = np.random.uniform(15,23,7)\n",
    "\n",
    "# scatter plots\n",
    "fig, ax = plt.subplots()\n",
    "ax.scatter(x, y1, marker='+', label='Frankfurt')\n",
    "ax.scatter(x, y2, marker='.', label='Offenbach')\n",
    "ax.legend();"
   ]
  },
  {
   "cell_type": "markdown",
   "id": "29b6df35-4145-43d5-bad2-9fb38af57c50",
   "metadata": {},
   "source": [
    "Die Scatter-Plots bieten die Möglichkeit, zusätzliche Informationen mit zu visualisieren. Bei einem Liniendiagramm wird jedem x-Wert ein y-Wert zugeordnet. Problematisch wird es, wenn wir ein Skalarfeld visualisieren wollen. Beispielsweise möchten wir in einem Raum an jeder x-Koordinate und jeder y-Koordinate die Temperatur messen. Mit einem Scatterplot können wir jetzt zu jedem $(x,y)$ die Temperatur über die Farbe des Markers darstellen. \n",
    "\n",
    "Dazu gibt es mehrere Möglichkeiten. Zum einen können wir uns ein Array basteln, dass die Farben enthält. Auf der Seite \n",
    "\n",
    "> https://matplotlib.org/stable/gallery/color/named_colors.html\n",
    "\n",
    "finden Sie die Namen der wichtigsten Farben. Mit ``.scatter(x,y, c='r')`` färben Sie beispielsweise alle Marker rot ein.\n"
   ]
  },
  {
   "cell_type": "code",
   "execution_count": null,
   "id": "68d5a628-f631-4f11-9e09-406329b57367",
   "metadata": {},
   "outputs": [],
   "source": [
    "# data\n",
    "x = np.random.uniform(0, 5, 10)\n",
    "y = np.random.uniform(0, 2, 10)\n",
    "T = np.random.uniform(15,23,10)\n",
    "\n",
    "# scatter plots\n",
    "fig, ax = plt.subplots()\n",
    "ax.scatter(x, y, marker='o', c='r');"
   ]
  },
  {
   "cell_type": "markdown",
   "id": "9550b8d0-a5f4-43c2-8e1c-cafbebcbb489",
   "metadata": {},
   "source": [
    "Mit der Option ``c='aqua'`` wird es grell:"
   ]
  },
  {
   "cell_type": "code",
   "execution_count": null,
   "id": "deb4b251-dab5-407d-b724-962b0d1ab5d6",
   "metadata": {},
   "outputs": [],
   "source": [
    "# data\n",
    "x = np.random.uniform(0, 5, 10)\n",
    "y = np.random.uniform(0, 2, 10)\n",
    "T = np.random.uniform(15,23,10)\n",
    "\n",
    "# scatter plots\n",
    "fig, ax = plt.subplots()\n",
    "ax.scatter(x, y, marker='o', c='aqua');"
   ]
  },
  {
   "cell_type": "markdown",
   "id": "a4c588e4-4ca9-4d2a-a8c9-a6b6ba3ff1a8",
   "metadata": {},
   "source": [
    "Die zweite Möglichkeit ist, eine Farbskala zu nehmen. Alle Werte werden dann dieser Farbskala zugeordnet. Der minimale Wert bekommt den linken Wert der Farbskala, der maximale Wert den rechten.\n",
    "\n",
    "Farbskala heißen im Englischen colormaps. Auf der Internetseite \n",
    "\n",
    "> https://matplotlib.org/stable/gallery/color/colormap_reference.html\n",
    "\n",
    "finden Sie eine Übersicht über mögliche Farbskalen. Schauen wir uns an, wie sich die Farbe der Marker beim Sinus verändert, wenn wir als Farbskala 'viridis' wählen. Dazu setzen wir die Option ``cmap='viridis'``:"
   ]
  },
  {
   "cell_type": "code",
   "execution_count": null,
   "id": "24125d54-20af-4a0c-ad59-89d8ae498d01",
   "metadata": {},
   "outputs": [],
   "source": [
    "# data\n",
    "x = np.linspace(-2*np.pi, 2*np.pi, 50)\n",
    "y = np.sin(x)\n",
    "\n",
    "# scatter plots\n",
    "fig, ax = plt.subplots()\n",
    "ax.scatter(x, y, marker='o', c=y, cmap='viridis');\n"
   ]
  },
  {
   "cell_type": "markdown",
   "id": "1128c665-39ad-42a2-afe5-c1c62622a947",
   "metadata": {},
   "source": [
    "Und im Winter sieht es mit der Farbskala ``cmap='winter'`` so aus:"
   ]
  },
  {
   "cell_type": "code",
   "execution_count": null,
   "id": "692aa431-1f1b-44da-a907-f208727e74bf",
   "metadata": {},
   "outputs": [],
   "source": [
    "# data\n",
    "x = np.linspace(-2*np.pi, 2*np.pi, 50)\n",
    "y = np.sin(x)\n",
    "\n",
    "# scatter plots\n",
    "fig, ax = plt.subplots()\n",
    "ax.scatter(x, y, marker='o', c=y, cmap='winter');"
   ]
  },
  {
   "cell_type": "markdown",
   "id": "f7ebbf0e-f944-4784-b1e6-638c6db252a6",
   "metadata": {},
   "source": [
    "Wenn die Größe der Marker modifiziert werden soll, gibt es die Option ``s`` wie size. Entweder wird die Größe konstant auf einen Wert gesetzt, also ``s = 50``, oder die Größe variiert. Dann muss ``s`` ein Array zugewiesen werden. "
   ]
  },
  {
   "cell_type": "code",
   "execution_count": null,
   "id": "3c644393-dd27-4a29-836a-47e241015e85",
   "metadata": {},
   "outputs": [],
   "source": [
    "# data\n",
    "x = np.random.uniform(0, 5, 10)\n",
    "y = np.random.uniform(0, 2, 10)\n",
    "T = np.random.uniform(5,25,10)\n",
    "my_size = np.random.uniform(500,2000,10)\n",
    "\n",
    "# scatter plots\n",
    "fig, ax = plt.subplots()\n",
    "ax.scatter(x, y, s=my_size, c=T);"
   ]
  },
  {
   "cell_type": "markdown",
   "id": "2ede5fce-9704-43e4-a23a-73fd1e826eee",
   "metadata": {},
   "source": [
    "In diesem Fall wurde die Farbskala aus den Temperaturwerten erzeugt. Wir können aber auch händisch eine Farbskala basteln, indem wir ein Array mit den Farben zusammenstellen. Beispielsweise wollen wir nun die ersten drei Werte rot, die nächsten drei Werte grün und die letzten vier Werte blau färben."
   ]
  },
  {
   "cell_type": "code",
   "execution_count": null,
   "id": "0830bbc6-a1fc-473d-b807-9bddd58a32e0",
   "metadata": {},
   "outputs": [],
   "source": [
    "meine_farben = ['red', 'red', 'red', 'green', 'green', 'green', 'blue', 'blue', 'blue', 'blue']\n",
    "\n",
    "x = np.linspace(1,10, 10)\n",
    "y = np.random.uniform(0, 2, 10)\n",
    "\n",
    "# scatter plots\n",
    "fig, ax = plt.subplots()\n",
    "ax.scatter(x, y, s=50, c=meine_farben);"
   ]
  },
  {
   "cell_type": "markdown",
   "id": "696894e4-c5b9-42ca-b48b-7c0f4a9921f6",
   "metadata": {},
   "source": [
    "**Mini-Übung:**   \n",
    "\n",
    "Stellen Sie die Sinus-Funktion im Intervall $[-4\\pi,4\\pi]$ als Scatter-Plot dar. Dabei sollen negative Funktionswerte blau eingefärbt werden und positive Funktionswerte rot. Setzen Sie zusätzlich an Nullstellen einen schwarzen Diamanten.     \n"
   ]
  },
  {
   "cell_type": "code",
   "execution_count": null,
   "id": "d6602aad-e1ed-4f53-afb4-3c6bfee3d19a",
   "metadata": {},
   "outputs": [],
   "source": [
    "# Hier Ihr Code\n"
   ]
  },
  {
   "cell_type": "markdown",
   "id": "9ec6e177-a235-4ec8-8817-bef1669e8e90",
   "metadata": {},
   "source": [
    "# Aufgaben zur Vertiefung "
   ]
  },
  {
   "cell_type": "markdown",
   "id": "96d86bf1-6b36-4aec-86de-d7e0d69b9c20",
   "metadata": {},
   "source": [
    "<div class=\"alert alert-block alert-success\"><b>Aufgabe 7.1</b></br>\n",
    "Laden Sie die Datei 20211125_RKI_Nowcast.csv (Quelle: <a href=https://github.com/robert-koch-institut/SARS-CoV-2-Nowcasting_und_-R-Schaetzung/blob/main/Nowcast_R_aktuell.csv download>RKI-Daten</a>). Analysieren Sie die Daten zuerst mit Pandas.\n",
    "<li>Was enthält die Tabelle an Daten? Index und Columns?</li>\n",
    "<li>Lesen auf den <a href=https://github.com/robert-koch-institut/SARS-CoV-2-Nowcasting_und_-R-Schaetzung>RKI-Seiten</a> nach, wofür die Columns-Abkürzungen stehen. Welche Spalte steht für die Neuerkrankungen? Welche Spalte enthält den R-Wert?</li>\n",
    "<li>Stellen Sie die Anzahl an Neuerkrankungen als Liniendiagramm dar.</li>\n",
    "<li>Stellen Sie die Anzahl der Neuerkrankungen des Monats August 2021 als Balkendiagramm dar.</li>\n",
    "<li>Stellen Sie die Anzahl der Neuerkrankungen für das Jahr 2021 als Streudiagramm dar. Färben Sie Marker rot, wenn der R-Wert des gleichen Tages >= 1 ist und ansonsten blau.\n",
    "Beschriften Sie bei allen drei Diagrammen die x- und die y-Achse und versehen Sie die Diagramme mit aussagekräftigen Titeln.\n",
    "</div>\n",
    "\n"
   ]
  },
  {
   "cell_type": "markdown",
   "id": "07dc622e-b3b6-4ab2-b640-63c1990e7ea3",
   "metadata": {},
   "source": [
    "<div class=\"alert alert-block alert-success\"><b>Aufgabe 7.2</b></br>\n",
    "Laden Sie die Datei bundesliga_top7_offensive.csv aus dem Verzeichnis part07_visualisierung. Beantworten Sie anhand dieses Datensatzes folgende Fragen:\n",
    "<li> Wie viele Fußballvereine sind in dem Datensatz enthalten? Nach welcher Spalte müssen Sie dazu schauen? Recherchieren Sie im Internet nach der pandas-Funktion pandas.unique(). Wie können Sie diese Funktion hier einsetzen?\n",
    "<li> Erzeugen Sie ein Pandas-Series-Objekt mit den Vereinsnamen als Index und der Anzahl der Fußballspielder dieses Clubs. Wie viele Spieler spielen im Durchschnitt bei einem Verein? Sortieren Sie die Vereine absteigend und plotten Sie die Anzahl der Spieler pro Verein.\n",
    "<li> Wie international ist Bayern München? Zählen Sie die verschiedenen Nationen der Spieler.\n",
    "</div>\n",
    "\n"
   ]
  }
 ],
 "metadata": {
  "kernelspec": {
   "display_name": "Python 3",
   "language": "python",
   "name": "python3"
  },
  "language_info": {
   "codemirror_mode": {
    "name": "ipython",
    "version": 3
   },
   "file_extension": ".py",
   "mimetype": "text/x-python",
   "name": "python",
   "nbconvert_exporter": "python",
   "pygments_lexer": "ipython3",
   "version": "3.8.3"
  }
 },
 "nbformat": 4,
 "nbformat_minor": 5
}
