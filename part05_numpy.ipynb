{
 "cells": [
  {
   "cell_type": "markdown",
   "id": "7ef63ab6-4228-4254-bbe0-b7cbcf8f339b",
   "metadata": {},
   "source": [
    "# Woche 05 - Das Modul NumPy und das NumPy-Array (= wichtigster Datentyp für maschinelles Lernen)\n",
    "\n",
    "In dieser Woche widmen wir uns dem Modul Numpy, das Klassen und Funktionen für numerisches Python enthält. Die Themen sind also:\n",
    "\n",
    "* Modul Numpy\n",
    "* Erzeugung von NumPy-Arrays\n",
    "* Eigenschaften von NumPy-Arrays \n",
    "* Zugriff auf NumPy-Arrays (direkter Zugriff und Slicing)\n",
    "* Verketten und Aufteilen \n",
    "* Funktionen aud NumPy-Arrays anwenden\n"
   ]
  },
  {
   "cell_type": "markdown",
   "id": "0349cdd9-b885-474b-a6fa-55f6799b85a3",
   "metadata": {},
   "source": [
    "## Das Modul Numpy\n",
    "\n",
    "NumPy ist die Abkürzung für numerisches Python. Die Internetseite\n",
    "\n",
    "> https://numpy.org\n",
    "\n",
    "behauptet sogar von ihrem eigenen Paket, dass NumPy das fundamentale Modul für alle wissenschaftlichen Programme in Python ist - stimmt wahrscheinlich!\n",
    "\n",
    "Alle Daten lassen sich letztendlich als eine Folge von Zahlen schreiben. Beispielsweise kann ein Foto durch seine Pixel beschrieben werden zusammengesetzt aus den Werten RGB (rot - grün - blau). Python bietet dafür schon einen Datentyp, die Liste, in der Zahlen (Integer oder Float) gespeichert werden können. Da Python eine interpretierte Programmiersprache ist und da in der Liste auch andere Datentypen wie zum Beispiel Strings vorkommen dürfen, sind Listen für große Datenmengen nicht geeignet. Stattdessen stellt das Modul NumPy einen effizienten Datentyp zur Verfügung, das sogenannte **NumPy-Array**.  \n",
    "\n",
    "Dazu kommen noch Funktionen, die wichtig für Arrays sind wir Vektoroperationen. Tatsächlich sind die meisten NumPy-Operationen nicht in Python programmiert, sondern in C. Damit sind NumPy-Funktionen sehr effizient und das tolle daran ist, dass wir uns keine Gedanken über hardwarenahe Programmierung mit C oder C++ machen müssen :-)\n",
    "\n",
    "Schauen wir uns für das Bestimmen des Maximums einer Liste von zufällig erzeugten Zahlen zwischen 0 und 1 an. Zunächst erzeugen wir die Liste der 100 Zahlen. Dazu importieren wir NumPy mit seiner typischen Abkürzung `np`."
   ]
  },
  {
   "cell_type": "code",
   "execution_count": null,
   "id": "c304e376-cfff-497b-96e3-64156d361c7d",
   "metadata": {},
   "outputs": [],
   "source": [
    "import numpy as np\n",
    "\n",
    "# erzeuge Liste\n",
    "M = np.random.random_sample(100)\n",
    "\n",
    "print(M)"
   ]
  },
  {
   "cell_type": "markdown",
   "id": "136f6650-0180-4ae9-89db-29ef475789f3",
   "metadata": {},
   "source": [
    "Als nächstes berechnen wir das Maximum dieser Zahlen mit der im Python-Kern eingebauten Standardfunktion `max`, dann mit `np.max`:"
   ]
  },
  {
   "cell_type": "code",
   "execution_count": null,
   "id": "1e857990-b25a-4526-9e94-b2eea1a6c21e",
   "metadata": {},
   "outputs": [],
   "source": [
    "max_standard = max(M)\n",
    "max_numpy = np.max(M)\n",
    "\n",
    "print('Standard max = ', max_standard)\n",
    "print('Numpy max = ', max_numpy)"
   ]
  },
  {
   "cell_type": "markdown",
   "id": "f3a7a7e3-2372-419b-a6f0-2a34bf22a66d",
   "metadata": {},
   "source": [
    "Aber wie lange haben eigentlich die Berechnungen gedauert? Bei so kleinen Listen lohnt es nicht, die Berechnung mit der Stoppuhr zu ermitteln, die typischen Rechnenzeiten sind zu kurz. Aber JupyterLab bietet ein eingebautes Kommando, nämlich `%timeit`. Der Vorteil dieses Kommandos ist, dass der Python-Interpreter bei sehr kurzen Rechenzeiten einfach den Code mehrmals durchläuft und Mittelwerte bildet. "
   ]
  },
  {
   "cell_type": "code",
   "execution_count": null,
   "id": "9f8e4b00-1ba8-45cd-9d8f-06569166b6fa",
   "metadata": {},
   "outputs": [],
   "source": [
    "%timeit max_standard = max(M)\n",
    "%timeit max_numpy = np.max(M)"
   ]
  },
  {
   "cell_type": "markdown",
   "id": "8246c238-6553-415c-87f6-d9db17f5695a",
   "metadata": {},
   "source": [
    "Sie sehen, die NumPy-Variante ist erheblich schneller als die Standard-Variante."
   ]
  },
  {
   "cell_type": "markdown",
   "id": "48254362-b363-4dcb-b567-5631549b19ec",
   "metadata": {},
   "source": [
    "### Erzeugung von NumPy-Arrays\n",
    "\n",
    "Im Gegensatz zu Python-Listen enthalten NumPy-Arrays nur Elemente des gleichen Datentyps. Wenn eine Liste nur aus gleichen Datentypen besteht, können wir direkt aus der Liste ein NumPy-Array erzeugen:\n"
   ]
  },
  {
   "cell_type": "code",
   "execution_count": null,
   "id": "ea594bfc-667d-4a38-9740-1c4e0185e915",
   "metadata": {},
   "outputs": [],
   "source": [
    "liste = [1, 2, 3, 4, 5]\n",
    "a = np.array(liste)\n",
    "\n",
    "print(a)\n",
    "print( type(a) )"
   ]
  },
  {
   "cell_type": "markdown",
   "id": "c8ed8a61-d8a8-492f-9020-67fa6d755177",
   "metadata": {},
   "source": [
    "Sehr häufig kommen aber auch zwei-  oder gar dreidimensionale Arrays vor. In der Mathematik würde man ein eindimensionales Array als Vektor bezeichnen, ein zweidimensionales Array als Matrix (= Excel-Tabelle) und ein dreidimensionales Array als Tensor. Die Position eines Elementes wird dabei durch ganze Zahlen gekennzeichnet (entspricht bei 1d-Arrays ja den Listen). Für zweidimensionale NumPy-Arrays brauchen wir daher zwei Indizes, für dreidimensionale Arrays drei. Die folgende Grafik (Quelle: https://predictivehacks.com/tips-about-numpy-arrays/) zeigt das Nummerierungsschema:\n",
    "\n",
    "![fig:01](pics/fig_numpy_array.png)\n",
    "\n",
    "Im Folgenden fokussieren wir uns zunächst auf 1D- und 2D-Arrays und betrachten uns verschiedene Erzeugungsmethoden. Die entsprechende (englischsprachige) Dokumentation finden Sie hier:\n",
    "\n",
    "> https://numpy.org/doc/stable/reference/routines.array-creation.html\n",
    " \n",
    "Wir starten mit Arrays, die mit 0 oder 1 oder einer konstanten Zahl gefüllt sind. Dazu verwenden wir die NumPy-Funktionen\n",
    "* `np.zeros(dimension)`\n",
    "* `np.ones(dimension)`\n",
    "* `np.full(dimension, zahl)`"
   ]
  },
  {
   "cell_type": "code",
   "execution_count": null,
   "id": "80e6db8b-43a2-4a8b-b22e-6165d00b8d74",
   "metadata": {},
   "outputs": [],
   "source": [
    "# 1d-Array gefüllt mit Nullen\n",
    "x = np.zeros(10)\n",
    "print(x)"
   ]
  },
  {
   "cell_type": "code",
   "execution_count": null,
   "id": "8d6069cf-07dc-445e-a67b-e16ff3527118",
   "metadata": {},
   "outputs": [],
   "source": [
    "# 2d-Array gefüllt mit Nullen\n",
    "x = np.zeros( (3,10) )\n",
    "print(x)"
   ]
  },
  {
   "cell_type": "code",
   "execution_count": null,
   "id": "cd4ed200-75a5-4581-b0ee-4d823dd3cd9d",
   "metadata": {},
   "outputs": [],
   "source": [
    "# 1d-Array gefüllt mit Einsen\n",
    "x = np.ones(7)\n",
    "print(x)"
   ]
  },
  {
   "cell_type": "code",
   "execution_count": null,
   "id": "b8a6c6e2-b72e-484b-a0c6-34cf275a9423",
   "metadata": {},
   "outputs": [],
   "source": [
    "# 2d-Array gefüllt mit Nullen\n",
    "x = np.ones( (3,4) )\n",
    "print(x)"
   ]
  },
  {
   "cell_type": "code",
   "execution_count": null,
   "id": "f2f212be-da4d-4ae1-bb1f-1ddf8265408c",
   "metadata": {},
   "outputs": [],
   "source": [
    "# 2d-Array gefüllt mit einem konstanten Wert\n",
    "x = np.full( (3,4), -17.7)\n",
    "print(x)"
   ]
  },
  {
   "cell_type": "markdown",
   "id": "08aa27ba-c223-4246-b425-03b7642d8e56",
   "metadata": {},
   "source": [
    "**Mini-Übung:**   \n",
    "Erzeugen Sie folgende Arrays:\n",
    "* 1d-Array der Dimension 7 gefüllt mit 0\n",
    "* 1d-Array der Dimension 7 gefüllt mit -1\n",
    "* 2d-Array der Dimension (7,5) gefüllt mit 1\n",
    "* 2d-Array der Dimension (2,4) gefüllt mit $\\pi$\n",
    "* 1d-Array der Dimension 8 gefüllt mit $\\sqrt{5}$"
   ]
  },
  {
   "cell_type": "code",
   "execution_count": null,
   "id": "462fd36c-1c06-4ba2-bdd8-879e2bee72d5",
   "metadata": {},
   "outputs": [],
   "source": [
    "# Hier Ihr Code:\n",
    "\n"
   ]
  },
  {
   "cell_type": "markdown",
   "id": "e42b50e6-4f8f-416b-9d1a-2ed4d7ad12bf",
   "metadata": {},
   "source": [
    "Die folgenden 1d-Arrays werden nach einem gleichmäßigen Muster gefüllt. Dazu benutzen wir die NumPy-Funktionen\n",
    "* `np.linspace(start, stopp, anzahl)`\n",
    "* `np.arange(start, stopp, schrittweite)`\n"
   ]
  },
  {
   "cell_type": "code",
   "execution_count": null,
   "id": "2ac7a969-3d8d-4f77-a262-ba8d6b0bc50b",
   "metadata": {},
   "outputs": [],
   "source": [
    "# 1d-Array, das gleichmäßig zwischen start und stopp mit num Werten gefüllt wird\n",
    "# im Beispiel: start = 1, stopp = 10, num = 25 \n",
    "x = np.linspace(1, 10, 25)\n",
    "print(x)"
   ]
  },
  {
   "cell_type": "code",
   "execution_count": null,
   "id": "84a3fa02-ae50-4ac5-95e7-032c934244b0",
   "metadata": {},
   "outputs": [],
   "source": [
    "# 1d-Array, das bei start beginnt, step dazu addiert und bis kurz vor stopp geht\n",
    "# im Beispiel: start = 1, stopp = 20, step = 2\n",
    "x = np.arange(1, 20, 2)\n",
    "print(x)"
   ]
  },
  {
   "cell_type": "markdown",
   "id": "99d03fa1-782f-4f9a-91ac-1d7dac3be772",
   "metadata": {},
   "source": [
    "Zuletzt betrachten wir noch Erzeugungsfunktionen, die seltener vorkommen, aber dennoch nützlich sein können:\n",
    "* `np.random.random_sample(dimension)`: gleichmäßig verteilt zwischen 0 und 1\n",
    "* `np.random.normal(m, s, dimension)`: normalverteilt mit Mittelwert m und Standardabweichung s"
   ]
  },
  {
   "cell_type": "code",
   "execution_count": null,
   "id": "f3e081f1-8c26-4ab7-acf9-ed732b43e577",
   "metadata": {},
   "outputs": [],
   "source": [
    "# 2d-Array mit gleichmäßig zwischen 0 und 1 verteilten Zufallszahlen\n",
    "x = np.random.random_sample( (2,3) )\n",
    "print(x)"
   ]
  },
  {
   "cell_type": "code",
   "execution_count": null,
   "id": "f5ef6e46-f0df-43cf-8e29-70893a57b80d",
   "metadata": {},
   "outputs": [],
   "source": [
    "# 2d-Array mit normalverteilten Zufallszahlen \n",
    "x = np.random.normal(0, 1, (3,4) )\n",
    "print(x)"
   ]
  },
  {
   "cell_type": "code",
   "execution_count": null,
   "id": "7417fc4b-ed1c-440f-a227-9d1c043c24b6",
   "metadata": {},
   "outputs": [],
   "source": [
    "# 2d-Array als Einheitsmatrix der Größe m x m, hier m = 5\n",
    "x = np.eye(5)\n",
    "print(x)"
   ]
  },
  {
   "cell_type": "markdown",
   "id": "ae3eb5c0-704a-44b7-b2c8-e305b76afb15",
   "metadata": {},
   "source": [
    "**Mini-Übung**   \n",
    "Erzeugen Sie folgende Arrays:\n",
    "* 2d-Array mit der Dimension (3,4) und Zufallszahlen gleichmäßig zwischen 0 und 1 verteilt\n",
    "* 1d-Array mit der Dimension 17 und Zufallszahlen standardnormalverteilt (d.h. welcher Mittelwert und welche Standardabweichung?)\n",
    "* 2d-Array mit der Dimension (1,5) und normalverteilten Zufallszahlen, Mittelwert 37.5, Standardabweichung 0.8\n",
    "* 1d-Array mit allen geraden Zahlen von 100 bis 200 (inklusive)\n",
    "* 1d-Array mit 100 Punkten im Intervall [-1,1]\n",
    "* 1d-Array mit 0, 0.1, 0.2, 0.3, ..., 1.5"
   ]
  },
  {
   "cell_type": "code",
   "execution_count": null,
   "id": "c4d567ba-a56c-462b-ba0c-c1e10744d76f",
   "metadata": {},
   "outputs": [],
   "source": [
    "# Hier Ihr Code:\n",
    "\n"
   ]
  },
  {
   "cell_type": "markdown",
   "id": "3a6752c1-ecf5-49fb-a3cd-e802beef6aba",
   "metadata": {},
   "source": [
    "### Attribute von NumPy-Arrays\n",
    "\n",
    "Damit wir besser verstehen, welche Attribute die NumPy-Arrays haben können, erzeugen wir uns zufällig drei NumPy-Arrays. Damit aber nicht bei jeder neuen Ausführung der Code-Zelle neue Zufallszahlen gezogen werden, fixieren wir den Seed des Zufallszahlengenerators (vereinfacht gesagt kommen jetzt immer die gleichen Zufallszahlen) und benutzen die Erzeugungsmethode `np.random.randint(grenze, size=dimension)`:\n"
   ]
  },
  {
   "cell_type": "code",
   "execution_count": null,
   "id": "6b946652-d192-4368-834a-f1c17d054e32",
   "metadata": {},
   "outputs": [],
   "source": [
    "import numpy as np\n",
    "       \n",
    "np.random.seed(0)\n",
    "\n",
    "x = np.random.randint(10, size=7)\n",
    "y = np.random.randint(10, size=(2, 3))\n",
    "z = np.random.randint(10, size=(2, 3, 4))\n",
    "\n",
    "print('x = ')\n",
    "print(x)\n",
    "\n",
    "print('y = ')\n",
    "print(y)\n",
    "\n",
    "print('z = ')\n",
    "print(z)"
   ]
  },
  {
   "cell_type": "markdown",
   "id": "23902d60-f148-45a3-a246-dea80c23912f",
   "metadata": {},
   "source": [
    "Bei den Listen haben wir eine Funktion kennengelernt, mit der die Anzahl der Elemente in der Liste bestimmt werden kann: `len()`. Listen sind eindimensional, aber NumPy-Arrays können mehrdimensional sein. Daher gibt es hier auch mehr Eigenschaften für die Beschreibung:\n",
    "\n",
    "* Anzahl der Dimensionen: `.ndim`\n",
    "* Größe der jeweiligen Dimension: `.shape`\n",
    "* Gesamtgröße des Arrays: `.size`\n",
    "\n",
    "Die Größe `.shape` haben wir ja in der obigen Abbildung schon bereits kennengelernt. "
   ]
  },
  {
   "cell_type": "code",
   "execution_count": null,
   "id": "9201ffb6-3a64-487e-af10-f9c05e939815",
   "metadata": {},
   "outputs": [],
   "source": [
    "print('x = ')\n",
    "print(x)\n",
    "\n",
    "print( x.ndim )\n",
    "print( x.shape )\n",
    "print( x.size )"
   ]
  },
  {
   "cell_type": "code",
   "execution_count": null,
   "id": "b641dc85-3cf9-416b-9824-05cc7dbab763",
   "metadata": {},
   "outputs": [],
   "source": [
    "print('y = ')\n",
    "print(y)\n",
    "\n",
    "print( y.ndim )\n",
    "print( y.shape )\n",
    "print( y.size )"
   ]
  },
  {
   "cell_type": "code",
   "execution_count": null,
   "id": "ece33f02-b153-48fd-94ac-0408199576b3",
   "metadata": {},
   "outputs": [],
   "source": [
    "print('z = ')\n",
    "print(z)\n",
    "\n",
    "print( z.ndim )\n",
    "print( z.shape )\n",
    "print( z.size )"
   ]
  },
  {
   "cell_type": "markdown",
   "id": "a01b14cd-e161-43fd-a894-b65f2947b3f8",
   "metadata": {},
   "source": [
    "### Zugriff und Slicing (Auswahl von Teilmengen)\n",
    "\n",
    "Der Zugriff bei eindimensionalen Arrays erfolgt genau wie bei Listen über den **Zugriffsoperator** `[]`. Auch hier wird ab 0 beginnend gezählt."
   ]
  },
  {
   "cell_type": "code",
   "execution_count": null,
   "id": "dbaf900d-4b9c-45f5-9ea5-2ba7779227f1",
   "metadata": {},
   "outputs": [],
   "source": [
    "x = np.random.randint(10, size=7)\n",
    "print(x)\n",
    "\n",
    "drittes_element = x[2]\n",
    "print( drittes_element )"
   ]
  },
  {
   "cell_type": "markdown",
   "id": "a8ba5cb1-d94a-4cec-ad5d-7275c24ac744",
   "metadata": {},
   "source": [
    "Interessant wird es zu sehen, wie auf mehrdimensionale Arrays zugegriffen wird. Zur Erinnerung, zweidimensionale Arrays haben zwei Indizes (axis 0 und axis 1), dreidimensionale Arrays haben drei Indizes (axis 0, axis 1 und axis 2)."
   ]
  },
  {
   "cell_type": "code",
   "execution_count": null,
   "id": "b223c162-ce6c-4a6c-815f-f007c484ba84",
   "metadata": {},
   "outputs": [],
   "source": [
    "print('y = ')\n",
    "print(y)\n",
    "\n",
    "element = y[0,2]\n",
    "print(element)"
   ]
  },
  {
   "cell_type": "code",
   "execution_count": null,
   "id": "21e11536-3e20-49be-b99a-0903d279bc44",
   "metadata": {},
   "outputs": [],
   "source": [
    "print('z = ')\n",
    "print(z)\n",
    "\n",
    "element = z[1,1,3]\n",
    "print(element)"
   ]
  },
  {
   "cell_type": "markdown",
   "id": "b63f8d29-b621-4973-823f-27276cd3f85c",
   "metadata": {},
   "source": [
    "So kann man übrigens auch die Werte einzelner Elemente des Arrays ändern:"
   ]
  },
  {
   "cell_type": "code",
   "execution_count": null,
   "id": "ae949eb0-e53d-4d24-b9ce-c17d5d35672c",
   "metadata": {},
   "outputs": [],
   "source": [
    "print('vorher z = ')\n",
    "print(z)\n",
    "\n",
    "z[1,1,3] = 777\n",
    "print('nachher z = ', z)"
   ]
  },
  {
   "cell_type": "markdown",
   "id": "d0571300-d848-4c85-b8a8-ebf9266a6f70",
   "metadata": {},
   "source": [
    "Mit \n",
    "\n",
    "```python\n",
    "x[start:stopp:schrittweite]\n",
    "```\n",
    "\n",
    "werden Teilmengen eines Arrays ausgewählt. Diese Auswahl nennt man **Slicing**. Der Start- oder der Stoppwert darf dabei auch weggelassen werden, dann wird einfach alles ab 0 oder alles bis zum Ende ausgewählt.\n",
    "\n",
    "Achtung: Wieder geht es nur bis stopp - 1!"
   ]
  },
  {
   "cell_type": "code",
   "execution_count": null,
   "id": "4316c3d2-92eb-44ca-b5a3-280477a828f5",
   "metadata": {},
   "outputs": [],
   "source": [
    "x = np.random.randint(100, size=10)\n",
    "print('x: ', x)\n",
    "\n",
    "auswahl1 = x[3:5]\n",
    "print('Auswahl 1: ', auswahl1)\n",
    "\n",
    "auswahl2 = x[ :5]\n",
    "print('Auswahl 2: ', auswahl2)\n",
    "\n",
    "auswahl3 = x[3: ]\n",
    "print('Auswahl 3: ', auswahl3)\n",
    "\n",
    "auswahl4 = x[3:10:2]\n",
    "print('Auswahl 4: ', auswahl4)"
   ]
  },
  {
   "cell_type": "markdown",
   "id": "2e5fdb2e-cc21-4a42-94cf-fb20d056e6eb",
   "metadata": {},
   "source": [
    "Das geht auch genauso bei den mehrdimensionalen Arrays:"
   ]
  },
  {
   "cell_type": "code",
   "execution_count": null,
   "id": "b93fc31e-7509-418e-a454-7a773be0082a",
   "metadata": {},
   "outputs": [],
   "source": [
    "y = np.random.randint(100, size=(3,10))\n",
    "print('y: ')\n",
    "print(y)\n",
    "\n",
    "auswahl1 = y[1, 3:5]\n",
    "print('Auswahl 1: ', auswahl1)\n",
    "\n",
    "auswahl2 = y[0, :5]\n",
    "print('Auswahl 2: ', auswahl2)\n",
    "\n",
    "auswahl3 = y[2, 3: ]\n",
    "print('Auswahl 3: ', auswahl3)\n",
    "\n",
    "auswahl4 = y[0:2, 3:10:2]\n",
    "print('Auswahl 4: ')\n",
    "print(auswahl4)"
   ]
  },
  {
   "cell_type": "markdown",
   "id": "404a5fc9-ae57-46eb-9a58-1095f2410cd4",
   "metadata": {},
   "source": [
    "### Arrays verketten oder aufteilen\n",
    "\n",
    "Sehr häufig passiert bei der Datenanalyse Folgendes: wir lesen einen Datensatz ein und möchten dann diesen Datensatz mit einem zweiten Datensatz gemeinsam analysieren. Dazu müssen wir die Datensätze vereinigen. Später werden wir maschinelle Lernverfahren verwenden. Um schon einmal einen Ausblick auf später zu geben, Datensätze werden normalerweise in einen Trainingsdatensatz und einen Testdatensatz aufgeteilt. Mit dem Trainingsdatensatz wird das maschinelle Lernverfahren trainiert und dann anschließend mit dem Testdatensatz überprüft, wie gut das gelernte ML-Verfahren funktioniert. Daher ist auch das Aufteilen von Daten ein wichtiges Thema. \n",
    "\n",
    "Die Verkettung oder Vereinigung von NumPy-Arrays erfolgt mit der Funktion `np.concatenate`. Der einfachste Fall liegt vor, wenn wir zwei 1d-Arrays verketten möchten."
   ]
  },
  {
   "cell_type": "code",
   "execution_count": null,
   "id": "569353e8-5d72-4d4e-ad8c-f10243c6cc4d",
   "metadata": {},
   "outputs": [],
   "source": [
    "x1 = np.array([1, 2, 3, 4])\n",
    "x2 = np.array([7, 8, 9])\n",
    "\n",
    "x = np.concatenate( [x1, x2] )\n",
    "print(x)"
   ]
  },
  {
   "cell_type": "markdown",
   "id": "11574abb-a48e-47af-97eb-92e310812031",
   "metadata": {},
   "source": [
    "Dabei dürfen beliebig viele 1d-Arrays kombiniert werden, nicht nur zwei."
   ]
  },
  {
   "cell_type": "code",
   "execution_count": null,
   "id": "88e3262c-262e-4e49-977c-6aeeeeec2a0c",
   "metadata": {},
   "outputs": [],
   "source": [
    "x1 = np.array([1, 2, 3, 4])\n",
    "x2 = np.array([7, 8, 9])\n",
    "\n",
    "x = np.concatenate( [x1, x2, x1, x1] )\n",
    "print(x)"
   ]
  },
  {
   "cell_type": "markdown",
   "id": "7ef6556c-b0c4-4448-bf4d-0bcb0aa8fb67",
   "metadata": {},
   "source": [
    "Mit zweidimensionalen Arrays funktioniert das Kommando `np.concatenate` auch, allerdings müssen wir darauf achten, ob wir entlang der Achse 0 oder entlang der Achse 1 die Arrays vereinigen möchten."
   ]
  },
  {
   "cell_type": "code",
   "execution_count": null,
   "id": "d5cf53e7-ba5c-4bea-adb2-24afaabdf8c1",
   "metadata": {},
   "outputs": [],
   "source": [
    "X1 = np.full( (3,4), 1 )\n",
    "X2 = np.full( (2,4), 2 )\n",
    "\n",
    "print(X1)\n",
    "print(X2)\n",
    "\n",
    "X = np.concatenate( [X1,X2], axis=0)\n",
    "print(X)"
   ]
  },
  {
   "cell_type": "markdown",
   "id": "4aa3e622-a063-45c2-a06a-1f8e0d93922c",
   "metadata": {},
   "source": [
    "Und hier ein Beispiel für eine Vereinigung entlang der Achse 1:"
   ]
  },
  {
   "cell_type": "code",
   "execution_count": null,
   "id": "7bd246b0-5cde-4076-8518-7904d5ac7789",
   "metadata": {},
   "outputs": [],
   "source": [
    "X1 = np.full( (3,4), 1 )\n",
    "X2 = np.full( (3,2), 2 )\n",
    "\n",
    "print(X1)\n",
    "print(X2)\n",
    "\n",
    "X = np.concatenate( [X1,X2], axis=1)\n",
    "print(X)"
   ]
  },
  {
   "cell_type": "markdown",
   "id": "fc032d13-dcfa-45ef-b9ed-93039ba22b8e",
   "metadata": {},
   "source": [
    "Sozusagen das Gegenteil der Vereinigung, die Aufteilung oder in Informatik-Sprache der Split, erfolgt mit der Funktion `np.split(array, Liste mit Index)`. Diesmal beschränken wir uns auf 1d-Arrays (2d-Arrays können mit `np.hsplit()` und `np.vsplit()` geteilt werden, kommt selten vor). Wir teilen das Array an der Index-Position 4 auf, d.h. in der Liste zum Trennen ist nur ein Element, nämlich die 4:"
   ]
  },
  {
   "cell_type": "code",
   "execution_count": null,
   "id": "983fd8c3-e0b0-43cb-9479-384c0a8b537d",
   "metadata": {},
   "outputs": [],
   "source": [
    "x = np.linspace(1, 10, 9)\n",
    "print('x: ', x)\n",
    "\n",
    "x1, x2 = np.split(x, [4])\n",
    "print(x1)\n",
    "print(x2)"
   ]
  },
  {
   "cell_type": "markdown",
   "id": "c31a4b4b-f444-40bf-9aa9-86e37f81d4e7",
   "metadata": {},
   "source": [
    "Aber wir können noch mehr Splits erzeugen:"
   ]
  },
  {
   "cell_type": "code",
   "execution_count": null,
   "id": "34d7c4a7-93ca-4be4-b9e9-7a07ecec705c",
   "metadata": {},
   "outputs": [],
   "source": [
    "x = np.linspace(1, 10, 9)\n",
    "print('x: ', x)\n",
    "\n",
    "x1, x2, x3 = np.split(x, [4, 6])\n",
    "print(x1)\n",
    "print(x2)\n",
    "print(x3)"
   ]
  },
  {
   "cell_type": "markdown",
   "id": "12084111-e670-4b55-a5e7-35a81384fdeb",
   "metadata": {},
   "source": [
    "### Funktionen auf NumPy-Arrays anwenden\n",
    "\n",
    "NumPy-Arrays ermöglichen die Verarbeitung mit den typischen mathematischen Funktionen und den üblichen Statistik-Größen. Schauen wir uns einfach ein paar Beispiele an: "
   ]
  },
  {
   "cell_type": "code",
   "execution_count": null,
   "id": "00d30999-f9d3-4870-965a-0a094504dbc2",
   "metadata": {},
   "outputs": [],
   "source": [
    "# erzeuge 11 x-Werte im Intervall [-2*pi, 2*pi]\n",
    "x = np.linspace( -2*np.pi, 2*np.pi, 11)\n",
    "print(x)\n",
    "\n",
    "# Sinus-Funktion\n",
    "y1 = np.sin(x)\n",
    "print(y1)\n",
    "\n",
    "# Kosinus-Funktion\n",
    "y2 = np.cos(x)\n",
    "print(y2)\n",
    "\n",
    "# Exponentialfunktion\n",
    "y3 = np.exp(x)\n",
    "print(y3)\n",
    "\n",
    "# Potenzfunktion, z.B. y = x hoch 5\n",
    "y4 = np.power(x, 5)\n",
    "print(y4)"
   ]
  },
  {
   "cell_type": "code",
   "execution_count": null,
   "id": "2aef6070-5d2b-4e93-a61e-c59de306900e",
   "metadata": {},
   "outputs": [],
   "source": [
    "# erzeuge 3x4-Matrix mit Zufallszahlen\n",
    "X = np.random.random_sample((3,4))\n",
    "print(X)\n",
    "\n",
    "# Summe über alle Elemente\n",
    "s1 = np.sum(X)\n",
    "print('s1', s1)\n",
    "\n",
    "# Summe in Richtung Achse 0\n",
    "s2 = np.sum(X, axis=0)\n",
    "print('s2', s2)\n",
    "\n",
    "# Summe in Richtung Achse 1\n",
    "s3 = np.sum(X, axis=1)\n",
    "print('s3', s3)\n",
    "\n",
    "# Maximum über alle Elemente\n",
    "max1 = np.max(X)\n",
    "print('max1', max1)\n",
    "\n",
    "# Maximum in Richtung Achse 0\n",
    "max2 = np.sum(X, axis=0)\n",
    "print('max2', max2)\n",
    "\n",
    "# Maximum in Richtung Achse 1\n",
    "max3 = np.sum(X, axis=1)\n",
    "print('max3', max3)\n"
   ]
  },
  {
   "cell_type": "markdown",
   "id": "0939b84a-7405-498f-a9f0-220c4862f56a",
   "metadata": {},
   "source": [
    "# Übungsaufgaben"
   ]
  },
  {
   "cell_type": "markdown",
   "id": "7d155d53-1f24-41df-8753-1634bd9bf7d9",
   "metadata": {},
   "source": [
    "<div class=\"alert alert-block alert-success\">\n",
    "<b>Aufgabe 5.1: NumPy-Arrays </b> \n",
    "\n",
    "1. Erstellen Sie ein (5,5)-Array, das mit Nullen gefüllt ist.\n",
    "\n",
    "2. Erstellen Sie ein (3,3)-Array, das an jeder Stelle mit $\\pi$ gefüllt ist.\n",
    "\n",
    "3. Erzeugen Sie ein 1d-Array mit den Zahlen von 1 bis 100.\n",
    "    \n",
    "4. Erzeugen Sie ein 1d-Array mit den Sinus-Werten an den Stellen von $-2\\cdot\\pi$ bis $2\\cdot\\pi$ mit einer Schrittweite von $\\frac{1}{4}\\pi$.\n",
    "    \n",
    "5. Erzeugen Sie ein (30,10)-Array, bei der in der 1, Zeile nur 1 stehen, in der 2. Zeile nur 2 usw.\n",
    "    \n",
    "6. Erzeugen Sie ein (30,5)-Array, bei der auf der Diagonalen die Zahl $-100$ steht und ansonsten 0.\n",
    "    \n",
    "7. Bilden Sie die Vereinigung der beiden Arrays aus 5) und 6), indem Sie die beiden Arrays nebeneinander setzen.\n",
    "    \n",
    "8. Bilden Sie in jeder Spalte die Summe aller Elemente.\n",
    "</div>"
   ]
  },
  {
   "cell_type": "markdown",
   "id": "789fb341-dee5-4666-a7bd-41dafaf5a657",
   "metadata": {},
   "source": [
    "<div class=\"alert alert-block alert-success\">\n",
    "<b>Aufgabe 5.2: Nette Anzeige von NumPy-Arrays</b> \n",
    "\n",
    "Erstellen Sie ein (3,4)-Array mit standardnormalverteilten Zufallszahlen. Geben Sie dann jedes Element des Arrays mit seinen Indizes aus, also beispielsweise\n",
    "  \n",
    "```code\n",
    "Zeile 1 und Spalte 1: Element = 0.783\n",
    "Zeile 1 und Spalte 2: Element = -0.521\n",
    "...\n",
    "```\n",
    "Geben Sie am Ende auch das komplette Array aus, damit Sie kontrollieren können, ob Ihre Ausgabe funktioniert hat.\n",
    "</div>"
   ]
  },
  {
   "cell_type": "markdown",
   "id": "b742cafe-a1c4-42ff-9587-5f91799d91dd",
   "metadata": {},
   "source": [
    "<div class=\"alert alert-block alert-success\">\n",
    "<b>Aufgabe 5.3: Würfel</b>\n",
    "    \n",
    "\n",
    "Wenn man oft würfelt, sollte der Mittelwert aller Würfelwürfe 3.5 sein. Schreiben Sie eine Funktion, die 1 Millionen mal würfelt (W6) und den Mittelwert der Würfelwürfe berechnet und zurückgibt. Dies entspricht einem Experiment, daher nennen wir diesen Mittelwert jetzt Experimentmittelwert. \n",
    "    \n",
    "Anschließend soll der Benutzer oder die Benutzerin gefragt werden, wie oft das Experiment wiederholt werden soll. Die Experimentmittelwerte sollen in einem Array gespeichert werden. Geben Sie zuletzt die Experimentmittelwert aus, dann den Mittelwert der Experimentmittelwerte und zuletzt die Standardabweichung der Experimentmittelwerte.\n",
    "    \n",
    "Wiederholen Sie die Experimente mit nur 1000 Würfelwürfen anstatt 1 Millionen. Was beobachten Sie?\n",
    "</div>"
   ]
  }
 ],
 "metadata": {
  "kernelspec": {
   "display_name": "Python [conda env:python38] *",
   "language": "python",
   "name": "conda-env-python38-py"
  },
  "language_info": {
   "codemirror_mode": {
    "name": "ipython",
    "version": 3
   },
   "file_extension": ".py",
   "mimetype": "text/x-python",
   "name": "python",
   "nbconvert_exporter": "python",
   "pygments_lexer": "ipython3",
   "version": "3.8.3"
  }
 },
 "nbformat": 4,
 "nbformat_minor": 5
}
