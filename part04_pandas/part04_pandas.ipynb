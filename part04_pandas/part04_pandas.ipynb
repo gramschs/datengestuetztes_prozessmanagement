{
 "cells": [
  {
   "cell_type": "markdown",
   "id": "1e25a84a",
   "metadata": {},
   "source": [
    "# Pandas\n",
    "\n",
    "Pandas ist eine Bibliothek zur Verarbeitung und Analyse von Daten in Form von Tabellen und Zeitreihen. Die beiden grundlegenden Datenstrukturen sind `Series` und `DataFrame` für Datenreihen und Tabellen.\n",
    "\n",
    "Um das Modul pandas benutzen zu können, müssen wir es zunächst importieren. Es ist üblich, dabei dem Modul eine Abkürzung zu geben, damit wir nicht immer pandas schreiben müssen, wenn wir eine Funktion aus dem pandas-Modul benutzen."
   ]
  },
  {
   "cell_type": "code",
   "execution_count": 1,
   "id": "94c3c61a",
   "metadata": {},
   "outputs": [],
   "source": [
    "import pandas as pd # kürze das Modul pandas als pd ab, um Schreibarbeit zu sparen"
   ]
  },
  {
   "cell_type": "markdown",
   "id": "dbbb7dd4",
   "metadata": {},
   "source": [
    "## Series\n",
    "\n",
    "Die Pandas-Datenstruktur **Series** speichert eine Datenreihe ab. Ein Series-Objekt kann auch als einzelne Spalte einer Tabelle betrachtet werden. Erzeugt werden kann eine Series beispielsweise direkt aus einer Liste.\n",
    "\n",
    "### Erzeugung von Pandas-Series-Objekten und Attribute"
   ]
  },
  {
   "cell_type": "code",
   "execution_count": 2,
   "id": "34c54da8",
   "metadata": {},
   "outputs": [
    {
     "data": {
      "text/plain": [
       "0    25\n",
       "1    22\n",
       "2    43\n",
       "3    30\n",
       "dtype: int64"
      ]
     },
     "execution_count": 2,
     "metadata": {},
     "output_type": "execute_result"
    }
   ],
   "source": [
    "alter = pd.Series([25, 22, 43, 30])\n",
    "alter"
   ]
  },
  {
   "cell_type": "markdown",
   "id": "1dae7741",
   "metadata": {},
   "source": [
    "Im Gegensatz zum einem Numpy-Array enthält das Series-Objekt nicht nur die Daten selbst, sondern auch einen sogenannten **Index**. Hier ist der Index implizit definiert, weil wir bei der Initialisierung des Objektes ``alter`` keine weiteren Angaben gemacht haben. Daher hat der Python-Interpreter einfach ganze Zahlen von 0 bis 3 für den Index verwendet. \n",
    "\n",
    "Man kann aber auch explizit einen Index angegeben:"
   ]
  },
  {
   "cell_type": "code",
   "execution_count": 3,
   "id": "dec42388",
   "metadata": {},
   "outputs": [
    {
     "data": {
      "text/plain": [
       "Alice      25\n",
       "Bob        22\n",
       "Charlie    43\n",
       "Dora       30\n",
       "dtype: int64"
      ]
     },
     "execution_count": 3,
     "metadata": {},
     "output_type": "execute_result"
    }
   ],
   "source": [
    "alter = pd.Series([25, 22, 43, 30], index=[\"Alice\", \"Bob\", \"Charlie\", \"Dora\"])\n",
    "alter"
   ]
  },
  {
   "cell_type": "markdown",
   "id": "f307d758",
   "metadata": {},
   "source": [
    "Zusätzlich enthält die Datenstruktur noch ein Attribut, den Datentyp der gespeicherten Werte. Auf dieses Attribut kann mit dem Punktoperator zugegegriffen werden."
   ]
  },
  {
   "cell_type": "code",
   "execution_count": 4,
   "id": "7bdb1e02",
   "metadata": {},
   "outputs": [
    {
     "data": {
      "text/plain": [
       "dtype('int64')"
      ]
     },
     "execution_count": 4,
     "metadata": {},
     "output_type": "execute_result"
    }
   ],
   "source": [
    "alter.dtype"
   ]
  },
  {
   "cell_type": "markdown",
   "id": "58bbdbdb",
   "metadata": {},
   "source": [
    "Für die Initialisierung des Series-Objektes werden üblicherweise diese drei Möglichkeiten genutzt:\n",
    "* Liste\n",
    "* Numpy-Array\n",
    "* Dictionary\n",
    "\n",
    "Die erste Art der Initialisierung haben wir schon kennengelernt, nämlich die Erzeugung mit einer Liste. Nun schauen wir uns noch die verbleibenden zwei Arten an. Wir erzeugen zunächst ein numpy-Array und konstruieren damit dann ein Series-Objekt."
   ]
  },
  {
   "cell_type": "code",
   "execution_count": 5,
   "id": "43988ae7",
   "metadata": {},
   "outputs": [
    {
     "data": {
      "text/plain": [
       "1mal     3.141593\n",
       "2mal     6.283185\n",
       "3mal     9.424778\n",
       "4mal    12.566371\n",
       "dtype: float64"
      ]
     },
     "execution_count": 5,
     "metadata": {},
     "output_type": "execute_result"
    }
   ],
   "source": [
    "import numpy as np\n",
    "\n",
    "x_array = np.array([np.pi, 2*np.pi, 3*np.pi, 4*np.pi])\n",
    "x_series = pd.Series(x_array, index=['1mal', '2mal', '3mal', '4mal'])\n",
    "\n",
    "x_series"
   ]
  },
  {
   "cell_type": "markdown",
   "id": "04af5054",
   "metadata": {},
   "source": [
    "Nun verwenden wir ein Dictionary. Die Verwendung des Dictionaries hat den Vorteil, dass die Schlüssel direkt als Index wiederverwertet und somit ein expliziter Index vorliegt."
   ]
  },
  {
   "cell_type": "code",
   "execution_count": 6,
   "id": "e98ae96b",
   "metadata": {},
   "outputs": [
    {
     "data": {
      "text/plain": [
       "1mal     3.141593\n",
       "2mal     6.283185\n",
       "3mal     9.424778\n",
       "4mal    12.566371\n",
       "dtype: float64"
      ]
     },
     "execution_count": 6,
     "metadata": {},
     "output_type": "execute_result"
    }
   ],
   "source": [
    "d_dictionary = {'1mal': np.pi, '2mal': 2*np.pi, '3mal': 3*np.pi, '4mal': 4*np.pi}\n",
    "d_series = pd.Series(d_dictionary)\n",
    "\n",
    "d_series"
   ]
  },
  {
   "cell_type": "markdown",
   "id": "5d4db0e1",
   "metadata": {},
   "source": [
    "Neben dem Attribut ``.dtype`` hat ein Series-Objekt noch weitere Attribute, um die Eigenschaften zu beschreiben. Am wichtigsten sind der Index ``.index`` und die rohen Daten, also Werte der Datenreihe ``.value``."
   ]
  },
  {
   "cell_type": "code",
   "execution_count": 7,
   "id": "cf1fb8d1",
   "metadata": {},
   "outputs": [
    {
     "data": {
      "text/plain": [
       "Index(['1mal', '2mal', '3mal', '4mal'], dtype='object')"
      ]
     },
     "execution_count": 7,
     "metadata": {},
     "output_type": "execute_result"
    }
   ],
   "source": [
    "d_series.index"
   ]
  },
  {
   "cell_type": "code",
   "execution_count": 8,
   "id": "fd551556",
   "metadata": {},
   "outputs": [
    {
     "data": {
      "text/plain": [
       "array([ 3.14159265,  6.28318531,  9.42477796, 12.56637061])"
      ]
     },
     "execution_count": 8,
     "metadata": {},
     "output_type": "execute_result"
    }
   ],
   "source": [
    "d_series.values"
   ]
  },
  {
   "cell_type": "code",
   "execution_count": 9,
   "id": "6fa1080a",
   "metadata": {},
   "outputs": [
    {
     "data": {
      "text/plain": [
       "1mal     3.141593\n",
       "2mal     6.283185\n",
       "3mal     9.424778\n",
       "4mal    12.566371\n",
       "dtype: float64"
      ]
     },
     "execution_count": 9,
     "metadata": {},
     "output_type": "execute_result"
    }
   ],
   "source": [
    "d_series"
   ]
  },
  {
   "cell_type": "markdown",
   "id": "356164e8",
   "metadata": {},
   "source": [
    "### Aufgaben zur Erzeugung von Pandas-Series-Objekten\n",
    "\n",
    "#### Aufgabe 1\n",
    "Erzeugen Sie drei Pandas-Series-Objekte mit den Wochentagen als Index und der Anzahl der Vorlesungsstunden (45 min) an diesem Tag als Daten. Verwenden Sie für jedes dieser drei Objekte eine andere Intialisierungsmethode, also per Liste, Numpy-Array und Dictionary.\n",
    "\n",
    "#### Aufgabe 2\n",
    "Erzeugen Sie ein Pandas-Series-Objekt mit den Monaten als Index und der Anzahl der Tage in diesem Monat als Daten.\n",
    "\n",
    "#### Aufgabe 3\n",
    "Erzeugen Sie ein Pandas-Series-Objekt mit den Zahlen von 1 bis 100 als Index und den Quadratzahlen von 1 bis 100 als Daten. Würden Sie als Initialisierungsmethode ein Dictionary verwenden?\n",
    "\n",
    "#### Aufgabe 4\n",
    "Recherchieren Sie im Internet nach den Ergebnissen der Fußball-Bundesliga (Männer) der Spielsaison 2020/21. Erzeugen Sie ein Pandas-Series-Objekt mit den Vereinsnamen als Index und den Punkten als Daten. Welche Initialisierungsmethode Liste, Numpy-Array oder Dictionary bietet sich hier an?"
   ]
  },
  {
   "cell_type": "code",
   "execution_count": 10,
   "id": "8df87f82",
   "metadata": {},
   "outputs": [
    {
     "name": "stdout",
     "output_type": "stream",
     "text": [
      "Mo    6\n",
      "Di    4\n",
      "Mi    4\n",
      "Do    0\n",
      "Fr    8\n",
      "Sa    0\n",
      "So    0\n",
      "dtype: int64\n",
      "Mo    6\n",
      "Di    4\n",
      "Mi    4\n",
      "Do    0\n",
      "Fr    8\n",
      "Sa    0\n",
      "So    0\n",
      "dtype: int64\n",
      "Mo    6\n",
      "Di    4\n",
      "Mi    4\n",
      "Do    0\n",
      "Fr    8\n",
      "Sa    0\n",
      "So    0\n",
      "dtype: int64\n"
     ]
    }
   ],
   "source": [
    "# Aufgabe 1\n",
    "woche01 = pd.Series([6, 4, 4, 0, 8, 0, 0], index=['Mo', 'Di', 'Mi', 'Do', 'Fr', 'Sa', 'So'])\n",
    "\n",
    "w_array = np.array([6, 4, 4, 0, 8, 0, 0])\n",
    "woche02 = pd.Series(w_array, index=['Mo', 'Di', 'Mi', 'Do', 'Fr', 'Sa', 'So'])\n",
    "\n",
    "w_dict = {\n",
    "    'Mo': 6,\n",
    "    'Di': 4,\n",
    "    'Mi': 4,\n",
    "    'Do': 0,\n",
    "    'Fr': 8,\n",
    "    'Sa': 0,\n",
    "    'So': 0\n",
    "}\n",
    "woche03 = pd.Series(w_dict)\n",
    "\n",
    "print(woche01)\n",
    "print(woche02)\n",
    "print(woche03)"
   ]
  },
  {
   "cell_type": "code",
   "execution_count": 11,
   "id": "246a9d08",
   "metadata": {},
   "outputs": [
    {
     "name": "stdout",
     "output_type": "stream",
     "text": [
      "Jan    31\n",
      "Feb    28\n",
      "Mär    31\n",
      "Apr    30\n",
      "Mai    31\n",
      "Jun    30\n",
      "Jul    31\n",
      "Aug    31\n",
      "Sep    30\n",
      "Okt    31\n",
      "Nov    30\n",
      "Dez    31\n",
      "dtype: int64\n"
     ]
    }
   ],
   "source": [
    "# Aufgabe 2\n",
    "monat_dict = {'Jan': 31, 'Feb': 28, 'Mär': 31, 'Apr': 30, 'Mai': 31, 'Jun': 30, 'Jul': 31, 'Aug': 31, 'Sep': 30, 'Okt': 31, 'Nov': 30, 'Dez': 31}\n",
    "monat = pd.Series(monat_dict)\n",
    "print(monat)"
   ]
  },
  {
   "cell_type": "code",
   "execution_count": 12,
   "id": "1d908a64",
   "metadata": {},
   "outputs": [
    {
     "name": "stdout",
     "output_type": "stream",
     "text": [
      "1          1\n",
      "2          4\n",
      "3          9\n",
      "4         16\n",
      "5         25\n",
      "       ...  \n",
      "96      9216\n",
      "97      9409\n",
      "98      9604\n",
      "99      9801\n",
      "100    10000\n",
      "Length: 100, dtype: int64\n"
     ]
    }
   ],
   "source": [
    "# Aufgabe 3\n",
    "x = np.arange(1, 101)\n",
    "y = x**2\n",
    "quadratzahlen = pd.Series(y, index=x)\n",
    "print(quadratzahlen)"
   ]
  },
  {
   "cell_type": "code",
   "execution_count": 13,
   "id": "543f846d",
   "metadata": {},
   "outputs": [
    {
     "name": "stdout",
     "output_type": "stream",
     "text": [
      "FC Bayern München           78\n",
      "RB Leipzig                  65\n",
      "Borussia Dortmund           64\n",
      "VfL Wolfsburg               61\n",
      "Eintracht Frankfurt         60\n",
      "Bayer 04 Leverkusen         52\n",
      "1. FC Union Berlin          50\n",
      "Borussia Mönchengladbach    49\n",
      "VfB Stuttgart               45\n",
      "SC Freiburg                 45\n",
      "TSG 1899 Hoffenheim         43\n",
      "1. FSV Mainz 05             39\n",
      "FC Augsburg                 36\n",
      "Hertha BSC                  35\n",
      "Arminia Bielefeld           35\n",
      "1. FC Köln                  33\n",
      "Werder Bremen               31\n",
      "FC Schalke 04               16\n",
      "dtype: int64\n"
     ]
    }
   ],
   "source": [
    "# Aufgabe 4\n",
    "\n",
    "data = {\n",
    "    'FC Bayern München': 78,\n",
    "    'RB Leipzig': 65,\n",
    "    'Borussia Dortmund': 64,\n",
    "    'VfL Wolfsburg': 61,\n",
    "    'Eintracht Frankfurt': 60,\n",
    "    'Bayer 04 Leverkusen': 52,\n",
    "    '1. FC Union Berlin': 50,\n",
    "    'Borussia Mönchengladbach': 49,\n",
    "    'VfB Stuttgart': 45,\n",
    "    'SC Freiburg': 45,\n",
    "    'TSG 1899 Hoffenheim': 43,\n",
    "    '1. FSV Mainz 05': 39,\n",
    "    'FC Augsburg': 36,\n",
    "    'Hertha BSC': 35,\n",
    "    'Arminia Bielefeld': 35,\n",
    "    '1. FC Köln': 33,\n",
    "    'Werder Bremen': 31,\n",
    "    'FC Schalke 04': 16\n",
    "}\n",
    "bundesliga_2020 = pd.Series(data)\n",
    "print(bundesliga_2020)\n"
   ]
  },
  {
   "cell_type": "markdown",
   "id": "59320e00",
   "metadata": {},
   "source": [
    "## Zugriff auf Zellen -- loc\n",
    "\n",
    "Im Folgenden betrachten wir verschiedene Möglichkeiten, um auf die Werte in einer Zelle zuzugreifen. Wir werden uns vier Möglichkeiten ansehen:\n",
    "* Zugriff auf eine einzelne Zeile, indem ein Index spezifiziert wird\n",
    "* Zugriff auf mehrere Zeilen, indem eine Liste von Indizes übergeben wird\n",
    "* Zugriff auf mehrere zusammenhängende Zeilen, indem ein Slice von Indizes übergeben wird\n",
    "* Zugriff auf mehrere Zeilen, indem eine Liste mit True/False übergeben wird."
   ]
  },
  {
   "cell_type": "code",
   "execution_count": 14,
   "id": "3229415b",
   "metadata": {},
   "outputs": [
    {
     "data": {
      "text/plain": [
       "Alice      25\n",
       "Bob        22\n",
       "Charlie    43\n",
       "Dora       30\n",
       "dtype: int64"
      ]
     },
     "execution_count": 14,
     "metadata": {},
     "output_type": "execute_result"
    }
   ],
   "source": [
    "alter = pd.Series([25, 22, 43, 30], index=[\"Alice\", \"Bob\", \"Charlie\", \"Dora\"])\n",
    "alter"
   ]
  },
  {
   "cell_type": "markdown",
   "id": "85d371e8",
   "metadata": {},
   "source": [
    "Zunächst greifen wir eine einzelne Zeile heraus. Dazu benutzen wir das Attribut ``.loc`` und spezifizieren mit eckigen Klammern den Index der Zeile, also ``.loc[index]``. Anders als bei den folgenden drei Zugriffsmöglichkeiten, wird nur der Wert der Daten in der Zeile zurückgeliefert, nicht aber der dazugehörige Index."
   ]
  },
  {
   "cell_type": "code",
   "execution_count": 15,
   "id": "ebd21e16",
   "metadata": {},
   "outputs": [
    {
     "data": {
      "text/plain": [
       "25"
      ]
     },
     "execution_count": 15,
     "metadata": {},
     "output_type": "execute_result"
    }
   ],
   "source": [
    "alter.loc['Alice']"
   ]
  },
  {
   "cell_type": "code",
   "execution_count": 16,
   "id": "2d05da30",
   "metadata": {},
   "outputs": [
    {
     "data": {
      "text/plain": [
       "30"
      ]
     },
     "execution_count": 16,
     "metadata": {},
     "output_type": "execute_result"
    }
   ],
   "source": [
    "alter.loc['Dora']"
   ]
  },
  {
   "cell_type": "markdown",
   "id": "baa0fa88",
   "metadata": {},
   "source": [
    "Nun erzeugen wir eine Liste von Indizes. Danach können wir aus dem Pandas-Series-Objekt per ``.loc[liste]`` auf mehrere Zeilen zugreifen. Miniaufgabe: Erzeugen Sie analog zu dem untenstehenden Beispiel eine Liste der Männer und geben Sie das Alter der Männer aus."
   ]
  },
  {
   "cell_type": "code",
   "execution_count": 17,
   "id": "2e43e0ba",
   "metadata": {},
   "outputs": [
    {
     "data": {
      "text/plain": [
       "Alice    25\n",
       "Dora     30\n",
       "dtype: int64"
      ]
     },
     "execution_count": 17,
     "metadata": {},
     "output_type": "execute_result"
    }
   ],
   "source": [
    "frauen  = ['Alice', 'Dora']\n",
    "alter.loc[frauen]\n"
   ]
  },
  {
   "cell_type": "markdown",
   "id": "949ce27c",
   "metadata": {},
   "source": [
    "Als dritte Möglichkeit betrachten wir einen Slice, also das Herausschneiden eines zusammenhängenden Stückes aus dem Pandas-Series-Objekt. Dazu spezifizieren wir den Start- und den stoppindex mit einem Doppelpunkt dazwischen, also ``.loc[startindex : stoppindex]``. Das Herausschneiden von zusammenhängenden ZTeilobjekten wird auch als **Slicing** bezeichnet."
   ]
  },
  {
   "cell_type": "code",
   "execution_count": 18,
   "id": "3398f743",
   "metadata": {},
   "outputs": [
    {
     "data": {
      "text/plain": [
       "Bob        22\n",
       "Charlie    43\n",
       "Dora       30\n",
       "dtype: int64"
      ]
     },
     "execution_count": 18,
     "metadata": {},
     "output_type": "execute_result"
    }
   ],
   "source": [
    "alter.loc['Bob': 'Dora']"
   ]
  },
  {
   "cell_type": "markdown",
   "id": "0a71c634",
   "metadata": {},
   "source": [
    "Als letzte Möglichkeit, um auf Zeilen in dem Pandas-Series-Objekt zuzugreifen, betrachten wir die Übergabe eine Liste mit True/False-Werten."
   ]
  },
  {
   "cell_type": "code",
   "execution_count": 19,
   "id": "7d43ffbc",
   "metadata": {},
   "outputs": [
    {
     "data": {
      "text/plain": [
       "Alice    25\n",
       "Dora     30\n",
       "dtype: int64"
      ]
     },
     "execution_count": 19,
     "metadata": {},
     "output_type": "execute_result"
    }
   ],
   "source": [
    "filter = [True, False, False, True]\n",
    "alter.loc[filter]"
   ]
  },
  {
   "cell_type": "markdown",
   "id": "b446b3ab",
   "metadata": {},
   "source": [
    "Letztere Möglichkeit wird vor allem dazu genutzt, Daten nach Eigenschaften zu filtern. Ein simpler Vergleich des Pandas-Series-Objektes beispielsweie erzeugt solche True/False-Objekte, die dann in einem zweiten Schritt genutzt werden können, um das Pandas-Series-Objekt zu filtern. "
   ]
  },
  {
   "cell_type": "code",
   "execution_count": 20,
   "id": "22e883ac",
   "metadata": {},
   "outputs": [
    {
     "data": {
      "text/plain": [
       "Alice    25\n",
       "Bob      22\n",
       "dtype: int64"
      ]
     },
     "execution_count": 20,
     "metadata": {},
     "output_type": "execute_result"
    }
   ],
   "source": [
    "filter = alter < 28\n",
    "alter.loc[filter]"
   ]
  },
  {
   "cell_type": "markdown",
   "id": "5f9be32b",
   "metadata": {},
   "source": [
    "Nachdem wir nun gelernt haben, wie auf einzelne Element des Pandas-Series-Objektes zugegriffen wird, können wir Daten auch manipulieren. Beispielsweise ist Charlie gar nicht 43 Jahre alt, sondern nur 42. Wir weisen dem Objekt ``alter`` für den Index ``'Charlie'``einen neuen Wert zu:"
   ]
  },
  {
   "cell_type": "code",
   "execution_count": 21,
   "id": "bd5e0925",
   "metadata": {},
   "outputs": [
    {
     "data": {
      "text/plain": [
       "Alice      25\n",
       "Bob        22\n",
       "Charlie    42\n",
       "Dora       30\n",
       "dtype: int64"
      ]
     },
     "execution_count": 21,
     "metadata": {},
     "output_type": "execute_result"
    }
   ],
   "source": [
    "alter.loc['Charlie'] = 42\n",
    "alter"
   ]
  },
  {
   "cell_type": "markdown",
   "id": "2e64e16c",
   "metadata": {},
   "source": [
    "Oder wir wählen alle Frauen aus und machen sie drei Jahre jünger ;-)"
   ]
  },
  {
   "cell_type": "code",
   "execution_count": 22,
   "id": "bd5e5773",
   "metadata": {},
   "outputs": [
    {
     "data": {
      "text/plain": [
       "Alice      28\n",
       "Bob        22\n",
       "Charlie    42\n",
       "Dora       33\n",
       "dtype: int64"
      ]
     },
     "execution_count": 22,
     "metadata": {},
     "output_type": "execute_result"
    }
   ],
   "source": [
    "alter.loc[ ['Alice', 'Dora']] = alter.loc[ ['Alice', 'Dora']] + 3\n",
    "alter"
   ]
  },
  {
   "cell_type": "markdown",
   "id": "fd029918",
   "metadata": {},
   "source": [
    "### Einfache statistische Informationen zu Pandas-Series-Objekten bestimmen\n",
    "\n",
    "Pandas ist ein Modul zur statistischen Auswertung von Daten. Daher ermöglicht es in einfacher Weise, die wichtigsten statistischen Informationen auszuwerten. Im Folgenden schauen wir uns\n",
    "\n",
    "* Summe ``.sum()``\n",
    "* Mittelwert ``.mean()``\n",
    "* Standardabweichung ``.std()``\n",
    "* Zusammenfassung ``.describe()``\n",
    "* Plots (diskrete und kontinuierliche Daten) ``.plot(kind='line')`` und ``.plot(kind='bar')`` \n",
    "\n",
    "an.\n",
    "\n",
    "Wie Sie sicherlich vermuten, berechnet die Methode ``.sum()`` die Summe aller Einträge im Pandas-Series-Objekt. Gehen wir davon aus, dass die Einträge in dem Objekt ``alter`` nun\n",
    "\n",
    "```\n",
    "Alice   28\n",
    "Bob     22\n",
    "Charlie 42\n",
    "Dora    33\n",
    "````\n",
    "\n",
    "lauten. Dann ist die Summe $28 + 22 + 42 + 33 = 125$. Der Mittelwert ``.mean()`` ist die Summe geteilt durch die Anzahl der Einträge, also $m = 125/4 = 31.25$. Die Standardabweichung gibt an, wie stark die einzelnen Werte vom Mittelwert abweichen. Die mathematische Formel zur Berechnung der Standardabweichung lautet:\n",
    "\n",
    "$$\\sigma = \\frac{1}{N-1} \\sqrt{\\sum_{i=0}^{N} (x_i - m)^2}.$$\n",
    "\n",
    "Somit ist die Standardabweichung in unserem Beispiel $\\sigma = \\sqrt{\\frac{1}{3} \\left( (28-31.25)^2 + (22-31.25)^2 + (42-31.25)^2 + (33-31.25)^2 \\right)} = 8.4606...$ .\n",
    "\n",
    "Durch den Aufruf der Methode ``.describe()`` erhalten Sie eine Übersicht über die wichtigsten statistischen Kennwerte des Pandas-Series-Objektes.\n",
    "\n",
    "Kommen wir noch zu den Plots. Mit einem Plots ist die Visualisierung einer Datenreihe gemeint. Wenn die Daten kontinuierlich sind, werden die Datenpunkte üblicherweise mit einer Linie verbunden. Mit kontinuierlich ist gemeint, dass man beispielsweise jede Sekunde eine Messung der Temperatur durchführt, aber zwischen den Sekunden ist die Temperatur ja nicht verschwunden. Zwischen $t = 2 s$ und $t = 3 s$ liegt eigentlich $t = 2.5 s$. Wir nehmen an, dass zwischen dem Zeitpunkt $t = 2 s$ und $t = 3 s$ die Temperatur linear verläuft und dürfen deshlab im Plot die Datenpunkt mit einer Linie verbinden. Anders ist es bei diskreten Daten. Zwischen dem Alter von Alice und dem Alter von Bob liegt nichts dazwischen. Daher können diese Datenpunkte auch nicht mit einer Linie verbunden werden. Daher werden diskrete Daten als Balkendiagramme visualisiert. Die Plots werden mit der Methode ``.plot()`` erzeugt. Standardmäßig ist der Linienplot voreingestellt, also eigentlich die Option ``.plot(kind='line')``. Diskrete Daten mit Balkendiagrammen werden mit der Methode ``.plot(kind='bar')`` erzeugt.  \n",
    "\n"
   ]
  },
  {
   "cell_type": "code",
   "execution_count": 23,
   "id": "5bf38a4e",
   "metadata": {},
   "outputs": [
    {
     "name": "stdout",
     "output_type": "stream",
     "text": [
      "Die Summe ist  125\n",
      "Der Mittelwert ist  31.25\n",
      "Die Standardabweichung ist  8.460693430998036\n",
      "Zusammenfassung:  count     4.000000\n",
      "mean     31.250000\n",
      "std       8.460693\n",
      "min      22.000000\n",
      "25%      26.500000\n",
      "50%      30.500000\n",
      "75%      35.250000\n",
      "max      42.000000\n",
      "dtype: float64\n"
     ]
    },
    {
     "data": {
      "text/plain": [
       "<AxesSubplot:>"
      ]
     },
     "execution_count": 23,
     "metadata": {},
     "output_type": "execute_result"
    },
    {
     "data": {
      "image/png": "[encoded data removed]",
      "text/plain": [
       "<Figure size 432x288 with 1 Axes>"
      ]
     },
     "metadata": {
      "needs_background": "light"
     },
     "output_type": "display_data"
    }
   ],
   "source": [
    "summe = alter.sum()\n",
    "mittelwert = alter.mean()\n",
    "stndardabweichung = alter.std()\n",
    "\n",
    "print('Die Summe ist ', summe)\n",
    "print('Der Mittelwert ist ', mittelwert)\n",
    "print('Die Standardabweichung ist ', stndardabweichung)\n",
    "print('Zusammenfassung: ', alter.describe())\n",
    "\n",
    "alter.plot(kind='bar')\n"
   ]
  },
  {
   "cell_type": "markdown",
   "id": "d98177cc",
   "metadata": {},
   "source": [
    "#### Aufgabe 5\n",
    "\n",
    "Erzeugen Sie ein Pandas-Series-Objekt mit den Ergebnissen der Fußball-Bundesliga (Männer) der Spielsaison 2020/21 mit dem Vereinsnamen als Index und den Punkten als Daten. \n",
    "\n",
    "1. Berechnen Sie den Mittelwert und die Standardabweichung der Punkte.\n",
    "2. Plotten Sie die Punkte -- Linienplot oder Balkendiagramm?\n",
    "3. Filtern Sie alle Vereine heraus, die echt weniger (<) als 40 Punkte erzielt haben .\n",
    "    * Welch Vereine sind dies?\n",
    "    * Wie findet man heraus, wie viele Vereine es sind?\n",
    "    * Berechnen Sie die Summe der Punkte dieser Vereine.\n",
    "    * Berechnen Sie die Summe der Punkte der Top3-Vereine, wer hat mehr Punkte erzielt?"
   ]
  },
  {
   "cell_type": "markdown",
   "id": "7d5e22c8",
   "metadata": {},
   "source": [
    "#### Aufgabe 6\n",
    "\n",
    "Die folgende Tabelle zeigt die Einwohnerzahlen der deutschen Bundesländer in Millionen Einwohner. \n",
    "\n",
    "```\n",
    "Baden-Württemberg       11.07\n",
    "Bayern                  13.077\n",
    "Berlin                  3.645\n",
    "Brandenburg             2.512\n",
    "Bremen                  0.683\n",
    "Hamburg                 1.841\n",
    "Hessen                  6.266\n",
    "Mecklenburg-Vorpommern  1.61\n",
    "Niedersachsen           7.982\n",
    "Nordrhein-Westfalen     17.933\n",
    "Rheinland-Pfalz         4.085\n",
    "Saarland                0.991\n",
    "Sachsen                 4.078\n",
    "Sachsen-Anhalt          2.208\n",
    "Schleswig-Holstein      2.897\n",
    "Thüringen               2.143\n",
    "```\n",
    "\n",
    "1. Erzeugen Sie ein passendes Pandas-Series-Objekt.\n",
    "2. Berechnen Sie die wichtigsten statistischen Informationen wie Summe, Mittelwert, Standardabweichung und plotten Sie die Daten.\n",
    "3. Wie viele Bundesländer liegen über dem Mittelwert? Filtern Sie dazu die Tabelle und lassen Sie die Anzahl der Zeilen bestimmen.\n",
    "4. Recherchieren Sie im Internet, wie man das Pandas-Series-Objekt nach der Einwohnerzahl sortiert -- vom kleinsten zum größten Bundesland."
   ]
  },
  {
   "cell_type": "code",
   "execution_count": 24,
   "id": "c126531f",
   "metadata": {},
   "outputs": [
    {
     "name": "stdout",
     "output_type": "stream",
     "text": [
      "Summe:  83.021\n",
      "Mittelwert:  5.1888125\n",
      "Standardabweichung:  4.936555792841132\n"
     ]
    },
    {
     "data": {
      "text/plain": [
       "<AxesSubplot:>"
      ]
     },
     "execution_count": 24,
     "metadata": {},
     "output_type": "execute_result"
    },
    {
     "data": {
      "image/png": "[encoded data removed]",
      "text/plain": [
       "<Figure size 432x288 with 1 Axes>"
      ]
     },
     "metadata": {
      "needs_background": "light"
     },
     "output_type": "display_data"
    }
   ],
   "source": [
    "data_dict = {\n",
    "'Baden-Württemberg':       11.07,\n",
    "'Bayern':                  13.077,\n",
    "'Berlin':                  3.645,\n",
    "'Brandenburg':             2.512,\n",
    "'Bremen':                  0.683,\n",
    "'Hamburg':                 1.841,\n",
    "'Hessen':                  6.266,\n",
    "'Mecklenburg-Vorpommern':  1.61,\n",
    "'Niedersachsen':           7.982,\n",
    "'Nordrhein-Westfalen':     17.933,\n",
    "'Rheinland-Pfalz':         4.085,\n",
    "'Saarland':                0.991,\n",
    "'Sachsen':                 4.078,\n",
    "'Sachsen-Anhalt':          2.208,\n",
    "'Schleswig-Holstein':      2.897,\n",
    "'Thüringen':               2.143\n",
    "}\n",
    "data = pd.Series(data_dict)\n",
    "\n",
    "print('Summe: ', data.sum())\n",
    "print('Mittelwert: ', data.mean())\n",
    "print('Standardabweichung: ', data.std())\n",
    "\n",
    "#data.plot(kind='bar')\n",
    "\n",
    "data.sort_values(ascending=False).plot(kind='bar')"
   ]
  },
  {
   "cell_type": "markdown",
   "id": "5bfc4c70",
   "metadata": {},
   "source": [
    "#### Aufgabe 6\n",
    "\n",
    "Auf der Internetseite https://statistik.hessen.de/zahlen-fakten/wahlen/tabellen finden Sie eine Tabelle mit den Ergebnissen der \"Bundestagswahlen in Hessen 1949 — 2017\". Laden Sie die Excel-Tabelle herunter und erzeugen Sie ein Pandas-Series-Objekt mit dem Index Datum und den Werten Wahlbeteiligung.\n",
    "\n",
    "Beantworten Sie folgende Fragen:\n",
    "* Wie viele Bundestagswahlen haben stattgefunden?\n",
    "* Wie hoch war bisher die durchschnittliche Wahlbeteiligung?\n",
    "* In welchem Jahr war die Wahlbeteiligung am niedrigsten? Tipp: Recherchieren Sie im Internet nach der Methode ``.min()`` und filtern Sie das Datenobjekt.\n",
    "* Visualisieren Sie die Wahlbeteiligung. Gibt es einen Trend?"
   ]
  },
  {
   "cell_type": "code",
   "execution_count": 25,
   "id": "3ed1359a",
   "metadata": {},
   "outputs": [
    {
     "name": "stdout",
     "output_type": "stream",
     "text": [
      "Anzahl Bundestagswahlen:  19\n",
      "Durchschnittliche Wahlbeteiligung:  84.08947368421053\n",
      "Minimale Wahlbeteiligung:  73.2\n",
      "Die minimale Wahlbeteiligung war am  Index(['22.09.13'], dtype='object')\n"
     ]
    },
    {
     "data": {
      "text/plain": [
       "<AxesSubplot:>"
      ]
     },
     "execution_count": 25,
     "metadata": {},
     "output_type": "execute_result"
    },
    {
     "data": {
      "image/png": "[encoded data removed]",
      "text/plain": [
       "<Figure size 432x288 with 1 Axes>"
      ]
     },
     "metadata": {
      "needs_background": "light"
     },
     "output_type": "display_data"
    }
   ],
   "source": [
    "data_dict = {\n",
    "'24.09.17':\t77.0,  \n",
    "'22.09.13':\t73.2,  \n",
    "'27.09.09':\t73.8,  \n",
    "'18.09.05':\t78.7,  \n",
    "'22.09.02':\t80.1,  \n",
    "'27.09.98':\t84.2,  \n",
    "'16.10.94':\t82.3,  \n",
    "'02.12.90':\t81.1,  \n",
    "'25.01.87':\t85.7,  \n",
    "'06.03.83':\t90.2,  \n",
    "'05.10.80':\t89.9, \n",
    "'03.10.76':\t91.9,  \n",
    "'19.11.72':\t91.7,  \n",
    "'28.09.69':\t88.2,  \n",
    "'19.09.65':\t87.4,  \n",
    "'17.09.61':\t89.2,  \n",
    "'15.09.57':\t89.1,  \n",
    "'06.09.53':\t86.7,  \n",
    "'14.08.49':\t77.3,  \n",
    "}\n",
    "data = pd.Series(data_dict)\n",
    "\n",
    "print('Anzahl Bundestagswahlen: ', len(data))\n",
    "print('Durchschnittliche Wahlbeteiligung: ', data.mean())\n",
    "print('Minimale Wahlbeteiligung: ', data.min())\n",
    "minimale_wahlbeteiligung = data.loc[data == data.min()]\n",
    "print('Die minimale Wahlbeteiligung war am ', minimale_wahlbeteiligung.index)\n",
    "\n",
    "data.plot(kind='bar')\n"
   ]
  },
  {
   "cell_type": "markdown",
   "id": "300583bd",
   "metadata": {},
   "source": [
    "#### Aufgabe 7\n",
    "\n",
    "Und hier die nächste Statistik (Quelle: https://de.statista.com/statistik/daten/studie/30821/umfrage/beschaeftigte-im-maschinenbau-in-deutschland-seit-1991/#professional). Die Tabelle zeigt die Anzahl der Beschäftigten pro 1000 Personen im Maschinenbau (Deutschland) für die Jahre 1991 bis 2020. \n",
    "\n",
    "```\n",
    "1991\t1386\n",
    "1992\t1219\n",
    "1993\t1065\n",
    "1994\t946\n",
    "1995\t934\n",
    "1996\t897\n",
    "1997\t891\n",
    "1998\t899\n",
    "1999\t889\n",
    "2000\t899\n",
    "2001\t901\n",
    "2002\t899\n",
    "2003\t874\n",
    "2004\t866\n",
    "2005\t864\n",
    "2006\t885\n",
    "2007\t935\n",
    "2008\t945\n",
    "2009\t939\n",
    "2010\t908\n",
    "2011\t948\n",
    "2012\t971\n",
    "2013\t986\n",
    "2014\t1004\n",
    "2015\t1009\n",
    "2016\t1008\n",
    "2017\t1032\n",
    "2018\t1065\n",
    "2019\t1063\n",
    "2020\t1019\n",
    "```\n",
    "\n",
    "1. Erzeugen Sie ein Pandas-Series-Objekt mit dem Jahr als Index und der Anzahl der Beschäftigten als Daten.\n",
    "2. Korrigieren Sie die Anzahl der Beschäftigten, indem sie diese mit 1000 multiplizieren. \n",
    "3. Ermitteln Sie die wichtigsten statsitischen Eigenschaften (Mittelwert, Standardabweichung, Minimum, Maximum).\n",
    "4. Plotten Sie die Daten. Gibt es einen Trend?\n",
    "5. Der Plot zeigt einen Knick, ein Jahr mit einem kurzen Einbruch der Beschäftigtenzahlen. Suchen Sie den Knick in der Grafik. Was könnte diesen kurzen Einbruch bei den Beschäftigtenzahlen erklären?\n",
    "6. Hätten Sie Maschinebau studiert, wenn Sie in dem Jahr ihrer Geburt oder Anfang der 1990er das erste Semester gehabt hätten?\n",
    "\n",
    "Weitere Details finden sich in der Broschüre \"Maschinenbau in Zahl und Bild 2021\" vom VDMA:\n",
    "https://www.vdma.org/documents/34570/6128644/Maschinenbau%20in%20Zahl%20und%20Bild%202021.pdf/43a31467-dc91-1bd9-41ee-97413c4e769d\n"
   ]
  },
  {
   "cell_type": "markdown",
   "id": "07490235",
   "metadata": {},
   "source": [
    "## DataFrames\n",
    "\n",
    "Ein DataFrame-Objekt entspricht einer Tabelle, wie man sie beispielsweise von Excel, LibreOffice oder Numbers kennt. Sowohl Zeile als auch Spalten sind normalerweise indiziert. Typischerweise werden die Daten in der Tabelle zeilenweise angeordnet. Damit ist gemeint, dass jede Zeile einen Datensatz darstellt und in den Spalten die Daten zu den Parametern sind.\n",
    "\n",
    "Ein DataFrame kann direkt über mehrere Pandas-Series-Objekte oder verschachtelte Listen/Dictionaries erzeugt werden. Im Folgenden betrachten wir die beiden Möglichkeiten\n",
    "\n",
    "* Erzeugung eines DataFrame-Objektes aus einem Numpy-Array\n",
    "* Erzeugung eines DataFrame-Objektes aus einem Dictionary von Series-Objekten\n",
    "\n",
    "In der Praxis am häufigsten ist jedoch der Fall, dass das Pandas-DataFrame-Objekt aus einer Datei importiert wird.\n",
    "\n",
    "Fangen  wir also mit der ersten Möglichkeit an. Wir nutzen ein zweidimensionales Numpy-Array und fügen einen Index für die Zeilen und einen Index für die Spalten hinzu. Damit es nicht zu Verwechslungen bei den Bezeichnungen kommt, wird der Index für die Spalten als **columns** bezeichnet."
   ]
  },
  {
   "cell_type": "code",
   "execution_count": 26,
   "id": "14179450",
   "metadata": {},
   "outputs": [
    {
     "data": {
      "text/html": [
       "<div>\n",
       "<style scoped>\n",
       "    .dataframe tbody tr th:only-of-type {\n",
       "        vertical-align: middle;\n",
       "    }\n",
       "\n",
       "    .dataframe tbody tr th {\n",
       "        vertical-align: top;\n",
       "    }\n",
       "\n",
       "    .dataframe thead th {\n",
       "        text-align: right;\n",
       "    }\n",
       "</style>\n",
       "<table border=\"1\" class=\"dataframe\">\n",
       "  <thead>\n",
       "    <tr style=\"text-align: right;\">\n",
       "      <th></th>\n",
       "      <th>x</th>\n",
       "      <th>y</th>\n",
       "      <th>z</th>\n",
       "    </tr>\n",
       "  </thead>\n",
       "  <tbody>\n",
       "    <tr>\n",
       "      <th>Montag</th>\n",
       "      <td>-1.049442</td>\n",
       "      <td>0.323278</td>\n",
       "      <td>-0.332226</td>\n",
       "    </tr>\n",
       "    <tr>\n",
       "      <th>Dienstag</th>\n",
       "      <td>0.665144</td>\n",
       "      <td>0.341490</td>\n",
       "      <td>1.882765</td>\n",
       "    </tr>\n",
       "    <tr>\n",
       "      <th>Mittwoch</th>\n",
       "      <td>0.492828</td>\n",
       "      <td>-0.183630</td>\n",
       "      <td>0.639928</td>\n",
       "    </tr>\n",
       "    <tr>\n",
       "      <th>Donnerstag</th>\n",
       "      <td>-1.043763</td>\n",
       "      <td>-0.489410</td>\n",
       "      <td>-0.915438</td>\n",
       "    </tr>\n",
       "    <tr>\n",
       "      <th>Freitag</th>\n",
       "      <td>-0.215202</td>\n",
       "      <td>1.184288</td>\n",
       "      <td>-0.476149</td>\n",
       "    </tr>\n",
       "  </tbody>\n",
       "</table>\n",
       "</div>"
      ],
      "text/plain": [
       "                   x         y         z\n",
       "Montag     -1.049442  0.323278 -0.332226\n",
       "Dienstag    0.665144  0.341490  1.882765\n",
       "Mittwoch    0.492828 -0.183630  0.639928\n",
       "Donnerstag -1.043763 -0.489410 -0.915438\n",
       "Freitag    -0.215202  1.184288 -0.476149"
      ]
     },
     "execution_count": 26,
     "metadata": {},
     "output_type": "execute_result"
    }
   ],
   "source": [
    "daten_array = np.random.randn(5,3)\n",
    "daten = pd.DataFrame(daten_array, index= ['Montag', 'Dienstag', 'Mittwoch', 'Donnerstag', 'Freitag'], columns=['x', 'y', 'z'])\n",
    "\n",
    "daten\n"
   ]
  },
  {
   "cell_type": "markdown",
   "id": "d41bce83",
   "metadata": {},
   "source": [
    "Nun betrachten wir die zweite Art, ein Pandas-DataFrame-Objekt zu erzeugen. Dazu brauchen wir aber erst einmal zwei Pandas-Series-Objekte."
   ]
  },
  {
   "cell_type": "code",
   "execution_count": 27,
   "id": "e29dadb1",
   "metadata": {},
   "outputs": [
    {
     "name": "stdout",
     "output_type": "stream",
     "text": [
      "Alice      25\n",
      "Bob        22\n",
      "Charlie    43\n",
      "Dora       30\n",
      "dtype: int64\n",
      "Alice            Mannheim\n",
      "Bob             Frankfurt\n",
      "Charlie      Ludwigshafen\n",
      "Dora       Kaiserslautern\n",
      "dtype: object\n"
     ]
    }
   ],
   "source": [
    "alter = pd.Series({\"Alice\" : 25, \"Bob\" : 22, \"Charlie\" : 43, \"Dora\" : 30})\n",
    "stadt = pd.Series({\"Alice\" : \"Mannheim\", \"Bob\" : \"Frankfurt\", \"Charlie\" : \"Ludwigshafen\", \"Dora\" : \"Kaiserslautern\"})\n",
    "\n",
    "print(alter)\n",
    "print(stadt)"
   ]
  },
  {
   "cell_type": "markdown",
   "id": "1fdc007c",
   "metadata": {},
   "source": [
    "Wir möchten jetzt eine Tabelle erzeugen, bei der die Namen Alice, Bob, Charlie und Dora die Indizes sind. In der ersten Spalte soll das Alter dieser Personen stehen, in der zweiten Spalte ihre Wohnorte. Wir generieren als erstes ein Dictionary und initialisieren das Pandas-DataFrame-Objekt dann mit diesem Dictionary."
   ]
  },
  {
   "cell_type": "code",
   "execution_count": 28,
   "id": "c667eb6b",
   "metadata": {},
   "outputs": [
    {
     "data": {
      "text/html": [
       "<div>\n",
       "<style scoped>\n",
       "    .dataframe tbody tr th:only-of-type {\n",
       "        vertical-align: middle;\n",
       "    }\n",
       "\n",
       "    .dataframe tbody tr th {\n",
       "        vertical-align: top;\n",
       "    }\n",
       "\n",
       "    .dataframe thead th {\n",
       "        text-align: right;\n",
       "    }\n",
       "</style>\n",
       "<table border=\"1\" class=\"dataframe\">\n",
       "  <thead>\n",
       "    <tr style=\"text-align: right;\">\n",
       "      <th></th>\n",
       "      <th>Alter</th>\n",
       "      <th>Wohnort</th>\n",
       "    </tr>\n",
       "  </thead>\n",
       "  <tbody>\n",
       "    <tr>\n",
       "      <th>Alice</th>\n",
       "      <td>25</td>\n",
       "      <td>Mannheim</td>\n",
       "    </tr>\n",
       "    <tr>\n",
       "      <th>Bob</th>\n",
       "      <td>22</td>\n",
       "      <td>Frankfurt</td>\n",
       "    </tr>\n",
       "    <tr>\n",
       "      <th>Charlie</th>\n",
       "      <td>43</td>\n",
       "      <td>Ludwigshafen</td>\n",
       "    </tr>\n",
       "    <tr>\n",
       "      <th>Dora</th>\n",
       "      <td>30</td>\n",
       "      <td>Kaiserslautern</td>\n",
       "    </tr>\n",
       "  </tbody>\n",
       "</table>\n",
       "</div>"
      ],
      "text/plain": [
       "         Alter         Wohnort\n",
       "Alice       25        Mannheim\n",
       "Bob         22       Frankfurt\n",
       "Charlie     43    Ludwigshafen\n",
       "Dora        30  Kaiserslautern"
      ]
     },
     "execution_count": 28,
     "metadata": {},
     "output_type": "execute_result"
    }
   ],
   "source": [
    "personen_dictionary = {'Alter': alter, 'Wohnort': stadt}\n",
    "personen = pd.DataFrame(personen_dictionary)\n",
    "\n",
    "personen"
   ]
  },
  {
   "cell_type": "markdown",
   "id": "68eb6d3b",
   "metadata": {},
   "source": [
    "Was passiert eigentlich, wenn die Indizes vom ersten Series-Objekt nicht mit den Indizes des zweiten Series-Objektes zusammenpassen? "
   ]
  },
  {
   "cell_type": "code",
   "execution_count": 29,
   "id": "68a72949",
   "metadata": {},
   "outputs": [
    {
     "name": "stdout",
     "output_type": "stream",
     "text": [
      "Alice    25\n",
      "Bob      22\n",
      "Dora     30\n",
      "Emil     43\n",
      "dtype: int64\n",
      "Alice            Mannheim\n",
      "Bob             Frankfurt\n",
      "Charlie      Ludwigshafen\n",
      "Dora       Kaiserslautern\n",
      "dtype: object\n"
     ]
    }
   ],
   "source": [
    "alter = pd.Series({\"Alice\" : 25, \"Bob\" : 22, \"Dora\" : 30, \"Emil\": 43})\n",
    "stadt = pd.Series({\"Alice\" : \"Mannheim\", \"Bob\" : \"Frankfurt\", \"Charlie\" : \"Ludwigshafen\", \"Dora\" : \"Kaiserslautern\"})\n",
    "\n",
    "print(alter)\n",
    "print(stadt)"
   ]
  },
  {
   "cell_type": "code",
   "execution_count": 30,
   "id": "47d9db38",
   "metadata": {},
   "outputs": [
    {
     "data": {
      "text/html": [
       "<div>\n",
       "<style scoped>\n",
       "    .dataframe tbody tr th:only-of-type {\n",
       "        vertical-align: middle;\n",
       "    }\n",
       "\n",
       "    .dataframe tbody tr th {\n",
       "        vertical-align: top;\n",
       "    }\n",
       "\n",
       "    .dataframe thead th {\n",
       "        text-align: right;\n",
       "    }\n",
       "</style>\n",
       "<table border=\"1\" class=\"dataframe\">\n",
       "  <thead>\n",
       "    <tr style=\"text-align: right;\">\n",
       "      <th></th>\n",
       "      <th>Alter</th>\n",
       "      <th>Wohnort</th>\n",
       "    </tr>\n",
       "  </thead>\n",
       "  <tbody>\n",
       "    <tr>\n",
       "      <th>Alice</th>\n",
       "      <td>25.0</td>\n",
       "      <td>Mannheim</td>\n",
       "    </tr>\n",
       "    <tr>\n",
       "      <th>Bob</th>\n",
       "      <td>22.0</td>\n",
       "      <td>Frankfurt</td>\n",
       "    </tr>\n",
       "    <tr>\n",
       "      <th>Charlie</th>\n",
       "      <td>NaN</td>\n",
       "      <td>Ludwigshafen</td>\n",
       "    </tr>\n",
       "    <tr>\n",
       "      <th>Dora</th>\n",
       "      <td>30.0</td>\n",
       "      <td>Kaiserslautern</td>\n",
       "    </tr>\n",
       "    <tr>\n",
       "      <th>Emil</th>\n",
       "      <td>43.0</td>\n",
       "      <td>NaN</td>\n",
       "    </tr>\n",
       "  </tbody>\n",
       "</table>\n",
       "</div>"
      ],
      "text/plain": [
       "         Alter         Wohnort\n",
       "Alice     25.0        Mannheim\n",
       "Bob       22.0       Frankfurt\n",
       "Charlie    NaN    Ludwigshafen\n",
       "Dora      30.0  Kaiserslautern\n",
       "Emil      43.0             NaN"
      ]
     },
     "execution_count": 30,
     "metadata": {},
     "output_type": "execute_result"
    }
   ],
   "source": [
    "personen = pd.DataFrame({'Alter': alter, 'Wohnort': stadt})\n",
    "personen"
   ]
  },
  {
   "cell_type": "markdown",
   "id": "8727eab1",
   "metadata": {},
   "source": [
    "``NaN`` ist in der Informatik die Abkürzung für **Not a Number** und wird immer dann verwendet, wenn ein Wert nicht definiert ist. NaNs werden uns noch sehr häufig beschäftigen, da es regelmäßig vorkommt, dass Daten fehlen und das Fehlen der Daten durch ``NaN`` angezeigt wird.\n",
    "\n",
    "Wie können wir nun die fehlenden Werte berichtigen? Wie bei den Pandas-Serien-Objekten können wir über das Attribut ``.loc[]`` auf Zellen des Pandas-DataFrame-Objektes zugreifen."
   ]
  },
  {
   "cell_type": "code",
   "execution_count": 31,
   "id": "8c8313c6",
   "metadata": {},
   "outputs": [
    {
     "data": {
      "text/html": [
       "<div>\n",
       "<style scoped>\n",
       "    .dataframe tbody tr th:only-of-type {\n",
       "        vertical-align: middle;\n",
       "    }\n",
       "\n",
       "    .dataframe tbody tr th {\n",
       "        vertical-align: top;\n",
       "    }\n",
       "\n",
       "    .dataframe thead th {\n",
       "        text-align: right;\n",
       "    }\n",
       "</style>\n",
       "<table border=\"1\" class=\"dataframe\">\n",
       "  <thead>\n",
       "    <tr style=\"text-align: right;\">\n",
       "      <th></th>\n",
       "      <th>Alter</th>\n",
       "      <th>Wohnort</th>\n",
       "    </tr>\n",
       "  </thead>\n",
       "  <tbody>\n",
       "    <tr>\n",
       "      <th>Alice</th>\n",
       "      <td>25.0</td>\n",
       "      <td>Mannheim</td>\n",
       "    </tr>\n",
       "    <tr>\n",
       "      <th>Bob</th>\n",
       "      <td>22.0</td>\n",
       "      <td>Frankfurt</td>\n",
       "    </tr>\n",
       "    <tr>\n",
       "      <th>Charlie</th>\n",
       "      <td>43.0</td>\n",
       "      <td>Ludwigshafen</td>\n",
       "    </tr>\n",
       "    <tr>\n",
       "      <th>Dora</th>\n",
       "      <td>30.0</td>\n",
       "      <td>Kaiserslautern</td>\n",
       "    </tr>\n",
       "    <tr>\n",
       "      <th>Emil</th>\n",
       "      <td>43.0</td>\n",
       "      <td>NaN</td>\n",
       "    </tr>\n",
       "  </tbody>\n",
       "</table>\n",
       "</div>"
      ],
      "text/plain": [
       "         Alter         Wohnort\n",
       "Alice     25.0        Mannheim\n",
       "Bob       22.0       Frankfurt\n",
       "Charlie   43.0    Ludwigshafen\n",
       "Dora      30.0  Kaiserslautern\n",
       "Emil      43.0             NaN"
      ]
     },
     "execution_count": 31,
     "metadata": {},
     "output_type": "execute_result"
    }
   ],
   "source": [
    "personen.loc['Charlie', 'Alter'] = 43\n",
    "personen"
   ]
  },
  {
   "cell_type": "code",
   "execution_count": 32,
   "id": "52187537",
   "metadata": {},
   "outputs": [
    {
     "data": {
      "text/html": [
       "<div>\n",
       "<style scoped>\n",
       "    .dataframe tbody tr th:only-of-type {\n",
       "        vertical-align: middle;\n",
       "    }\n",
       "\n",
       "    .dataframe tbody tr th {\n",
       "        vertical-align: top;\n",
       "    }\n",
       "\n",
       "    .dataframe thead th {\n",
       "        text-align: right;\n",
       "    }\n",
       "</style>\n",
       "<table border=\"1\" class=\"dataframe\">\n",
       "  <thead>\n",
       "    <tr style=\"text-align: right;\">\n",
       "      <th></th>\n",
       "      <th>Alter</th>\n",
       "      <th>Wohnort</th>\n",
       "    </tr>\n",
       "  </thead>\n",
       "  <tbody>\n",
       "    <tr>\n",
       "      <th>Alice</th>\n",
       "      <td>25.0</td>\n",
       "      <td>Mannheim</td>\n",
       "    </tr>\n",
       "    <tr>\n",
       "      <th>Bob</th>\n",
       "      <td>22.0</td>\n",
       "      <td>Frankfurt</td>\n",
       "    </tr>\n",
       "    <tr>\n",
       "      <th>Charlie</th>\n",
       "      <td>43.0</td>\n",
       "      <td>Ludwigshafen</td>\n",
       "    </tr>\n",
       "    <tr>\n",
       "      <th>Dora</th>\n",
       "      <td>30.0</td>\n",
       "      <td>Kaiserslautern</td>\n",
       "    </tr>\n",
       "    <tr>\n",
       "      <th>Emil</th>\n",
       "      <td>43.0</td>\n",
       "      <td>Darmstadt</td>\n",
       "    </tr>\n",
       "  </tbody>\n",
       "</table>\n",
       "</div>"
      ],
      "text/plain": [
       "         Alter         Wohnort\n",
       "Alice     25.0        Mannheim\n",
       "Bob       22.0       Frankfurt\n",
       "Charlie   43.0    Ludwigshafen\n",
       "Dora      30.0  Kaiserslautern\n",
       "Emil      43.0       Darmstadt"
      ]
     },
     "execution_count": 32,
     "metadata": {},
     "output_type": "execute_result"
    }
   ],
   "source": [
    "personen.loc['Emil', 'Wohnort'] = 'Darmstadt'\n",
    "personen"
   ]
  },
  {
   "cell_type": "markdown",
   "id": "68d200f6",
   "metadata": {},
   "source": [
    "Auch der lesende Zugriff erfolgt analog zu den Zugriffsmöglichkeiten bei Pandas-Series-Objekten."
   ]
  },
  {
   "cell_type": "code",
   "execution_count": 33,
   "id": "a5d802e0",
   "metadata": {},
   "outputs": [
    {
     "name": "stdout",
     "output_type": "stream",
     "text": [
      "Ludwigshafen\n"
     ]
    }
   ],
   "source": [
    "tmp = personen.loc['Charlie', 'Wohnort']\n",
    "print(tmp)"
   ]
  },
  {
   "cell_type": "markdown",
   "id": "e9722297",
   "metadata": {},
   "source": [
    "Auf einen zusammenhängenden Bereich wird durch Slicing zugegriffen. Dabei kann das Slicing für die Zeilen (index), die Spalten (columns) oder beides benutzt werden."
   ]
  },
  {
   "cell_type": "code",
   "execution_count": 34,
   "id": "c3bd8798",
   "metadata": {},
   "outputs": [
    {
     "name": "stdout",
     "output_type": "stream",
     "text": [
      "Bob        22.0\n",
      "Charlie    43.0\n",
      "Dora       30.0\n",
      "Name: Alter, dtype: float64\n"
     ]
    }
   ],
   "source": [
    "tmp = personen.loc['Bob' : 'Dora', 'Alter']\n",
    "print(tmp)"
   ]
  },
  {
   "cell_type": "code",
   "execution_count": 35,
   "id": "0ebaaf59",
   "metadata": {},
   "outputs": [
    {
     "name": "stdout",
     "output_type": "stream",
     "text": [
      "Alter           22.0\n",
      "Wohnort    Frankfurt\n",
      "Name: Bob, dtype: object\n"
     ]
    }
   ],
   "source": [
    "tmp = personen.loc['Bob', 'Alter':'Wohnort']\n",
    "print(tmp)"
   ]
  },
  {
   "cell_type": "markdown",
   "id": "f0255556",
   "metadata": {},
   "source": [
    "Beim Slicing können wir den Startwert oder den Stoppwerrt oder beides weglassen. Wenn wir den  Startwert weglassen, fängt der Slice von vorne an. Lassen wir den Stoppert weg, geht der Slice bis zum Ende. Das nutzen wir, um auf eine ganze Spalte zuzugreifen:\n"
   ]
  },
  {
   "cell_type": "code",
   "execution_count": 36,
   "id": "d2f0ad57",
   "metadata": {},
   "outputs": [
    {
     "name": "stdout",
     "output_type": "stream",
     "text": [
      "Alter           22.0\n",
      "Wohnort    Frankfurt\n",
      "Name: Bob, dtype: object\n"
     ]
    }
   ],
   "source": [
    "tmp = personen.loc[ 'Bob' , :]\n",
    "print(tmp)"
   ]
  },
  {
   "cell_type": "markdown",
   "id": "da0de5ec",
   "metadata": {},
   "source": [
    "Sollen dahingegen mehrere Zellen gleichzeitig ausgewählt werden, die nicht zusammenhängen, benutzt man Listen. Wiederum können die Listen für den index oder die columns oder beides gemischt spezifiziert werden."
   ]
  },
  {
   "cell_type": "code",
   "execution_count": 37,
   "id": "81417844",
   "metadata": {},
   "outputs": [
    {
     "name": "stdout",
     "output_type": "stream",
     "text": [
      "Bob     22.0\n",
      "Dora    30.0\n",
      "Emil    43.0\n",
      "Name: Alter, dtype: float64\n"
     ]
    }
   ],
   "source": [
    "tmp = personen.loc[ ['Bob', 'Dora','Emil'] , 'Alter']\n",
    "print(tmp)"
   ]
  },
  {
   "cell_type": "markdown",
   "id": "66ddc06e",
   "metadata": {},
   "source": [
    "Als nächstes fügen wir unserer Personen-Tabelle eine neue Spalte hinzu. In der neuen Spalte soll die Note der letzten Klausur stehen. Dazu erzeugen wir zunächst wieder einmal ein Pandas-Series-Objekt. Danach weisen wir das Series-Objekt dem DataFrame-Objekt spalten weise zu, indem wir den neuen Namen dem ``.loc``-Attribut mitgeben.\n"
   ]
  },
  {
   "cell_type": "code",
   "execution_count": 38,
   "id": "1317a14f",
   "metadata": {},
   "outputs": [
    {
     "data": {
      "text/plain": [
       "Alice      1.3\n",
       "Bob        3.7\n",
       "Charlie    2.0\n",
       "Dora       1.7\n",
       "Emil       5.0\n",
       "dtype: float64"
      ]
     },
     "execution_count": 38,
     "metadata": {},
     "output_type": "execute_result"
    }
   ],
   "source": [
    "note = pd.Series({'Alice': 1.3, 'Bob': 3.7, 'Charlie': 2.0, 'Dora': 1.7, 'Emil': 5.0})\n",
    "note\n"
   ]
  },
  {
   "cell_type": "code",
   "execution_count": 39,
   "id": "97f84139",
   "metadata": {},
   "outputs": [
    {
     "data": {
      "text/html": [
       "<div>\n",
       "<style scoped>\n",
       "    .dataframe tbody tr th:only-of-type {\n",
       "        vertical-align: middle;\n",
       "    }\n",
       "\n",
       "    .dataframe tbody tr th {\n",
       "        vertical-align: top;\n",
       "    }\n",
       "\n",
       "    .dataframe thead th {\n",
       "        text-align: right;\n",
       "    }\n",
       "</style>\n",
       "<table border=\"1\" class=\"dataframe\">\n",
       "  <thead>\n",
       "    <tr style=\"text-align: right;\">\n",
       "      <th></th>\n",
       "      <th>Alter</th>\n",
       "      <th>Wohnort</th>\n",
       "      <th>Note</th>\n",
       "    </tr>\n",
       "  </thead>\n",
       "  <tbody>\n",
       "    <tr>\n",
       "      <th>Alice</th>\n",
       "      <td>25.0</td>\n",
       "      <td>Mannheim</td>\n",
       "      <td>1.3</td>\n",
       "    </tr>\n",
       "    <tr>\n",
       "      <th>Bob</th>\n",
       "      <td>22.0</td>\n",
       "      <td>Frankfurt</td>\n",
       "      <td>3.7</td>\n",
       "    </tr>\n",
       "    <tr>\n",
       "      <th>Charlie</th>\n",
       "      <td>43.0</td>\n",
       "      <td>Ludwigshafen</td>\n",
       "      <td>2.0</td>\n",
       "    </tr>\n",
       "    <tr>\n",
       "      <th>Dora</th>\n",
       "      <td>30.0</td>\n",
       "      <td>Kaiserslautern</td>\n",
       "      <td>1.7</td>\n",
       "    </tr>\n",
       "    <tr>\n",
       "      <th>Emil</th>\n",
       "      <td>43.0</td>\n",
       "      <td>Darmstadt</td>\n",
       "      <td>5.0</td>\n",
       "    </tr>\n",
       "  </tbody>\n",
       "</table>\n",
       "</div>"
      ],
      "text/plain": [
       "         Alter         Wohnort  Note\n",
       "Alice     25.0        Mannheim   1.3\n",
       "Bob       22.0       Frankfurt   3.7\n",
       "Charlie   43.0    Ludwigshafen   2.0\n",
       "Dora      30.0  Kaiserslautern   1.7\n",
       "Emil      43.0       Darmstadt   5.0"
      ]
     },
     "execution_count": 39,
     "metadata": {},
     "output_type": "execute_result"
    }
   ],
   "source": [
    "personen.loc[:, 'Note'] = note\n",
    "personen"
   ]
  },
  {
   "cell_type": "markdown",
   "id": "bdc9d2b9",
   "metadata": {},
   "source": [
    "### Statistische Kennzahlen eines Pandas-DataFrame-Objektes\n",
    "\n",
    "Analog zu den statistischen Kennzahlen bei Series-Objekten gibt auch hier einige Methoden zur Beschreibung des Datensatzes. Wir beschäftigen uns im Folgenden mit\n",
    "\n",
    "* ``.info()``\n",
    "* ``.describe()``\n",
    "* ``.sum()``\n",
    "* ``.mean()``\n",
    "* ``.std()``\n",
    "* ``.min()``\n",
    "* ``.max()``\n",
    "* ``.plot(kind='line')``\n",
    "* ``.plot(kind='bar)``"
   ]
  },
  {
   "cell_type": "code",
   "execution_count": 40,
   "id": "a42e24ce",
   "metadata": {},
   "outputs": [
    {
     "data": {
      "text/html": [
       "<div>\n",
       "<style scoped>\n",
       "    .dataframe tbody tr th:only-of-type {\n",
       "        vertical-align: middle;\n",
       "    }\n",
       "\n",
       "    .dataframe tbody tr th {\n",
       "        vertical-align: top;\n",
       "    }\n",
       "\n",
       "    .dataframe thead th {\n",
       "        text-align: right;\n",
       "    }\n",
       "</style>\n",
       "<table border=\"1\" class=\"dataframe\">\n",
       "  <thead>\n",
       "    <tr style=\"text-align: right;\">\n",
       "      <th></th>\n",
       "      <th>Alter</th>\n",
       "      <th>Wohnort</th>\n",
       "      <th>Note</th>\n",
       "    </tr>\n",
       "  </thead>\n",
       "  <tbody>\n",
       "    <tr>\n",
       "      <th>Alice</th>\n",
       "      <td>25</td>\n",
       "      <td>Mannheim</td>\n",
       "      <td>1.3</td>\n",
       "    </tr>\n",
       "    <tr>\n",
       "      <th>Bob</th>\n",
       "      <td>22</td>\n",
       "      <td>Frankfurt</td>\n",
       "      <td>3.7</td>\n",
       "    </tr>\n",
       "    <tr>\n",
       "      <th>Charlie</th>\n",
       "      <td>19</td>\n",
       "      <td>Ludwigshafen</td>\n",
       "      <td>2.0</td>\n",
       "    </tr>\n",
       "    <tr>\n",
       "      <th>Dora</th>\n",
       "      <td>30</td>\n",
       "      <td>Kaiserslautern</td>\n",
       "      <td>1.7</td>\n",
       "    </tr>\n",
       "    <tr>\n",
       "      <th>Emil</th>\n",
       "      <td>43</td>\n",
       "      <td>Darmstadt</td>\n",
       "      <td>5.0</td>\n",
       "    </tr>\n",
       "  </tbody>\n",
       "</table>\n",
       "</div>"
      ],
      "text/plain": [
       "         Alter         Wohnort  Note\n",
       "Alice       25        Mannheim   1.3\n",
       "Bob         22       Frankfurt   3.7\n",
       "Charlie     19    Ludwigshafen   2.0\n",
       "Dora        30  Kaiserslautern   1.7\n",
       "Emil        43       Darmstadt   5.0"
      ]
     },
     "execution_count": 40,
     "metadata": {},
     "output_type": "execute_result"
    }
   ],
   "source": [
    "alter = pd.Series({\"Alice\" : 25, \"Bob\" : 22, \"Charlie\": 19, \"Dora\" : 30, \"Emil\": 43})\n",
    "stadt = pd.Series({\"Alice\" : \"Mannheim\", \"Bob\" : \"Frankfurt\", \"Charlie\" : \"Ludwigshafen\", \"Dora\" : \"Kaiserslautern\", \"Emil\": \"Darmstadt\"})\n",
    "note  = pd.Series({'Alice': 1.3, 'Bob': 3.7, 'Charlie': 2.0, 'Dora': 1.7, 'Emil': 5.0})\n",
    "\n",
    "personen = pd.DataFrame({'Alter': alter, 'Wohnort': stadt, 'Note': note})\n",
    "personen"
   ]
  },
  {
   "cell_type": "code",
   "execution_count": 41,
   "id": "092bd88f",
   "metadata": {},
   "outputs": [
    {
     "name": "stdout",
     "output_type": "stream",
     "text": [
      "<class 'pandas.core.frame.DataFrame'>\n",
      "Index: 5 entries, Alice to Emil\n",
      "Data columns (total 3 columns):\n",
      " #   Column   Non-Null Count  Dtype  \n",
      "---  ------   --------------  -----  \n",
      " 0   Alter    5 non-null      int64  \n",
      " 1   Wohnort  5 non-null      object \n",
      " 2   Note     5 non-null      float64\n",
      "dtypes: float64(1), int64(1), object(1)\n",
      "memory usage: 332.0+ bytes\n"
     ]
    }
   ],
   "source": [
    "personen.info()"
   ]
  },
  {
   "cell_type": "code",
   "execution_count": 42,
   "id": "bff34812",
   "metadata": {},
   "outputs": [
    {
     "data": {
      "text/html": [
       "<div>\n",
       "<style scoped>\n",
       "    .dataframe tbody tr th:only-of-type {\n",
       "        vertical-align: middle;\n",
       "    }\n",
       "\n",
       "    .dataframe tbody tr th {\n",
       "        vertical-align: top;\n",
       "    }\n",
       "\n",
       "    .dataframe thead th {\n",
       "        text-align: right;\n",
       "    }\n",
       "</style>\n",
       "<table border=\"1\" class=\"dataframe\">\n",
       "  <thead>\n",
       "    <tr style=\"text-align: right;\">\n",
       "      <th></th>\n",
       "      <th>Alter</th>\n",
       "      <th>Note</th>\n",
       "    </tr>\n",
       "  </thead>\n",
       "  <tbody>\n",
       "    <tr>\n",
       "      <th>count</th>\n",
       "      <td>5.000000</td>\n",
       "      <td>5.000000</td>\n",
       "    </tr>\n",
       "    <tr>\n",
       "      <th>mean</th>\n",
       "      <td>27.800000</td>\n",
       "      <td>2.740000</td>\n",
       "    </tr>\n",
       "    <tr>\n",
       "      <th>std</th>\n",
       "      <td>9.418068</td>\n",
       "      <td>1.559808</td>\n",
       "    </tr>\n",
       "    <tr>\n",
       "      <th>min</th>\n",
       "      <td>19.000000</td>\n",
       "      <td>1.300000</td>\n",
       "    </tr>\n",
       "    <tr>\n",
       "      <th>25%</th>\n",
       "      <td>22.000000</td>\n",
       "      <td>1.700000</td>\n",
       "    </tr>\n",
       "    <tr>\n",
       "      <th>50%</th>\n",
       "      <td>25.000000</td>\n",
       "      <td>2.000000</td>\n",
       "    </tr>\n",
       "    <tr>\n",
       "      <th>75%</th>\n",
       "      <td>30.000000</td>\n",
       "      <td>3.700000</td>\n",
       "    </tr>\n",
       "    <tr>\n",
       "      <th>max</th>\n",
       "      <td>43.000000</td>\n",
       "      <td>5.000000</td>\n",
       "    </tr>\n",
       "  </tbody>\n",
       "</table>\n",
       "</div>"
      ],
      "text/plain": [
       "           Alter      Note\n",
       "count   5.000000  5.000000\n",
       "mean   27.800000  2.740000\n",
       "std     9.418068  1.559808\n",
       "min    19.000000  1.300000\n",
       "25%    22.000000  1.700000\n",
       "50%    25.000000  2.000000\n",
       "75%    30.000000  3.700000\n",
       "max    43.000000  5.000000"
      ]
     },
     "execution_count": 42,
     "metadata": {},
     "output_type": "execute_result"
    }
   ],
   "source": [
    "personen.describe()"
   ]
  },
  {
   "cell_type": "code",
   "execution_count": 43,
   "id": "17f57e3b",
   "metadata": {},
   "outputs": [
    {
     "data": {
      "text/plain": [
       "Alter                                                    139\n",
       "Wohnort    MannheimFrankfurtLudwigshafenKaiserslauternDar...\n",
       "Note                                                    13.7\n",
       "dtype: object"
      ]
     },
     "execution_count": 43,
     "metadata": {},
     "output_type": "execute_result"
    }
   ],
   "source": [
    "personen.sum()"
   ]
  },
  {
   "cell_type": "code",
   "execution_count": 44,
   "id": "8b9de285",
   "metadata": {},
   "outputs": [
    {
     "data": {
      "text/plain": [
       "Alter    27.80\n",
       "Note      2.74\n",
       "dtype: float64"
      ]
     },
     "execution_count": 44,
     "metadata": {},
     "output_type": "execute_result"
    }
   ],
   "source": [
    "personen.mean()"
   ]
  },
  {
   "cell_type": "code",
   "execution_count": 45,
   "id": "bf22c2a3",
   "metadata": {},
   "outputs": [
    {
     "data": {
      "text/plain": [
       "Alter    9.418068\n",
       "Note     1.559808\n",
       "dtype: float64"
      ]
     },
     "execution_count": 45,
     "metadata": {},
     "output_type": "execute_result"
    }
   ],
   "source": [
    "personen.std()"
   ]
  },
  {
   "cell_type": "code",
   "execution_count": 46,
   "id": "f2ded68b",
   "metadata": {},
   "outputs": [
    {
     "data": {
      "text/plain": [
       "Alter             19\n",
       "Wohnort    Darmstadt\n",
       "Note             1.3\n",
       "dtype: object"
      ]
     },
     "execution_count": 46,
     "metadata": {},
     "output_type": "execute_result"
    }
   ],
   "source": [
    "personen.min()"
   ]
  },
  {
   "cell_type": "code",
   "execution_count": 48,
   "id": "542877b4",
   "metadata": {},
   "outputs": [
    {
     "data": {
      "text/plain": [
       "Alter            43\n",
       "Wohnort    Mannheim\n",
       "Note            5.0\n",
       "dtype: object"
      ]
     },
     "execution_count": 48,
     "metadata": {},
     "output_type": "execute_result"
    }
   ],
   "source": [
    "personen.max()"
   ]
  },
  {
   "cell_type": "code",
   "execution_count": 54,
   "id": "baec8be0",
   "metadata": {},
   "outputs": [
    {
     "data": {
      "text/plain": [
       "<AxesSubplot:>"
      ]
     },
     "execution_count": 54,
     "metadata": {},
     "output_type": "execute_result"
    },
    {
     "data": {
      "image/png": "[encoded data removed]",
      "text/plain": [
       "<Figure size 432x288 with 1 Axes>"
      ]
     },
     "metadata": {
      "needs_background": "light"
     },
     "output_type": "display_data"
    }
   ],
   "source": [
    "personen.plot(kind='bar')"
   ]
  },
  {
   "cell_type": "code",
   "execution_count": 55,
   "id": "c6f7afbf",
   "metadata": {},
   "outputs": [
    {
     "data": {
      "text/plain": [
       "<AxesSubplot:>"
      ]
     },
     "execution_count": 55,
     "metadata": {},
     "output_type": "execute_result"
    },
    {
     "data": {
      "image/png": "[encoded data removed]",
      "text/plain": [
       "<Figure size 432x288 with 1 Axes>"
      ]
     },
     "metadata": {
      "needs_background": "light"
     },
     "output_type": "display_data"
    }
   ],
   "source": [
    "personen.plot(kind='line')"
   ]
  },
  {
   "cell_type": "markdown",
   "id": "63219d0d",
   "metadata": {},
   "source": [
    "# Aufgaben\n"
   ]
  },
  {
   "cell_type": "code",
   "execution_count": 64,
   "id": "4a2cca20",
   "metadata": {},
   "outputs": [
    {
     "name": "stdout",
     "output_type": "stream",
     "text": [
      "<class 'pandas.core.frame.DataFrame'>\n",
      "Index: 56 entries, Schweiz to Libanon\n",
      "Data columns (total 1 columns):\n",
      " #   Column                        Non-Null Count  Dtype  \n",
      "---  ------                        --------------  -----  \n",
      " 0   Big-Mac-Index (in US-Dollar)  56 non-null     float64\n",
      "dtypes: float64(1)\n",
      "memory usage: 896.0+ bytes\n"
     ]
    },
    {
     "data": {
      "text/html": [
       "<div>\n",
       "<style scoped>\n",
       "    .dataframe tbody tr th:only-of-type {\n",
       "        vertical-align: middle;\n",
       "    }\n",
       "\n",
       "    .dataframe tbody tr th {\n",
       "        vertical-align: top;\n",
       "    }\n",
       "\n",
       "    .dataframe thead th {\n",
       "        text-align: right;\n",
       "    }\n",
       "</style>\n",
       "<table border=\"1\" class=\"dataframe\">\n",
       "  <thead>\n",
       "    <tr style=\"text-align: right;\">\n",
       "      <th></th>\n",
       "      <th>Big-Mac-Index (in US-Dollar)</th>\n",
       "    </tr>\n",
       "    <tr>\n",
       "      <th>Land</th>\n",
       "      <th></th>\n",
       "    </tr>\n",
       "  </thead>\n",
       "  <tbody>\n",
       "    <tr>\n",
       "      <th>Schweiz</th>\n",
       "      <td>7.29</td>\n",
       "    </tr>\n",
       "    <tr>\n",
       "      <th>Schweden</th>\n",
       "      <td>6.37</td>\n",
       "    </tr>\n",
       "    <tr>\n",
       "      <th>Norwegen</th>\n",
       "      <td>6.09</td>\n",
       "    </tr>\n",
       "    <tr>\n",
       "      <th>USA</th>\n",
       "      <td>5.66</td>\n",
       "    </tr>\n",
       "    <tr>\n",
       "      <th>Israel</th>\n",
       "      <td>5.35</td>\n",
       "    </tr>\n",
       "    <tr>\n",
       "      <th>Kanada</th>\n",
       "      <td>5.29</td>\n",
       "    </tr>\n",
       "    <tr>\n",
       "      <th>Eurozone</th>\n",
       "      <td>5.16</td>\n",
       "    </tr>\n",
       "    <tr>\n",
       "      <th>Australien</th>\n",
       "      <td>4.98</td>\n",
       "    </tr>\n",
       "    <tr>\n",
       "      <th>Dänemark</th>\n",
       "      <td>4.90</td>\n",
       "    </tr>\n",
       "    <tr>\n",
       "      <th>Neuseeland</th>\n",
       "      <td>4.87</td>\n",
       "    </tr>\n",
       "    <tr>\n",
       "      <th>Uruguay</th>\n",
       "      <td>4.80</td>\n",
       "    </tr>\n",
       "    <tr>\n",
       "      <th>Großbritannien</th>\n",
       "      <td>4.44</td>\n",
       "    </tr>\n",
       "    <tr>\n",
       "      <th>Singapur</th>\n",
       "      <td>4.43</td>\n",
       "    </tr>\n",
       "    <tr>\n",
       "      <th>Thailand</th>\n",
       "      <td>4.25</td>\n",
       "    </tr>\n",
       "    <tr>\n",
       "      <th>Tschechien</th>\n",
       "      <td>4.12</td>\n",
       "    </tr>\n",
       "    <tr>\n",
       "      <th>Südkorea</th>\n",
       "      <td>4.10</td>\n",
       "    </tr>\n",
       "    <tr>\n",
       "      <th>Chile</th>\n",
       "      <td>4.09</td>\n",
       "    </tr>\n",
       "    <tr>\n",
       "      <th>Vereinigte Arabische Emirate</th>\n",
       "      <td>4.02</td>\n",
       "    </tr>\n",
       "    <tr>\n",
       "      <th>Bahrain</th>\n",
       "      <td>3.98</td>\n",
       "    </tr>\n",
       "    <tr>\n",
       "      <th>Brasilien</th>\n",
       "      <td>3.98</td>\n",
       "    </tr>\n",
       "    <tr>\n",
       "      <th>Costa Rica</th>\n",
       "      <td>3.83</td>\n",
       "    </tr>\n",
       "    <tr>\n",
       "      <th>Kuwait</th>\n",
       "      <td>3.79</td>\n",
       "    </tr>\n",
       "    <tr>\n",
       "      <th>Argentinien</th>\n",
       "      <td>3.75</td>\n",
       "    </tr>\n",
       "    <tr>\n",
       "      <th>Kolumbien</th>\n",
       "      <td>3.74</td>\n",
       "    </tr>\n",
       "    <tr>\n",
       "      <th>Japan</th>\n",
       "      <td>3.74</td>\n",
       "    </tr>\n",
       "    <tr>\n",
       "      <th>Saudi Arabien</th>\n",
       "      <td>3.73</td>\n",
       "    </tr>\n",
       "    <tr>\n",
       "      <th>Sri Lanka</th>\n",
       "      <td>3.70</td>\n",
       "    </tr>\n",
       "    <tr>\n",
       "      <th>Kroatien</th>\n",
       "      <td>3.69</td>\n",
       "    </tr>\n",
       "    <tr>\n",
       "      <th>Honduras</th>\n",
       "      <td>3.61</td>\n",
       "    </tr>\n",
       "    <tr>\n",
       "      <th>Katar</th>\n",
       "      <td>3.57</td>\n",
       "    </tr>\n",
       "    <tr>\n",
       "      <th>Nicaragua</th>\n",
       "      <td>3.56</td>\n",
       "    </tr>\n",
       "    <tr>\n",
       "      <th>Polen</th>\n",
       "      <td>3.51</td>\n",
       "    </tr>\n",
       "    <tr>\n",
       "      <th>China</th>\n",
       "      <td>3.46</td>\n",
       "    </tr>\n",
       "    <tr>\n",
       "      <th>Pakistan</th>\n",
       "      <td>3.43</td>\n",
       "    </tr>\n",
       "    <tr>\n",
       "      <th>Peru</th>\n",
       "      <td>3.29</td>\n",
       "    </tr>\n",
       "    <tr>\n",
       "      <th>Jordanien</th>\n",
       "      <td>3.24</td>\n",
       "    </tr>\n",
       "    <tr>\n",
       "      <th>Guatemala</th>\n",
       "      <td>3.20</td>\n",
       "    </tr>\n",
       "    <tr>\n",
       "      <th>Ungarn</th>\n",
       "      <td>3.03</td>\n",
       "    </tr>\n",
       "    <tr>\n",
       "      <th>Philippinen</th>\n",
       "      <td>2.95</td>\n",
       "    </tr>\n",
       "    <tr>\n",
       "      <th>Moldawien</th>\n",
       "      <td>2.90</td>\n",
       "    </tr>\n",
       "    <tr>\n",
       "      <th>Vietnam</th>\n",
       "      <td>2.86</td>\n",
       "    </tr>\n",
       "    <tr>\n",
       "      <th>Oman</th>\n",
       "      <td>2.86</td>\n",
       "    </tr>\n",
       "    <tr>\n",
       "      <th>Ägypten</th>\n",
       "      <td>2.72</td>\n",
       "    </tr>\n",
       "    <tr>\n",
       "      <th>Mexiko</th>\n",
       "      <td>2.68</td>\n",
       "    </tr>\n",
       "    <tr>\n",
       "      <th>Hongkong</th>\n",
       "      <td>2.64</td>\n",
       "    </tr>\n",
       "    <tr>\n",
       "      <th>Indien</th>\n",
       "      <td>2.59</td>\n",
       "    </tr>\n",
       "    <tr>\n",
       "      <th>Taiwan</th>\n",
       "      <td>2.57</td>\n",
       "    </tr>\n",
       "    <tr>\n",
       "      <th>Rumänien</th>\n",
       "      <td>2.47</td>\n",
       "    </tr>\n",
       "    <tr>\n",
       "      <th>Malaysia</th>\n",
       "      <td>2.47</td>\n",
       "    </tr>\n",
       "    <tr>\n",
       "      <th>Indonesien</th>\n",
       "      <td>2.41</td>\n",
       "    </tr>\n",
       "    <tr>\n",
       "      <th>Aserbaidschan</th>\n",
       "      <td>2.32</td>\n",
       "    </tr>\n",
       "    <tr>\n",
       "      <th>Ukraine</th>\n",
       "      <td>2.20</td>\n",
       "    </tr>\n",
       "    <tr>\n",
       "      <th>Südafrika</th>\n",
       "      <td>2.16</td>\n",
       "    </tr>\n",
       "    <tr>\n",
       "      <th>Türkei</th>\n",
       "      <td>2.01</td>\n",
       "    </tr>\n",
       "    <tr>\n",
       "      <th>Russland</th>\n",
       "      <td>1.81</td>\n",
       "    </tr>\n",
       "    <tr>\n",
       "      <th>Libanon</th>\n",
       "      <td>1.77</td>\n",
       "    </tr>\n",
       "  </tbody>\n",
       "</table>\n",
       "</div>"
      ],
      "text/plain": [
       "                              Big-Mac-Index (in US-Dollar)\n",
       "Land                                                      \n",
       "Schweiz                                               7.29\n",
       "Schweden                                              6.37\n",
       "Norwegen                                              6.09\n",
       "USA                                                   5.66\n",
       "Israel                                                5.35\n",
       "Kanada                                                5.29\n",
       "Eurozone                                              5.16\n",
       "Australien                                            4.98\n",
       "Dänemark                                              4.90\n",
       "Neuseeland                                            4.87\n",
       "Uruguay                                               4.80\n",
       "Großbritannien                                        4.44\n",
       "Singapur                                              4.43\n",
       "Thailand                                              4.25\n",
       "Tschechien                                            4.12\n",
       "Südkorea                                              4.10\n",
       "Chile                                                 4.09\n",
       "Vereinigte Arabische Emirate                          4.02\n",
       "Bahrain                                               3.98\n",
       "Brasilien                                             3.98\n",
       "Costa Rica                                            3.83\n",
       "Kuwait                                                3.79\n",
       "Argentinien                                           3.75\n",
       "Kolumbien                                             3.74\n",
       "Japan                                                 3.74\n",
       "Saudi Arabien                                         3.73\n",
       "Sri Lanka                                             3.70\n",
       "Kroatien                                              3.69\n",
       "Honduras                                              3.61\n",
       "Katar                                                 3.57\n",
       "Nicaragua                                             3.56\n",
       "Polen                                                 3.51\n",
       "China                                                 3.46\n",
       "Pakistan                                              3.43\n",
       "Peru                                                  3.29\n",
       "Jordanien                                             3.24\n",
       "Guatemala                                             3.20\n",
       "Ungarn                                                3.03\n",
       "Philippinen                                           2.95\n",
       "Moldawien                                             2.90\n",
       "Vietnam                                               2.86\n",
       "Oman                                                  2.86\n",
       "Ägypten                                               2.72\n",
       "Mexiko                                                2.68\n",
       "Hongkong                                              2.64\n",
       "Indien                                                2.59\n",
       "Taiwan                                                2.57\n",
       "Rumänien                                              2.47\n",
       "Malaysia                                              2.47\n",
       "Indonesien                                            2.41\n",
       "Aserbaidschan                                         2.32\n",
       "Ukraine                                               2.20\n",
       "Südafrika                                             2.16\n",
       "Türkei                                                2.01\n",
       "Russland                                              1.81\n",
       "Libanon                                               1.77"
      ]
     },
     "execution_count": 64,
     "metadata": {},
     "output_type": "execute_result"
    }
   ],
   "source": [
    "daten = pd.read_csv('part04_data/statistic_id199335_big-mac-index.csv', index_col=0)\n",
    "\n",
    "daten.info()\n",
    "daten"
   ]
  },
  {
   "cell_type": "code",
   "execution_count": 66,
   "id": "45fe0781",
   "metadata": {},
   "outputs": [
    {
     "data": {
      "text/plain": [
       "<AxesSubplot:xlabel='Land'>"
      ]
     },
     "execution_count": 66,
     "metadata": {},
     "output_type": "execute_result"
    },
    {
     "data": {
      "image/png": "[encoded data removed]",
      "text/plain": [
       "<Figure size 432x288 with 1 Axes>"
      ]
     },
     "metadata": {
      "needs_background": "light"
     },
     "output_type": "display_data"
    }
   ],
   "source": [
    "daten.plot(kind='bar')"
   ]
  },
  {
   "cell_type": "code",
   "execution_count": 68,
   "id": "f9b07136",
   "metadata": {},
   "outputs": [
    {
     "data": {
      "text/plain": [
       "Big-Mac-Index (in US-Dollar)    5.16\n",
       "Name: Eurozone, dtype: float64"
      ]
     },
     "execution_count": 68,
     "metadata": {},
     "output_type": "execute_result"
    }
   ],
   "source": [
    "daten.loc['Eurozone']"
   ]
  },
  {
   "cell_type": "code",
   "execution_count": 75,
   "id": "d481ff03",
   "metadata": {},
   "outputs": [
    {
     "data": {
      "text/html": [
       "<div>\n",
       "<style scoped>\n",
       "    .dataframe tbody tr th:only-of-type {\n",
       "        vertical-align: middle;\n",
       "    }\n",
       "\n",
       "    .dataframe tbody tr th {\n",
       "        vertical-align: top;\n",
       "    }\n",
       "\n",
       "    .dataframe thead th {\n",
       "        text-align: right;\n",
       "    }\n",
       "</style>\n",
       "<table border=\"1\" class=\"dataframe\">\n",
       "  <thead>\n",
       "    <tr style=\"text-align: right;\">\n",
       "      <th></th>\n",
       "      <th>Inhalt</th>\n",
       "      <th>Anzahl der Views bis Mai 2021 (in Milliarden)</th>\n",
       "    </tr>\n",
       "    <tr>\n",
       "      <th>YouTuber</th>\n",
       "      <th></th>\n",
       "      <th></th>\n",
       "    </tr>\n",
       "  </thead>\n",
       "  <tbody>\n",
       "    <tr>\n",
       "      <th>Pinkfong Kids' Songs &amp; Stories</th>\n",
       "      <td>Baby Shark Dance</td>\n",
       "      <td>8.58</td>\n",
       "    </tr>\n",
       "    <tr>\n",
       "      <th>Luis Fonsi ft. Daddy Yankee</th>\n",
       "      <td>Despacito</td>\n",
       "      <td>7.35</td>\n",
       "    </tr>\n",
       "    <tr>\n",
       "      <th>LooLoo Kids</th>\n",
       "      <td>Johny Johny Yes Papa</td>\n",
       "      <td>5.31</td>\n",
       "    </tr>\n",
       "    <tr>\n",
       "      <th>Ed Sheeran</th>\n",
       "      <td>Shape of You</td>\n",
       "      <td>5.31</td>\n",
       "    </tr>\n",
       "    <tr>\n",
       "      <th>Wiz Khalifa ft. Charlie Puth</th>\n",
       "      <td>See You Again</td>\n",
       "      <td>5.10</td>\n",
       "    </tr>\n",
       "    <tr>\n",
       "      <th>Get Movies</th>\n",
       "      <td>Masha and the Bear: Recipe for Disaster</td>\n",
       "      <td>4.44</td>\n",
       "    </tr>\n",
       "    <tr>\n",
       "      <th>Mark Ronson ft. Bruno Mars</th>\n",
       "      <td>Uptown Funk</td>\n",
       "      <td>4.18</td>\n",
       "    </tr>\n",
       "    <tr>\n",
       "      <th>Psy</th>\n",
       "      <td>Gangnam Style</td>\n",
       "      <td>4.06</td>\n",
       "    </tr>\n",
       "    <tr>\n",
       "      <th>Miroshka TV</th>\n",
       "      <td>Learning Colors - Colorful Eggs on a Farm</td>\n",
       "      <td>4.05</td>\n",
       "    </tr>\n",
       "    <tr>\n",
       "      <th>Cocomelon</th>\n",
       "      <td>Bath Song</td>\n",
       "      <td>4.03</td>\n",
       "    </tr>\n",
       "  </tbody>\n",
       "</table>\n",
       "</div>"
      ],
      "text/plain": [
       "                                                                   Inhalt  \\\n",
       "YouTuber                                                                    \n",
       "Pinkfong Kids' Songs & Stories                           Baby Shark Dance   \n",
       "Luis Fonsi ft. Daddy Yankee                                     Despacito   \n",
       "LooLoo Kids                                          Johny Johny Yes Papa   \n",
       "Ed Sheeran                                                   Shape of You   \n",
       "Wiz Khalifa ft. Charlie Puth                                See You Again   \n",
       "Get Movies                        Masha and the Bear: Recipe for Disaster   \n",
       "Mark Ronson ft. Bruno Mars                                    Uptown Funk   \n",
       "Psy                                                         Gangnam Style   \n",
       "Miroshka TV                     Learning Colors - Colorful Eggs on a Farm   \n",
       "Cocomelon                                                       Bath Song   \n",
       "\n",
       "                                Anzahl der Views bis Mai 2021 (in Milliarden)  \n",
       "YouTuber                                                                       \n",
       "Pinkfong Kids' Songs & Stories                                           8.58  \n",
       "Luis Fonsi ft. Daddy Yankee                                              7.35  \n",
       "LooLoo Kids                                                              5.31  \n",
       "Ed Sheeran                                                               5.31  \n",
       "Wiz Khalifa ft. Charlie Puth                                             5.10  \n",
       "Get Movies                                                               4.44  \n",
       "Mark Ronson ft. Bruno Mars                                               4.18  \n",
       "Psy                                                                      4.06  \n",
       "Miroshka TV                                                              4.05  \n",
       "Cocomelon                                                                4.03  "
      ]
     },
     "execution_count": 75,
     "metadata": {},
     "output_type": "execute_result"
    }
   ],
   "source": [
    "daten = pd.read_csv('part04_data/statistic_id246583_youtube-videos.csv', index_col=0)\n",
    "daten\n"
   ]
  },
  {
   "cell_type": "code",
   "execution_count": 76,
   "id": "bfe6fcea",
   "metadata": {},
   "outputs": [
    {
     "data": {
      "text/plain": [
       "<AxesSubplot:xlabel='YouTuber'>"
      ]
     },
     "execution_count": 76,
     "metadata": {},
     "output_type": "execute_result"
    },
    {
     "data": {
      "image/png": "[encoded data removed]",
      "text/plain": [
       "<Figure size 432x288 with 1 Axes>"
      ]
     },
     "metadata": {
      "needs_background": "light"
     },
     "output_type": "display_data"
    }
   ],
   "source": [
    "daten.plot(kind='bar')"
   ]
  },
  {
   "cell_type": "code",
   "execution_count": 79,
   "id": "59252270",
   "metadata": {},
   "outputs": [
    {
     "data": {
      "text/html": [
       "<div>\n",
       "<style scoped>\n",
       "    .dataframe tbody tr th:only-of-type {\n",
       "        vertical-align: middle;\n",
       "    }\n",
       "\n",
       "    .dataframe tbody tr th {\n",
       "        vertical-align: top;\n",
       "    }\n",
       "\n",
       "    .dataframe thead th {\n",
       "        text-align: right;\n",
       "    }\n",
       "</style>\n",
       "<table border=\"1\" class=\"dataframe\">\n",
       "  <thead>\n",
       "    <tr style=\"text-align: right;\">\n",
       "      <th></th>\n",
       "      <th>Consumption</th>\n",
       "      <th>Wind</th>\n",
       "      <th>Solar</th>\n",
       "      <th>Wind+Solar</th>\n",
       "    </tr>\n",
       "    <tr>\n",
       "      <th>Date</th>\n",
       "      <th></th>\n",
       "      <th></th>\n",
       "      <th></th>\n",
       "      <th></th>\n",
       "    </tr>\n",
       "  </thead>\n",
       "  <tbody>\n",
       "    <tr>\n",
       "      <th>2006-01-01</th>\n",
       "      <td>1069.18400</td>\n",
       "      <td>NaN</td>\n",
       "      <td>NaN</td>\n",
       "      <td>NaN</td>\n",
       "    </tr>\n",
       "    <tr>\n",
       "      <th>2006-01-02</th>\n",
       "      <td>1380.52100</td>\n",
       "      <td>NaN</td>\n",
       "      <td>NaN</td>\n",
       "      <td>NaN</td>\n",
       "    </tr>\n",
       "    <tr>\n",
       "      <th>2006-01-03</th>\n",
       "      <td>1442.53300</td>\n",
       "      <td>NaN</td>\n",
       "      <td>NaN</td>\n",
       "      <td>NaN</td>\n",
       "    </tr>\n",
       "    <tr>\n",
       "      <th>2006-01-04</th>\n",
       "      <td>1457.21700</td>\n",
       "      <td>NaN</td>\n",
       "      <td>NaN</td>\n",
       "      <td>NaN</td>\n",
       "    </tr>\n",
       "    <tr>\n",
       "      <th>2006-01-05</th>\n",
       "      <td>1477.13100</td>\n",
       "      <td>NaN</td>\n",
       "      <td>NaN</td>\n",
       "      <td>NaN</td>\n",
       "    </tr>\n",
       "    <tr>\n",
       "      <th>...</th>\n",
       "      <td>...</td>\n",
       "      <td>...</td>\n",
       "      <td>...</td>\n",
       "      <td>...</td>\n",
       "    </tr>\n",
       "    <tr>\n",
       "      <th>2017-12-27</th>\n",
       "      <td>1263.94091</td>\n",
       "      <td>394.507</td>\n",
       "      <td>16.530</td>\n",
       "      <td>411.037</td>\n",
       "    </tr>\n",
       "    <tr>\n",
       "      <th>2017-12-28</th>\n",
       "      <td>1299.86398</td>\n",
       "      <td>506.424</td>\n",
       "      <td>14.162</td>\n",
       "      <td>520.586</td>\n",
       "    </tr>\n",
       "    <tr>\n",
       "      <th>2017-12-29</th>\n",
       "      <td>1295.08753</td>\n",
       "      <td>584.277</td>\n",
       "      <td>29.854</td>\n",
       "      <td>614.131</td>\n",
       "    </tr>\n",
       "    <tr>\n",
       "      <th>2017-12-30</th>\n",
       "      <td>1215.44897</td>\n",
       "      <td>721.247</td>\n",
       "      <td>7.467</td>\n",
       "      <td>728.714</td>\n",
       "    </tr>\n",
       "    <tr>\n",
       "      <th>2017-12-31</th>\n",
       "      <td>1107.11488</td>\n",
       "      <td>721.176</td>\n",
       "      <td>19.980</td>\n",
       "      <td>741.156</td>\n",
       "    </tr>\n",
       "  </tbody>\n",
       "</table>\n",
       "<p>4383 rows × 4 columns</p>\n",
       "</div>"
      ],
      "text/plain": [
       "            Consumption     Wind   Solar  Wind+Solar\n",
       "Date                                                \n",
       "2006-01-01   1069.18400      NaN     NaN         NaN\n",
       "2006-01-02   1380.52100      NaN     NaN         NaN\n",
       "2006-01-03   1442.53300      NaN     NaN         NaN\n",
       "2006-01-04   1457.21700      NaN     NaN         NaN\n",
       "2006-01-05   1477.13100      NaN     NaN         NaN\n",
       "...                 ...      ...     ...         ...\n",
       "2017-12-27   1263.94091  394.507  16.530     411.037\n",
       "2017-12-28   1299.86398  506.424  14.162     520.586\n",
       "2017-12-29   1295.08753  584.277  29.854     614.131\n",
       "2017-12-30   1215.44897  721.247   7.467     728.714\n",
       "2017-12-31   1107.11488  721.176  19.980     741.156\n",
       "\n",
       "[4383 rows x 4 columns]"
      ]
     },
     "execution_count": 79,
     "metadata": {},
     "output_type": "execute_result"
    }
   ],
   "source": [
    "data = pd.read_csv('part04_data/kaggle_opsd_germany_daily.csv', index_col=0)\n",
    "data "
   ]
  }
 ],
 "metadata": {
  "interpreter": {
   "hash": "8e9c262316df7bce4515c1e5a75e950c02ea8cf58732b4de0c4de521774b2c62"
  },
  "kernelspec": {
   "display_name": "Python 3",
   "language": "python",
   "name": "python3"
  },
  "language_info": {
   "codemirror_mode": {
    "name": "ipython",
    "version": 3
   },
   "file_extension": ".py",
   "mimetype": "text/x-python",
   "name": "python",
   "nbconvert_exporter": "python",
   "pygments_lexer": "ipython3",
   "version": "3.8.3"
  }
 },
 "nbformat": 4,
 "nbformat_minor": 5
}
